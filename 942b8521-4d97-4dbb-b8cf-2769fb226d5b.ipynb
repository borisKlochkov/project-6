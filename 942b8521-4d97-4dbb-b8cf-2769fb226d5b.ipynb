{
 "cells": [
  {
   "cell_type": "markdown",
   "metadata": {},
   "source": [
    "<div style=\"padding: 30px 25px; border: 2px #6495ed solid\">\n",
    "    \n",
    "<b>Привет, Борис!</b>\n",
    "\n",
    "Меня зовут Алексей, и я буду проверять твой проект.\n",
    "    \n",
    "Предлагаю общаться на «<b>ты</b>», но если это неудобно — обязательно сообщи об этом.\n",
    "    \n",
    "Ниже ты увидишь мои комментарии, выделенные разным цветом:\n",
    "    \n",
    "<div class=\"alert alert-success\">\n",
    "<h2>Комментарий ревьюера<a class=\"tocSkip\"></a></h2>\n",
    "\n",
    "<b>Отлично!</b> ✔️: все ок, продолжай в том же духе :)\n",
    "\n",
    "</div>\n",
    "<div class=\"alert alert-warning\">\n",
    "<h2>Комментарий ревьюера<a class=\"tocSkip\"></a></h2>\n",
    "    \n",
    "<b>Есть совет</b> ⚠️: так выделены некритичные замечания или советы, которые смогут улучшить твой проект.\n",
    "\n",
    "</div>\n",
    "<div class=\"alert alert-danger\">\n",
    "<h2>Комментарий ревьюера<a class=\"tocSkip\"></a></h2>\n",
    "\n",
    "<b>Нужно доработать</b> ❌: так выделены важные замечания — без их исправления проект не может быть принят.\n",
    "    \n",
    "</div>\n",
    "\n",
    "Будет здорово, если ты будешь участвовать в диалоге, а свои вопросы, комментарии и изменения в проекте тоже будешь выделять, например, вот так:\n",
    "    \n",
    "<div class=\"alert alert-info\">\n",
    "    <b>Комментарий студента:</b> твой комментарий\n",
    "</div>\n",
    "    \n",
    "Пожалуйста, не перемещай и не удаляй мои комментарии, это усложнит повторную проверку.\n",
    "    \n",
    "</div>"
   ]
  },
  {
   "cell_type": "markdown",
   "metadata": {},
   "source": [
    "<div style=\"padding: 30px 25px; border: 2px #6495ed solid\">\n",
    "    \n",
    "<b>Еще раз привет!</b>\n",
    "\n",
    "Спасибо, что доделал работу, оформление комментариев остается тем же, только обозначим номер итерации: v2\n",
    "    \n",
    "</div>"
   ]
  },
  {
   "cell_type": "markdown",
   "metadata": {
    "toc": true
   },
   "source": [
    "<h1>Содержание<span class=\"tocSkip\"></span></h1>\n",
    "<div class=\"toc\"><ul class=\"toc-item\"><li><span><a href=\"#Подготовка-данных\" data-toc-modified-id=\"Подготовка-данных-1\"><span class=\"toc-item-num\">1&nbsp;&nbsp;</span>Подготовка данных</a></span></li><li><span><a href=\"#Исследование-задачи\" data-toc-modified-id=\"Исследование-задачи-2\"><span class=\"toc-item-num\">2&nbsp;&nbsp;</span>Исследование задачи</a></span></li><li><span><a href=\"#Борьба-с-дисбалансом\" data-toc-modified-id=\"Борьба-с-дисбалансом-3\"><span class=\"toc-item-num\">3&nbsp;&nbsp;</span>Борьба с дисбалансом</a></span></li><li><span><a href=\"#Тестирование-модели\" data-toc-modified-id=\"Тестирование-модели-4\"><span class=\"toc-item-num\">4&nbsp;&nbsp;</span>Тестирование модели</a></span></li><li><span><a href=\"#Чек-лист-готовности-проекта\" data-toc-modified-id=\"Чек-лист-готовности-проекта-5\"><span class=\"toc-item-num\">5&nbsp;&nbsp;</span>Чек-лист готовности проекта</a></span></li></ul></div>"
   ]
  },
  {
   "cell_type": "markdown",
   "metadata": {},
   "source": [
    "# Отток клиентов"
   ]
  },
  {
   "cell_type": "markdown",
   "metadata": {},
   "source": [
    "Из «Бета-Банка» стали уходить клиенты. Каждый месяц. Немного, но заметно. Банковские маркетологи посчитали: сохранять текущих клиентов дешевле, чем привлекать новых.\n",
    "\n",
    "Нужно спрогнозировать, уйдёт клиент из банка в ближайшее время или нет. Вам предоставлены исторические данные о поведении клиентов и расторжении договоров с банком. \n",
    "\n",
    "Постройте модель с предельно большим значением *F1*-меры. Чтобы сдать проект успешно, нужно довести метрику до 0.59. Проверьте *F1*-меру на тестовой выборке самостоятельно.\n",
    "\n",
    "Дополнительно измеряйте *AUC-ROC*, сравнивайте её значение с *F1*-мерой.\n",
    "\n",
    "Источник данных: [https://www.kaggle.com/barelydedicated/bank-customer-churn-modeling](https://www.kaggle.com/barelydedicated/bank-customer-churn-modeling)"
   ]
  },
  {
   "cell_type": "markdown",
   "metadata": {},
   "source": [
    "## Подготовка данных"
   ]
  },
  {
   "cell_type": "code",
   "execution_count": 1,
   "metadata": {},
   "outputs": [],
   "source": [
    "import pandas as pd\n",
    "import numpy as np\n",
    "import matplotlib.pyplot as plt\n",
    "from sklearn.model_selection import train_test_split\n",
    "from sklearn.preprocessing import StandardScaler"
   ]
  },
  {
   "cell_type": "code",
   "execution_count": 2,
   "metadata": {},
   "outputs": [
    {
     "data": {
      "text/html": [
       "<div>\n",
       "<style scoped>\n",
       "    .dataframe tbody tr th:only-of-type {\n",
       "        vertical-align: middle;\n",
       "    }\n",
       "\n",
       "    .dataframe tbody tr th {\n",
       "        vertical-align: top;\n",
       "    }\n",
       "\n",
       "    .dataframe thead th {\n",
       "        text-align: right;\n",
       "    }\n",
       "</style>\n",
       "<table border=\"1\" class=\"dataframe\">\n",
       "  <thead>\n",
       "    <tr style=\"text-align: right;\">\n",
       "      <th></th>\n",
       "      <th>RowNumber</th>\n",
       "      <th>CustomerId</th>\n",
       "      <th>Surname</th>\n",
       "      <th>CreditScore</th>\n",
       "      <th>Geography</th>\n",
       "      <th>Gender</th>\n",
       "      <th>Age</th>\n",
       "      <th>Tenure</th>\n",
       "      <th>Balance</th>\n",
       "      <th>NumOfProducts</th>\n",
       "      <th>HasCrCard</th>\n",
       "      <th>IsActiveMember</th>\n",
       "      <th>EstimatedSalary</th>\n",
       "      <th>Exited</th>\n",
       "    </tr>\n",
       "  </thead>\n",
       "  <tbody>\n",
       "    <tr>\n",
       "      <th>0</th>\n",
       "      <td>1</td>\n",
       "      <td>15634602</td>\n",
       "      <td>Hargrave</td>\n",
       "      <td>619</td>\n",
       "      <td>France</td>\n",
       "      <td>Female</td>\n",
       "      <td>42</td>\n",
       "      <td>2.0</td>\n",
       "      <td>0.00</td>\n",
       "      <td>1</td>\n",
       "      <td>1</td>\n",
       "      <td>1</td>\n",
       "      <td>101348.88</td>\n",
       "      <td>1</td>\n",
       "    </tr>\n",
       "    <tr>\n",
       "      <th>1</th>\n",
       "      <td>2</td>\n",
       "      <td>15647311</td>\n",
       "      <td>Hill</td>\n",
       "      <td>608</td>\n",
       "      <td>Spain</td>\n",
       "      <td>Female</td>\n",
       "      <td>41</td>\n",
       "      <td>1.0</td>\n",
       "      <td>83807.86</td>\n",
       "      <td>1</td>\n",
       "      <td>0</td>\n",
       "      <td>1</td>\n",
       "      <td>112542.58</td>\n",
       "      <td>0</td>\n",
       "    </tr>\n",
       "    <tr>\n",
       "      <th>2</th>\n",
       "      <td>3</td>\n",
       "      <td>15619304</td>\n",
       "      <td>Onio</td>\n",
       "      <td>502</td>\n",
       "      <td>France</td>\n",
       "      <td>Female</td>\n",
       "      <td>42</td>\n",
       "      <td>8.0</td>\n",
       "      <td>159660.80</td>\n",
       "      <td>3</td>\n",
       "      <td>1</td>\n",
       "      <td>0</td>\n",
       "      <td>113931.57</td>\n",
       "      <td>1</td>\n",
       "    </tr>\n",
       "    <tr>\n",
       "      <th>3</th>\n",
       "      <td>4</td>\n",
       "      <td>15701354</td>\n",
       "      <td>Boni</td>\n",
       "      <td>699</td>\n",
       "      <td>France</td>\n",
       "      <td>Female</td>\n",
       "      <td>39</td>\n",
       "      <td>1.0</td>\n",
       "      <td>0.00</td>\n",
       "      <td>2</td>\n",
       "      <td>0</td>\n",
       "      <td>0</td>\n",
       "      <td>93826.63</td>\n",
       "      <td>0</td>\n",
       "    </tr>\n",
       "    <tr>\n",
       "      <th>4</th>\n",
       "      <td>5</td>\n",
       "      <td>15737888</td>\n",
       "      <td>Mitchell</td>\n",
       "      <td>850</td>\n",
       "      <td>Spain</td>\n",
       "      <td>Female</td>\n",
       "      <td>43</td>\n",
       "      <td>2.0</td>\n",
       "      <td>125510.82</td>\n",
       "      <td>1</td>\n",
       "      <td>1</td>\n",
       "      <td>1</td>\n",
       "      <td>79084.10</td>\n",
       "      <td>0</td>\n",
       "    </tr>\n",
       "  </tbody>\n",
       "</table>\n",
       "</div>"
      ],
      "text/plain": [
       "   RowNumber  CustomerId   Surname  CreditScore Geography  Gender  Age  \\\n",
       "0          1    15634602  Hargrave          619    France  Female   42   \n",
       "1          2    15647311      Hill          608     Spain  Female   41   \n",
       "2          3    15619304      Onio          502    France  Female   42   \n",
       "3          4    15701354      Boni          699    France  Female   39   \n",
       "4          5    15737888  Mitchell          850     Spain  Female   43   \n",
       "\n",
       "   Tenure    Balance  NumOfProducts  HasCrCard  IsActiveMember  \\\n",
       "0     2.0       0.00              1          1               1   \n",
       "1     1.0   83807.86              1          0               1   \n",
       "2     8.0  159660.80              3          1               0   \n",
       "3     1.0       0.00              2          0               0   \n",
       "4     2.0  125510.82              1          1               1   \n",
       "\n",
       "   EstimatedSalary  Exited  \n",
       "0        101348.88       1  \n",
       "1        112542.58       0  \n",
       "2        113931.57       1  \n",
       "3         93826.63       0  \n",
       "4         79084.10       0  "
      ]
     },
     "execution_count": 2,
     "metadata": {},
     "output_type": "execute_result"
    }
   ],
   "source": [
    "data = pd.read_csv('/datasets/Churn.csv')\n",
    "data.head()"
   ]
  },
  {
   "cell_type": "code",
   "execution_count": 3,
   "metadata": {},
   "outputs": [
    {
     "name": "stdout",
     "output_type": "stream",
     "text": [
      "<class 'pandas.core.frame.DataFrame'>\n",
      "RangeIndex: 10000 entries, 0 to 9999\n",
      "Data columns (total 14 columns):\n",
      " #   Column           Non-Null Count  Dtype  \n",
      "---  ------           --------------  -----  \n",
      " 0   RowNumber        10000 non-null  int64  \n",
      " 1   CustomerId       10000 non-null  int64  \n",
      " 2   Surname          10000 non-null  object \n",
      " 3   CreditScore      10000 non-null  int64  \n",
      " 4   Geography        10000 non-null  object \n",
      " 5   Gender           10000 non-null  object \n",
      " 6   Age              10000 non-null  int64  \n",
      " 7   Tenure           9091 non-null   float64\n",
      " 8   Balance          10000 non-null  float64\n",
      " 9   NumOfProducts    10000 non-null  int64  \n",
      " 10  HasCrCard        10000 non-null  int64  \n",
      " 11  IsActiveMember   10000 non-null  int64  \n",
      " 12  EstimatedSalary  10000 non-null  float64\n",
      " 13  Exited           10000 non-null  int64  \n",
      "dtypes: float64(3), int64(8), object(3)\n",
      "memory usage: 1.1+ MB\n"
     ]
    }
   ],
   "source": [
    "data.info()"
   ]
  },
  {
   "cell_type": "markdown",
   "metadata": {},
   "source": [
    "<div class=\"alert alert-success\">\n",
    "<h2>Комментарий ревьюера<a class=\"tocSkip\"></a></h2>\n",
    "    \n",
    "**Отлично!** ✔️: данные на месте!</div>"
   ]
  },
  {
   "cell_type": "code",
   "execution_count": 4,
   "metadata": {},
   "outputs": [
    {
     "data": {
      "text/plain": [
       "0        2.0\n",
       "1        1.0\n",
       "2        8.0\n",
       "3        1.0\n",
       "4        2.0\n",
       "        ... \n",
       "9995     5.0\n",
       "9996    10.0\n",
       "9997     7.0\n",
       "9998     3.0\n",
       "9999     5.0\n",
       "Name: Tenure, Length: 10000, dtype: float64"
      ]
     },
     "execution_count": 4,
     "metadata": {},
     "output_type": "execute_result"
    }
   ],
   "source": [
    "data['Tenure'].fillna(data['Tenure'].median())"
   ]
  },
  {
   "cell_type": "code",
   "execution_count": 5,
   "metadata": {},
   "outputs": [],
   "source": [
    "data['Tenure'] = data['Tenure'].fillna(data['Tenure'].median())"
   ]
  },
  {
   "cell_type": "markdown",
   "metadata": {},
   "source": [
    "<div class=\"alert alert-warning\">\n",
    "<h2>Комментарий ревьюера v2<a class=\"tocSkip\"></a></h2>\n",
    "    \n",
    "**Есть совет** ⚠️: заполнить пропуски медианой действительно можно, но стоит убедиться, что такое заполнение не исказит распределение признака. Для этого можно изучить характеристики распределения(mean, std, median) до и после заполнения, и проверить, что они изменились незначительно</div>"
   ]
  },
  {
   "cell_type": "code",
   "execution_count": 6,
   "metadata": {},
   "outputs": [
    {
     "data": {
      "text/plain": [
       "array(['France', 'Spain', 'Germany'], dtype=object)"
      ]
     },
     "execution_count": 6,
     "metadata": {},
     "output_type": "execute_result"
    }
   ],
   "source": [
    "data['Geography'].unique()"
   ]
  },
  {
   "cell_type": "markdown",
   "metadata": {},
   "source": [
    "всего 3 уникальныых страны"
   ]
  },
  {
   "cell_type": "code",
   "execution_count": 7,
   "metadata": {},
   "outputs": [
    {
     "data": {
      "text/plain": [
       "0"
      ]
     },
     "execution_count": 7,
     "metadata": {},
     "output_type": "execute_result"
    }
   ],
   "source": [
    "data.duplicated().sum()"
   ]
  },
  {
   "cell_type": "markdown",
   "metadata": {},
   "source": [
    "дубликатов нет"
   ]
  },
  {
   "cell_type": "code",
   "execution_count": 8,
   "metadata": {},
   "outputs": [
    {
     "data": {
      "text/html": [
       "<div>\n",
       "<style scoped>\n",
       "    .dataframe tbody tr th:only-of-type {\n",
       "        vertical-align: middle;\n",
       "    }\n",
       "\n",
       "    .dataframe tbody tr th {\n",
       "        vertical-align: top;\n",
       "    }\n",
       "\n",
       "    .dataframe thead th {\n",
       "        text-align: right;\n",
       "    }\n",
       "</style>\n",
       "<table border=\"1\" class=\"dataframe\">\n",
       "  <thead>\n",
       "    <tr style=\"text-align: right;\">\n",
       "      <th></th>\n",
       "      <th>CreditScore</th>\n",
       "      <th>Geography</th>\n",
       "      <th>Gender</th>\n",
       "      <th>Age</th>\n",
       "      <th>Tenure</th>\n",
       "      <th>Balance</th>\n",
       "      <th>NumOfProducts</th>\n",
       "      <th>HasCrCard</th>\n",
       "      <th>IsActiveMember</th>\n",
       "      <th>EstimatedSalary</th>\n",
       "      <th>Exited</th>\n",
       "    </tr>\n",
       "  </thead>\n",
       "  <tbody>\n",
       "    <tr>\n",
       "      <th>0</th>\n",
       "      <td>619</td>\n",
       "      <td>France</td>\n",
       "      <td>Female</td>\n",
       "      <td>42</td>\n",
       "      <td>2.0</td>\n",
       "      <td>0.00</td>\n",
       "      <td>1</td>\n",
       "      <td>1</td>\n",
       "      <td>1</td>\n",
       "      <td>101348.88</td>\n",
       "      <td>1</td>\n",
       "    </tr>\n",
       "    <tr>\n",
       "      <th>1</th>\n",
       "      <td>608</td>\n",
       "      <td>Spain</td>\n",
       "      <td>Female</td>\n",
       "      <td>41</td>\n",
       "      <td>1.0</td>\n",
       "      <td>83807.86</td>\n",
       "      <td>1</td>\n",
       "      <td>0</td>\n",
       "      <td>1</td>\n",
       "      <td>112542.58</td>\n",
       "      <td>0</td>\n",
       "    </tr>\n",
       "    <tr>\n",
       "      <th>2</th>\n",
       "      <td>502</td>\n",
       "      <td>France</td>\n",
       "      <td>Female</td>\n",
       "      <td>42</td>\n",
       "      <td>8.0</td>\n",
       "      <td>159660.80</td>\n",
       "      <td>3</td>\n",
       "      <td>1</td>\n",
       "      <td>0</td>\n",
       "      <td>113931.57</td>\n",
       "      <td>1</td>\n",
       "    </tr>\n",
       "    <tr>\n",
       "      <th>3</th>\n",
       "      <td>699</td>\n",
       "      <td>France</td>\n",
       "      <td>Female</td>\n",
       "      <td>39</td>\n",
       "      <td>1.0</td>\n",
       "      <td>0.00</td>\n",
       "      <td>2</td>\n",
       "      <td>0</td>\n",
       "      <td>0</td>\n",
       "      <td>93826.63</td>\n",
       "      <td>0</td>\n",
       "    </tr>\n",
       "    <tr>\n",
       "      <th>4</th>\n",
       "      <td>850</td>\n",
       "      <td>Spain</td>\n",
       "      <td>Female</td>\n",
       "      <td>43</td>\n",
       "      <td>2.0</td>\n",
       "      <td>125510.82</td>\n",
       "      <td>1</td>\n",
       "      <td>1</td>\n",
       "      <td>1</td>\n",
       "      <td>79084.10</td>\n",
       "      <td>0</td>\n",
       "    </tr>\n",
       "  </tbody>\n",
       "</table>\n",
       "</div>"
      ],
      "text/plain": [
       "   CreditScore Geography  Gender  Age  Tenure    Balance  NumOfProducts  \\\n",
       "0          619    France  Female   42     2.0       0.00              1   \n",
       "1          608     Spain  Female   41     1.0   83807.86              1   \n",
       "2          502    France  Female   42     8.0  159660.80              3   \n",
       "3          699    France  Female   39     1.0       0.00              2   \n",
       "4          850     Spain  Female   43     2.0  125510.82              1   \n",
       "\n",
       "   HasCrCard  IsActiveMember  EstimatedSalary  Exited  \n",
       "0          1               1        101348.88       1  \n",
       "1          0               1        112542.58       0  \n",
       "2          1               0        113931.57       1  \n",
       "3          0               0         93826.63       0  \n",
       "4          1               1         79084.10       0  "
      ]
     },
     "execution_count": 8,
     "metadata": {},
     "output_type": "execute_result"
    }
   ],
   "source": [
    "\n",
    "for_drop = ['RowNumber','CustomerId', 'Surname']\n",
    "data = data.drop(for_drop, axis=1)\n",
    "data.head()"
   ]
  },
  {
   "cell_type": "markdown",
   "metadata": {},
   "source": [
    "удалим столбцы, не предоставляющие ценности для алгоритма"
   ]
  },
  {
   "cell_type": "markdown",
   "metadata": {},
   "source": [
    "<div class=\"alert alert-success\">\n",
    "<h2>Комментарий ревьюера<a class=\"tocSkip\"></a></h2>\n",
    "    \n",
    "**Отлично!** ✔️: согласен, эти признаки для моделей неинформативны</div>"
   ]
  },
  {
   "cell_type": "code",
   "execution_count": 9,
   "metadata": {},
   "outputs": [
    {
     "data": {
      "text/html": [
       "<div>\n",
       "<style scoped>\n",
       "    .dataframe tbody tr th:only-of-type {\n",
       "        vertical-align: middle;\n",
       "    }\n",
       "\n",
       "    .dataframe tbody tr th {\n",
       "        vertical-align: top;\n",
       "    }\n",
       "\n",
       "    .dataframe thead th {\n",
       "        text-align: right;\n",
       "    }\n",
       "</style>\n",
       "<table border=\"1\" class=\"dataframe\">\n",
       "  <thead>\n",
       "    <tr style=\"text-align: right;\">\n",
       "      <th></th>\n",
       "      <th>CreditScore</th>\n",
       "      <th>Age</th>\n",
       "      <th>Tenure</th>\n",
       "      <th>Balance</th>\n",
       "      <th>NumOfProducts</th>\n",
       "      <th>HasCrCard</th>\n",
       "      <th>IsActiveMember</th>\n",
       "      <th>EstimatedSalary</th>\n",
       "      <th>Exited</th>\n",
       "      <th>Geography_Germany</th>\n",
       "      <th>Geography_Spain</th>\n",
       "      <th>Gender_Male</th>\n",
       "    </tr>\n",
       "  </thead>\n",
       "  <tbody>\n",
       "    <tr>\n",
       "      <th>0</th>\n",
       "      <td>619</td>\n",
       "      <td>42</td>\n",
       "      <td>2.0</td>\n",
       "      <td>0.00</td>\n",
       "      <td>1</td>\n",
       "      <td>1</td>\n",
       "      <td>1</td>\n",
       "      <td>101348.88</td>\n",
       "      <td>1</td>\n",
       "      <td>0</td>\n",
       "      <td>0</td>\n",
       "      <td>0</td>\n",
       "    </tr>\n",
       "    <tr>\n",
       "      <th>1</th>\n",
       "      <td>608</td>\n",
       "      <td>41</td>\n",
       "      <td>1.0</td>\n",
       "      <td>83807.86</td>\n",
       "      <td>1</td>\n",
       "      <td>0</td>\n",
       "      <td>1</td>\n",
       "      <td>112542.58</td>\n",
       "      <td>0</td>\n",
       "      <td>0</td>\n",
       "      <td>1</td>\n",
       "      <td>0</td>\n",
       "    </tr>\n",
       "    <tr>\n",
       "      <th>2</th>\n",
       "      <td>502</td>\n",
       "      <td>42</td>\n",
       "      <td>8.0</td>\n",
       "      <td>159660.80</td>\n",
       "      <td>3</td>\n",
       "      <td>1</td>\n",
       "      <td>0</td>\n",
       "      <td>113931.57</td>\n",
       "      <td>1</td>\n",
       "      <td>0</td>\n",
       "      <td>0</td>\n",
       "      <td>0</td>\n",
       "    </tr>\n",
       "    <tr>\n",
       "      <th>3</th>\n",
       "      <td>699</td>\n",
       "      <td>39</td>\n",
       "      <td>1.0</td>\n",
       "      <td>0.00</td>\n",
       "      <td>2</td>\n",
       "      <td>0</td>\n",
       "      <td>0</td>\n",
       "      <td>93826.63</td>\n",
       "      <td>0</td>\n",
       "      <td>0</td>\n",
       "      <td>0</td>\n",
       "      <td>0</td>\n",
       "    </tr>\n",
       "    <tr>\n",
       "      <th>4</th>\n",
       "      <td>850</td>\n",
       "      <td>43</td>\n",
       "      <td>2.0</td>\n",
       "      <td>125510.82</td>\n",
       "      <td>1</td>\n",
       "      <td>1</td>\n",
       "      <td>1</td>\n",
       "      <td>79084.10</td>\n",
       "      <td>0</td>\n",
       "      <td>0</td>\n",
       "      <td>1</td>\n",
       "      <td>0</td>\n",
       "    </tr>\n",
       "  </tbody>\n",
       "</table>\n",
       "</div>"
      ],
      "text/plain": [
       "   CreditScore  Age  Tenure    Balance  NumOfProducts  HasCrCard  \\\n",
       "0          619   42     2.0       0.00              1          1   \n",
       "1          608   41     1.0   83807.86              1          0   \n",
       "2          502   42     8.0  159660.80              3          1   \n",
       "3          699   39     1.0       0.00              2          0   \n",
       "4          850   43     2.0  125510.82              1          1   \n",
       "\n",
       "   IsActiveMember  EstimatedSalary  Exited  Geography_Germany  \\\n",
       "0               1        101348.88       1                  0   \n",
       "1               1        112542.58       0                  0   \n",
       "2               0        113931.57       1                  0   \n",
       "3               0         93826.63       0                  0   \n",
       "4               1         79084.10       0                  0   \n",
       "\n",
       "   Geography_Spain  Gender_Male  \n",
       "0                0            0  \n",
       "1                1            0  \n",
       "2                0            0  \n",
       "3                0            0  \n",
       "4                1            0  "
      ]
     },
     "execution_count": 9,
     "metadata": {},
     "output_type": "execute_result"
    }
   ],
   "source": [
    "data = pd.get_dummies(data, drop_first=True)\n",
    "data.head()"
   ]
  },
  {
   "cell_type": "markdown",
   "metadata": {},
   "source": [
    "<div class=\"alert alert-success\">\n",
    "<h2>Комментарий ревьюера v2<a class=\"tocSkip\"></a></h2>\n",
    "    \n",
    "**Отлично!** ✔️: 👍</div>"
   ]
  },
  {
   "cell_type": "markdown",
   "metadata": {},
   "source": [
    "Данные подготовим методом OHE, что позволит нам использовать модели, деревое решений, случайный лес и логистическую регрессию."
   ]
  },
  {
   "cell_type": "markdown",
   "metadata": {},
   "source": [
    "<div class=\"alert alert-warning\">\n",
    "<h2>Комментарий ревьюера<a class=\"tocSkip\"></a></h2>\n",
    "    \n",
    "**Есть совет** ⚠️: правильнее обучать кодировщик только на обучающей выборке, а трансформировать уже все, аналогично масштабированию, чтобы избежать проблем с кодированием. Тогда вместо get_dummies можно использовать <a href=\"https://scikit-learn.org/stable/modules/generated/sklearn.preprocessing.OneHotEncoder.html\" target=\"blank_\">OneHotEncoder</a>, подробнее про различия можно почитать <a href=\"https://albertum.medium.com/preprocessing-onehotencoder-vs-pandas-get-dummies-3de1f3d77dcc\" target=\"blank_\">здесь</a>, а вот тут есть <a href=\"https://colab.research.google.com/drive/1_gAMXcQKoCShB_l8FNtYEejMnosm9mvt?usp=sharing\">пример</a> использования\n",
    "    \n",
    "И get_dummies, и OneHotEncoder — это две реализации OHE. Но OneHotEncoder — это класс(термин из ООП), поэтому при его инициализации создается объект класса. При обучении кодировщика в его объект сохраняются категории, которые ему были переданы при обучении, поэтому при кодировании других выборок с разным набором категорий в категориальных признаках проблем уже не возникнет.\n",
    "    \n",
    "get_dummies же просто возвращает набор новых столбцов и никакой дополнительной информации уже не хранит. Он подходит для анализа данных, но для ML используется именно OneHotEncoder\n",
    "\n",
    "Обрати внимание, что в следующих проектах это будет считаться критичной ошибкой\n",
    "</div>"
   ]
  },
  {
   "cell_type": "code",
   "execution_count": 10,
   "metadata": {},
   "outputs": [
    {
     "data": {
      "text/plain": [
       "(10000, 12)"
      ]
     },
     "execution_count": 10,
     "metadata": {},
     "output_type": "execute_result"
    }
   ],
   "source": [
    "data.shape"
   ]
  },
  {
   "cell_type": "markdown",
   "metadata": {},
   "source": [
    "выделим целевой признак"
   ]
  },
  {
   "cell_type": "code",
   "execution_count": 11,
   "metadata": {},
   "outputs": [],
   "source": [
    "features = data.drop('Exited', axis=1)\n",
    "target = data['Exited']"
   ]
  },
  {
   "cell_type": "code",
   "execution_count": 12,
   "metadata": {},
   "outputs": [
    {
     "data": {
      "text/plain": [
       "0    1\n",
       "1    0\n",
       "2    1\n",
       "3    0\n",
       "4    0\n",
       "Name: Exited, dtype: int64"
      ]
     },
     "execution_count": 12,
     "metadata": {},
     "output_type": "execute_result"
    }
   ],
   "source": [
    "target.head()"
   ]
  },
  {
   "cell_type": "code",
   "execution_count": 13,
   "metadata": {},
   "outputs": [],
   "source": [
    "features_train, features_validtest, target_train, target_validtest = train_test_split(features,\n",
    "                                                    target,\n",
    "                                                    train_size=0.5,\n",
    "                                                    random_state=12345, \n",
    "                                                    stratify=target)\n"
   ]
  },
  {
   "cell_type": "code",
   "execution_count": 14,
   "metadata": {},
   "outputs": [],
   "source": [
    "features_valid, features_test, target_valid, target_test = train_test_split(features_validtest,\n",
    "                                                    target_validtest,\n",
    "                                                    train_size=0.5,\n",
    "                                                    random_state=12345, \n",
    "                                                    stratify=target_validtest)"
   ]
  },
  {
   "cell_type": "markdown",
   "metadata": {},
   "source": [
    "Разделили оставшиеся 50% выборки на тестовую и валидационную"
   ]
  },
  {
   "cell_type": "markdown",
   "metadata": {},
   "source": [
    "<div class=\"alert alert-success\">\n",
    "<h2>Комментарий ревьюера<a class=\"tocSkip\"></a></h2>\n",
    "    \n",
    "**Отлично!** ✔️: с размерами выборок все окей :) Круто, что знаешь про стратификацию!</div>"
   ]
  },
  {
   "cell_type": "markdown",
   "metadata": {},
   "source": [
    "<div class=\"alert alert-warning\">\n",
    "<h2>Комментарий ревьюера <a class=\"tocSkip\"></a></h2>\n",
    "    \n",
    "**Есть совет** ⚠️: значение random_state лучше вынести в константу, например, RANDOM_STATE. Это общее правило код-стайла не только в Практикуме, а в большинстве языков программирования: мы выносим все константные значения в переменные/константы с читаемым названием и именуем, согласно стандартам PEP-8, заглавными буквами. Так проще читать и дебажить код. Это не обязательное условие, просто полезная привычка на будущее</div>"
   ]
  },
  {
   "cell_type": "code",
   "execution_count": 15,
   "metadata": {},
   "outputs": [],
   "source": [
    "from sklearn.preprocessing import StandardScaler"
   ]
  },
  {
   "cell_type": "markdown",
   "metadata": {},
   "source": [
    "<div class=\"alert alert-warning\">\n",
    "<h2>Комментарий ревьюера<a class=\"tocSkip\"></a></h2>\n",
    "    \n",
    "**Есть совет** ⚠️: все импорты лучше выносить в начало проекта в одну ячейку, согласно стандартам PEP-8. Это общее правило код-стайла, а еще если возникнут проблемы с библиотеками, то об этом станет известно сразу\n",
    "    \n",
    "Тут можно почитать про PEP-8: https://pythonworld.ru/osnovy/pep-8-rukovodstvo-po-napisaniyu-koda-na-python.html\n",
    "</div>"
   ]
  },
  {
   "cell_type": "code",
   "execution_count": 16,
   "metadata": {},
   "outputs": [
    {
     "data": {
      "text/plain": [
       "StandardScaler()"
      ]
     },
     "execution_count": 16,
     "metadata": {},
     "output_type": "execute_result"
    }
   ],
   "source": [
    "numeric = ['CreditScore', 'Age', 'Tenure', 'Balance', 'NumOfProducts', 'EstimatedSalary']\n",
    "scaler = StandardScaler()\n",
    "scaler.fit(features_train[numeric])"
   ]
  },
  {
   "cell_type": "code",
   "execution_count": 17,
   "metadata": {
    "scrolled": true
   },
   "outputs": [
    {
     "name": "stderr",
     "output_type": "stream",
     "text": [
      "/tmp/ipykernel_202/1725773446.py:1: SettingWithCopyWarning: \n",
      "A value is trying to be set on a copy of a slice from a DataFrame.\n",
      "Try using .loc[row_indexer,col_indexer] = value instead\n",
      "\n",
      "See the caveats in the documentation: https://pandas.pydata.org/pandas-docs/stable/user_guide/indexing.html#returning-a-view-versus-a-copy\n",
      "  features_train[numeric] = scaler.transform(features_train[numeric])\n",
      "/opt/conda/lib/python3.9/site-packages/pandas/core/indexing.py:1738: SettingWithCopyWarning: \n",
      "A value is trying to be set on a copy of a slice from a DataFrame.\n",
      "Try using .loc[row_indexer,col_indexer] = value instead\n",
      "\n",
      "See the caveats in the documentation: https://pandas.pydata.org/pandas-docs/stable/user_guide/indexing.html#returning-a-view-versus-a-copy\n",
      "  self._setitem_single_column(loc, value[:, i].tolist(), pi)\n"
     ]
    },
    {
     "data": {
      "text/html": [
       "<div>\n",
       "<style scoped>\n",
       "    .dataframe tbody tr th:only-of-type {\n",
       "        vertical-align: middle;\n",
       "    }\n",
       "\n",
       "    .dataframe tbody tr th {\n",
       "        vertical-align: top;\n",
       "    }\n",
       "\n",
       "    .dataframe thead th {\n",
       "        text-align: right;\n",
       "    }\n",
       "</style>\n",
       "<table border=\"1\" class=\"dataframe\">\n",
       "  <thead>\n",
       "    <tr style=\"text-align: right;\">\n",
       "      <th></th>\n",
       "      <th>CreditScore</th>\n",
       "      <th>Age</th>\n",
       "      <th>Tenure</th>\n",
       "      <th>Balance</th>\n",
       "      <th>NumOfProducts</th>\n",
       "      <th>HasCrCard</th>\n",
       "      <th>IsActiveMember</th>\n",
       "      <th>EstimatedSalary</th>\n",
       "      <th>Geography_Germany</th>\n",
       "      <th>Geography_Spain</th>\n",
       "      <th>Gender_Male</th>\n",
       "    </tr>\n",
       "  </thead>\n",
       "  <tbody>\n",
       "    <tr>\n",
       "      <th>5460</th>\n",
       "      <td>0.111187</td>\n",
       "      <td>0.193128</td>\n",
       "      <td>0.004225</td>\n",
       "      <td>0.740076</td>\n",
       "      <td>0.809174</td>\n",
       "      <td>0</td>\n",
       "      <td>1</td>\n",
       "      <td>0.368972</td>\n",
       "      <td>1</td>\n",
       "      <td>0</td>\n",
       "      <td>1</td>\n",
       "    </tr>\n",
       "    <tr>\n",
       "      <th>3610</th>\n",
       "      <td>-0.726970</td>\n",
       "      <td>1.626818</td>\n",
       "      <td>-1.452695</td>\n",
       "      <td>0.880243</td>\n",
       "      <td>-0.929489</td>\n",
       "      <td>1</td>\n",
       "      <td>0</td>\n",
       "      <td>0.129920</td>\n",
       "      <td>0</td>\n",
       "      <td>0</td>\n",
       "      <td>0</td>\n",
       "    </tr>\n",
       "    <tr>\n",
       "      <th>3892</th>\n",
       "      <td>-1.047746</td>\n",
       "      <td>0.575445</td>\n",
       "      <td>0.368455</td>\n",
       "      <td>0.766921</td>\n",
       "      <td>-0.929489</td>\n",
       "      <td>1</td>\n",
       "      <td>1</td>\n",
       "      <td>0.816963</td>\n",
       "      <td>1</td>\n",
       "      <td>0</td>\n",
       "      <td>1</td>\n",
       "    </tr>\n",
       "    <tr>\n",
       "      <th>4734</th>\n",
       "      <td>-0.623494</td>\n",
       "      <td>1.435659</td>\n",
       "      <td>-0.360005</td>\n",
       "      <td>-1.208445</td>\n",
       "      <td>0.809174</td>\n",
       "      <td>1</td>\n",
       "      <td>1</td>\n",
       "      <td>-0.098170</td>\n",
       "      <td>0</td>\n",
       "      <td>0</td>\n",
       "      <td>0</td>\n",
       "    </tr>\n",
       "    <tr>\n",
       "      <th>6102</th>\n",
       "      <td>-0.085418</td>\n",
       "      <td>-0.284769</td>\n",
       "      <td>0.368455</td>\n",
       "      <td>-1.208445</td>\n",
       "      <td>0.809174</td>\n",
       "      <td>1</td>\n",
       "      <td>1</td>\n",
       "      <td>-0.026458</td>\n",
       "      <td>0</td>\n",
       "      <td>1</td>\n",
       "      <td>0</td>\n",
       "    </tr>\n",
       "  </tbody>\n",
       "</table>\n",
       "</div>"
      ],
      "text/plain": [
       "      CreditScore       Age    Tenure   Balance  NumOfProducts  HasCrCard  \\\n",
       "5460     0.111187  0.193128  0.004225  0.740076       0.809174          0   \n",
       "3610    -0.726970  1.626818 -1.452695  0.880243      -0.929489          1   \n",
       "3892    -1.047746  0.575445  0.368455  0.766921      -0.929489          1   \n",
       "4734    -0.623494  1.435659 -0.360005 -1.208445       0.809174          1   \n",
       "6102    -0.085418 -0.284769  0.368455 -1.208445       0.809174          1   \n",
       "\n",
       "      IsActiveMember  EstimatedSalary  Geography_Germany  Geography_Spain  \\\n",
       "5460               1         0.368972                  1                0   \n",
       "3610               0         0.129920                  0                0   \n",
       "3892               1         0.816963                  1                0   \n",
       "4734               1        -0.098170                  0                0   \n",
       "6102               1        -0.026458                  0                1   \n",
       "\n",
       "      Gender_Male  \n",
       "5460            1  \n",
       "3610            0  \n",
       "3892            1  \n",
       "4734            0  \n",
       "6102            0  "
      ]
     },
     "execution_count": 17,
     "metadata": {},
     "output_type": "execute_result"
    }
   ],
   "source": [
    "features_train[numeric] = scaler.transform(features_train[numeric])\n",
    "features_train.head()"
   ]
  },
  {
   "cell_type": "code",
   "execution_count": 18,
   "metadata": {
    "scrolled": true
   },
   "outputs": [
    {
     "name": "stderr",
     "output_type": "stream",
     "text": [
      "/tmp/ipykernel_202/3568182040.py:1: SettingWithCopyWarning: \n",
      "A value is trying to be set on a copy of a slice from a DataFrame.\n",
      "Try using .loc[row_indexer,col_indexer] = value instead\n",
      "\n",
      "See the caveats in the documentation: https://pandas.pydata.org/pandas-docs/stable/user_guide/indexing.html#returning-a-view-versus-a-copy\n",
      "  features_valid[numeric] = scaler.transform(features_valid[numeric])\n",
      "/opt/conda/lib/python3.9/site-packages/pandas/core/indexing.py:1738: SettingWithCopyWarning: \n",
      "A value is trying to be set on a copy of a slice from a DataFrame.\n",
      "Try using .loc[row_indexer,col_indexer] = value instead\n",
      "\n",
      "See the caveats in the documentation: https://pandas.pydata.org/pandas-docs/stable/user_guide/indexing.html#returning-a-view-versus-a-copy\n",
      "  self._setitem_single_column(loc, value[:, i].tolist(), pi)\n"
     ]
    },
    {
     "data": {
      "text/html": [
       "<div>\n",
       "<style scoped>\n",
       "    .dataframe tbody tr th:only-of-type {\n",
       "        vertical-align: middle;\n",
       "    }\n",
       "\n",
       "    .dataframe tbody tr th {\n",
       "        vertical-align: top;\n",
       "    }\n",
       "\n",
       "    .dataframe thead th {\n",
       "        text-align: right;\n",
       "    }\n",
       "</style>\n",
       "<table border=\"1\" class=\"dataframe\">\n",
       "  <thead>\n",
       "    <tr style=\"text-align: right;\">\n",
       "      <th></th>\n",
       "      <th>CreditScore</th>\n",
       "      <th>Age</th>\n",
       "      <th>Tenure</th>\n",
       "      <th>Balance</th>\n",
       "      <th>NumOfProducts</th>\n",
       "      <th>HasCrCard</th>\n",
       "      <th>IsActiveMember</th>\n",
       "      <th>EstimatedSalary</th>\n",
       "      <th>Geography_Germany</th>\n",
       "      <th>Geography_Spain</th>\n",
       "      <th>Gender_Male</th>\n",
       "    </tr>\n",
       "  </thead>\n",
       "  <tbody>\n",
       "    <tr>\n",
       "      <th>4492</th>\n",
       "      <td>-0.623494</td>\n",
       "      <td>-0.667086</td>\n",
       "      <td>-1.816925</td>\n",
       "      <td>0.822924</td>\n",
       "      <td>-0.929489</td>\n",
       "      <td>1</td>\n",
       "      <td>0</td>\n",
       "      <td>0.021934</td>\n",
       "      <td>0</td>\n",
       "      <td>0</td>\n",
       "      <td>0</td>\n",
       "    </tr>\n",
       "    <tr>\n",
       "      <th>5970</th>\n",
       "      <td>-1.865208</td>\n",
       "      <td>-0.380348</td>\n",
       "      <td>-1.452695</td>\n",
       "      <td>0.325435</td>\n",
       "      <td>-0.929489</td>\n",
       "      <td>0</td>\n",
       "      <td>0</td>\n",
       "      <td>-1.628119</td>\n",
       "      <td>0</td>\n",
       "      <td>0</td>\n",
       "      <td>1</td>\n",
       "    </tr>\n",
       "    <tr>\n",
       "      <th>7940</th>\n",
       "      <td>1.352902</td>\n",
       "      <td>-0.953824</td>\n",
       "      <td>0.368455</td>\n",
       "      <td>0.361786</td>\n",
       "      <td>-0.929489</td>\n",
       "      <td>0</td>\n",
       "      <td>0</td>\n",
       "      <td>0.221934</td>\n",
       "      <td>0</td>\n",
       "      <td>1</td>\n",
       "      <td>0</td>\n",
       "    </tr>\n",
       "    <tr>\n",
       "      <th>9789</th>\n",
       "      <td>-0.416541</td>\n",
       "      <td>0.575445</td>\n",
       "      <td>-1.452695</td>\n",
       "      <td>-1.208445</td>\n",
       "      <td>0.809174</td>\n",
       "      <td>1</td>\n",
       "      <td>1</td>\n",
       "      <td>1.744859</td>\n",
       "      <td>0</td>\n",
       "      <td>0</td>\n",
       "      <td>0</td>\n",
       "    </tr>\n",
       "    <tr>\n",
       "      <th>4903</th>\n",
       "      <td>0.452659</td>\n",
       "      <td>0.288707</td>\n",
       "      <td>-0.724235</td>\n",
       "      <td>1.285614</td>\n",
       "      <td>0.809174</td>\n",
       "      <td>0</td>\n",
       "      <td>0</td>\n",
       "      <td>-0.184016</td>\n",
       "      <td>0</td>\n",
       "      <td>0</td>\n",
       "      <td>1</td>\n",
       "    </tr>\n",
       "  </tbody>\n",
       "</table>\n",
       "</div>"
      ],
      "text/plain": [
       "      CreditScore       Age    Tenure   Balance  NumOfProducts  HasCrCard  \\\n",
       "4492    -0.623494 -0.667086 -1.816925  0.822924      -0.929489          1   \n",
       "5970    -1.865208 -0.380348 -1.452695  0.325435      -0.929489          0   \n",
       "7940     1.352902 -0.953824  0.368455  0.361786      -0.929489          0   \n",
       "9789    -0.416541  0.575445 -1.452695 -1.208445       0.809174          1   \n",
       "4903     0.452659  0.288707 -0.724235  1.285614       0.809174          0   \n",
       "\n",
       "      IsActiveMember  EstimatedSalary  Geography_Germany  Geography_Spain  \\\n",
       "4492               0         0.021934                  0                0   \n",
       "5970               0        -1.628119                  0                0   \n",
       "7940               0         0.221934                  0                1   \n",
       "9789               1         1.744859                  0                0   \n",
       "4903               0        -0.184016                  0                0   \n",
       "\n",
       "      Gender_Male  \n",
       "4492            0  \n",
       "5970            1  \n",
       "7940            0  \n",
       "9789            0  \n",
       "4903            1  "
      ]
     },
     "execution_count": 18,
     "metadata": {},
     "output_type": "execute_result"
    }
   ],
   "source": [
    "features_valid[numeric] = scaler.transform(features_valid[numeric])\n",
    "features_valid.head()"
   ]
  },
  {
   "cell_type": "code",
   "execution_count": 19,
   "metadata": {},
   "outputs": [
    {
     "name": "stderr",
     "output_type": "stream",
     "text": [
      "/tmp/ipykernel_202/2409317702.py:1: SettingWithCopyWarning: \n",
      "A value is trying to be set on a copy of a slice from a DataFrame.\n",
      "Try using .loc[row_indexer,col_indexer] = value instead\n",
      "\n",
      "See the caveats in the documentation: https://pandas.pydata.org/pandas-docs/stable/user_guide/indexing.html#returning-a-view-versus-a-copy\n",
      "  features_test[numeric] = scaler.transform(features_test[numeric])\n",
      "/opt/conda/lib/python3.9/site-packages/pandas/core/indexing.py:1738: SettingWithCopyWarning: \n",
      "A value is trying to be set on a copy of a slice from a DataFrame.\n",
      "Try using .loc[row_indexer,col_indexer] = value instead\n",
      "\n",
      "See the caveats in the documentation: https://pandas.pydata.org/pandas-docs/stable/user_guide/indexing.html#returning-a-view-versus-a-copy\n",
      "  self._setitem_single_column(loc, value[:, i].tolist(), pi)\n"
     ]
    },
    {
     "data": {
      "text/html": [
       "<div>\n",
       "<style scoped>\n",
       "    .dataframe tbody tr th:only-of-type {\n",
       "        vertical-align: middle;\n",
       "    }\n",
       "\n",
       "    .dataframe tbody tr th {\n",
       "        vertical-align: top;\n",
       "    }\n",
       "\n",
       "    .dataframe thead th {\n",
       "        text-align: right;\n",
       "    }\n",
       "</style>\n",
       "<table border=\"1\" class=\"dataframe\">\n",
       "  <thead>\n",
       "    <tr style=\"text-align: right;\">\n",
       "      <th></th>\n",
       "      <th>CreditScore</th>\n",
       "      <th>Age</th>\n",
       "      <th>Tenure</th>\n",
       "      <th>Balance</th>\n",
       "      <th>NumOfProducts</th>\n",
       "      <th>HasCrCard</th>\n",
       "      <th>IsActiveMember</th>\n",
       "      <th>EstimatedSalary</th>\n",
       "      <th>Geography_Germany</th>\n",
       "      <th>Geography_Spain</th>\n",
       "      <th>Gender_Male</th>\n",
       "    </tr>\n",
       "  </thead>\n",
       "  <tbody>\n",
       "    <tr>\n",
       "      <th>6120</th>\n",
       "      <td>0.669959</td>\n",
       "      <td>0.097548</td>\n",
       "      <td>0.732685</td>\n",
       "      <td>-1.208445</td>\n",
       "      <td>-0.929489</td>\n",
       "      <td>1</td>\n",
       "      <td>1</td>\n",
       "      <td>0.729660</td>\n",
       "      <td>0</td>\n",
       "      <td>0</td>\n",
       "      <td>1</td>\n",
       "    </tr>\n",
       "    <tr>\n",
       "      <th>3673</th>\n",
       "      <td>1.176992</td>\n",
       "      <td>-1.431721</td>\n",
       "      <td>0.732685</td>\n",
       "      <td>0.352067</td>\n",
       "      <td>-0.929489</td>\n",
       "      <td>1</td>\n",
       "      <td>0</td>\n",
       "      <td>-1.264493</td>\n",
       "      <td>0</td>\n",
       "      <td>0</td>\n",
       "      <td>1</td>\n",
       "    </tr>\n",
       "    <tr>\n",
       "      <th>4835</th>\n",
       "      <td>-0.923575</td>\n",
       "      <td>-0.475928</td>\n",
       "      <td>-0.360005</td>\n",
       "      <td>0.145265</td>\n",
       "      <td>0.809174</td>\n",
       "      <td>1</td>\n",
       "      <td>1</td>\n",
       "      <td>-1.223159</td>\n",
       "      <td>0</td>\n",
       "      <td>1</td>\n",
       "      <td>1</td>\n",
       "    </tr>\n",
       "    <tr>\n",
       "      <th>7247</th>\n",
       "      <td>-0.706275</td>\n",
       "      <td>0.097548</td>\n",
       "      <td>-0.724235</td>\n",
       "      <td>0.542889</td>\n",
       "      <td>-0.929489</td>\n",
       "      <td>1</td>\n",
       "      <td>1</td>\n",
       "      <td>1.607293</td>\n",
       "      <td>1</td>\n",
       "      <td>0</td>\n",
       "      <td>0</td>\n",
       "    </tr>\n",
       "    <tr>\n",
       "      <th>4943</th>\n",
       "      <td>-1.265046</td>\n",
       "      <td>0.384286</td>\n",
       "      <td>0.732685</td>\n",
       "      <td>0.341339</td>\n",
       "      <td>0.809174</td>\n",
       "      <td>1</td>\n",
       "      <td>1</td>\n",
       "      <td>1.051191</td>\n",
       "      <td>0</td>\n",
       "      <td>1</td>\n",
       "      <td>1</td>\n",
       "    </tr>\n",
       "  </tbody>\n",
       "</table>\n",
       "</div>"
      ],
      "text/plain": [
       "      CreditScore       Age    Tenure   Balance  NumOfProducts  HasCrCard  \\\n",
       "6120     0.669959  0.097548  0.732685 -1.208445      -0.929489          1   \n",
       "3673     1.176992 -1.431721  0.732685  0.352067      -0.929489          1   \n",
       "4835    -0.923575 -0.475928 -0.360005  0.145265       0.809174          1   \n",
       "7247    -0.706275  0.097548 -0.724235  0.542889      -0.929489          1   \n",
       "4943    -1.265046  0.384286  0.732685  0.341339       0.809174          1   \n",
       "\n",
       "      IsActiveMember  EstimatedSalary  Geography_Germany  Geography_Spain  \\\n",
       "6120               1         0.729660                  0                0   \n",
       "3673               0        -1.264493                  0                0   \n",
       "4835               1        -1.223159                  0                1   \n",
       "7247               1         1.607293                  1                0   \n",
       "4943               1         1.051191                  0                1   \n",
       "\n",
       "      Gender_Male  \n",
       "6120            1  \n",
       "3673            1  \n",
       "4835            1  \n",
       "7247            0  \n",
       "4943            1  "
      ]
     },
     "execution_count": 19,
     "metadata": {},
     "output_type": "execute_result"
    }
   ],
   "source": [
    "features_test[numeric] = scaler.transform(features_test[numeric])\n",
    "features_test.head()"
   ]
  },
  {
   "cell_type": "markdown",
   "metadata": {},
   "source": [
    "<div class=\"alert alert-success\">\n",
    "<h2>Комментарий ревьюера<a class=\"tocSkip\"></a></h2>\n",
    "    \n",
    "**Отлично!** ✔️: хорошо, что не забываешь про масштабирование!</div>"
   ]
  },
  {
   "cell_type": "markdown",
   "metadata": {},
   "source": [
    "## Исследование задачи"
   ]
  },
  {
   "cell_type": "code",
   "execution_count": 20,
   "metadata": {},
   "outputs": [],
   "source": [
    "from sklearn.tree import DecisionTreeClassifier\n",
    "from sklearn.ensemble import RandomForestClassifier\n",
    "from sklearn.linear_model import LogisticRegression"
   ]
  },
  {
   "cell_type": "code",
   "execution_count": 21,
   "metadata": {},
   "outputs": [],
   "source": [
    "from sklearn.metrics import accuracy_score\n",
    "\n",
    "#матрица ошибок\n",
    "from sklearn.metrics import confusion_matrix\n",
    "\n",
    "#полнота\n",
    "from sklearn.metrics import recall_score\n",
    "\n",
    "#точность\n",
    "from sklearn.metrics import precision_score\n",
    "\n",
    "#F-1 мера\n",
    "from sklearn.metrics import f1_score\n",
    "\n",
    "#AUC-ROC\n",
    "from sklearn.metrics import roc_auc_score\n",
    "\n",
    "#ROC-кривая\n",
    "from sklearn.metrics import roc_curve"
   ]
  },
  {
   "cell_type": "code",
   "execution_count": 22,
   "metadata": {},
   "outputs": [],
   "source": [
    "def all_models_accuracy(features_train, target_train, features_valid, target_valid):\n",
    "    model_DTC = DecisionTreeClassifier(random_state=123)\n",
    "    DTC_score = model_DTC.fit(features_train, target_train).score(features_valid, target_valid)\n",
    "    \n",
    "    model_RFC = RandomForestClassifier(random_state=12345, n_estimators = 100)\n",
    "    RFC_score = model_RFC.fit(features_train, target_train).score(features_valid, target_valid)\n",
    "    \n",
    "    model_LgR = LogisticRegression(solver = 'liblinear')\n",
    "    LgR_score = model_LgR.fit(features_train, target_train).score(features_valid, target_valid)\n",
    "    print(\"Точность:\" \"дерево решений\", DTC_score, \"случайный лес \", RFC_score, \"логистческая регрессия\", LgR_score)"
   ]
  },
  {
   "cell_type": "code",
   "execution_count": 23,
   "metadata": {},
   "outputs": [
    {
     "name": "stdout",
     "output_type": "stream",
     "text": [
      "Точность:дерево решений 0.7956 случайный лес  0.862 логистческая регрессия 0.8036\n"
     ]
    }
   ],
   "source": [
    "all_models_accuracy(features_train, target_train, features_valid, target_valid)"
   ]
  },
  {
   "cell_type": "code",
   "execution_count": 24,
   "metadata": {},
   "outputs": [
    {
     "data": {
      "text/plain": [
       "0    0.7962\n",
       "1    0.2038\n",
       "Name: Exited, dtype: float64"
      ]
     },
     "execution_count": 24,
     "metadata": {},
     "output_type": "execute_result"
    }
   ],
   "source": [
    "target_train.value_counts(normalize = 1)"
   ]
  },
  {
   "cell_type": "code",
   "execution_count": 25,
   "metadata": {},
   "outputs": [
    {
     "data": {
      "text/plain": [
       "0    0.7962\n",
       "1    0.2038\n",
       "Name: Exited, dtype: float64"
      ]
     },
     "execution_count": 25,
     "metadata": {},
     "output_type": "execute_result"
    }
   ],
   "source": [
    "target_train.value_counts(normalize = 1)"
   ]
  },
  {
   "cell_type": "markdown",
   "metadata": {},
   "source": [
    "У обучающией и валидационной выборок наблюдается заметный дисбаланс класов. Ответы 0 ≈80% , 1 ≈ 20%\n",
    "Можно ожидать, что результаты предсказаний моделей будут сильно склоняться к одному варианту ответов."
   ]
  },
  {
   "cell_type": "markdown",
   "metadata": {},
   "source": [
    "<div class=\"alert alert-success\">\n",
    "<h2>Комментарий ревьюера v2<a class=\"tocSkip\"></a></h2>\n",
    "    \n",
    "**Отлично!** ✔️: все так, жуткий дисбаланс!</div>"
   ]
  },
  {
   "cell_type": "markdown",
   "metadata": {},
   "source": [
    "Проверка адекватности моделей"
   ]
  },
  {
   "cell_type": "code",
   "execution_count": 26,
   "metadata": {},
   "outputs": [],
   "source": [
    "def all_models_share(features_train, target_train, features_valid, target_valid):\n",
    "    model_DTC = DecisionTreeClassifier(random_state=123)\n",
    "    model_DTC.fit(features_train, target_train)\n",
    "    DTC_share = pd.Series(model_DTC.predict(features_valid)).value_counts(normalize = 1)\n",
    "    \n",
    "    \n",
    "    \n",
    "    model_RFC = RandomForestClassifier(random_state=12345, n_estimators = 100)\n",
    "    model_RFC.fit(features_train, target_train)\n",
    "    RFC_share = pd.Series(model_RFC.predict(features_valid)).value_counts(normalize = 1)\n",
    "    \n",
    "    model_LgR = LogisticRegression(solver = 'liblinear')\n",
    "    model_LgR.fit(features_train, target_train)\n",
    "    LgR_share = pd.Series(model_LgR.predict(features_valid)).value_counts(normalize = 1)\n",
    "    \n",
    "\n",
    "    \n",
    "    print(\"Доли ответов:\" \"дерево решений\", DTC_share, \"случайный лес \", RFC_share, \"логистческая регрессия\", LgR_share , end='')"
   ]
  },
  {
   "cell_type": "code",
   "execution_count": 27,
   "metadata": {
    "scrolled": true
   },
   "outputs": [
    {
     "name": "stdout",
     "output_type": "stream",
     "text": [
      "Доли ответов:дерево решений 0    0.7784\n",
      "1    0.2216\n",
      "dtype: float64 случайный лес  0    0.872\n",
      "1    0.128\n",
      "dtype: float64 логистческая регрессия 0    0.9344\n",
      "1    0.0656\n",
      "dtype: float64"
     ]
    }
   ],
   "source": [
    "all_models_share(features_train, target_train, features_valid, target_valid)"
   ]
  },
  {
   "cell_type": "markdown",
   "metadata": {},
   "source": [
    "самая точная - логистическая регрессия, но ответ всегда \"0\", теперь попроубем с константой"
   ]
  },
  {
   "cell_type": "code",
   "execution_count": 28,
   "metadata": {},
   "outputs": [
    {
     "data": {
      "text/plain": [
       "(2500,)"
      ]
     },
     "execution_count": 28,
     "metadata": {},
     "output_type": "execute_result"
    }
   ],
   "source": [
    "#Создаем константную модель\n",
    "target_predict_constant = pd.Series([0]*len(target_valid))\n",
    "target_predict_constant.shape"
   ]
  },
  {
   "cell_type": "code",
   "execution_count": 29,
   "metadata": {},
   "outputs": [
    {
     "data": {
      "text/plain": [
       "0.7964"
      ]
     },
     "execution_count": 29,
     "metadata": {},
     "output_type": "execute_result"
    }
   ],
   "source": [
    "accuracy_score_constant = accuracy_score(target_valid, target_predict_constant)\n",
    "accuracy_score_constant"
   ]
  },
  {
   "cell_type": "markdown",
   "metadata": {},
   "source": [
    "константа показала результат лучше любой модели, наверняка проблема в дисбалансе, проверим\n",
    "но спера посмотрим матрицы ошибок для каждой модели"
   ]
  },
  {
   "cell_type": "code",
   "execution_count": 30,
   "metadata": {},
   "outputs": [
    {
     "name": "stdout",
     "output_type": "stream",
     "text": [
      "max_depth = 1 : 0.0\n",
      "max_depth = 2 : 0.4920440636474908\n",
      "max_depth = 3 : 0.35239567233384855\n",
      "max_depth = 4 : 0.49408672798948755\n",
      "max_depth = 5 : 0.4884667571234736\n",
      "max_depth = 6 : 0.5363408521303258\n",
      "max_depth = 7 : 0.5611510791366907\n",
      "max_depth = 8 : 0.5547785547785548\n",
      "max_depth = 9 : 0.5494994438264739\n",
      "max_depth = 10 : 0.5293489861259338\n"
     ]
    }
   ],
   "source": [
    "for depth in range(1,11):\n",
    "    model_DTC = DecisionTreeClassifier(random_state=123, max_depth = depth)\n",
    "    model_DTC.fit(features_train, target_train)\n",
    "    DTC_prediction = model_DTC.predict(features_valid)\n",
    "    DTC_probabilities_valid = model_DTC.predict_proba(features_valid)\n",
    "    DTC_probabilities_one_valid = DTC_probabilities_valid[:, 1]\n",
    "    confusion_matrix(target_valid, DTC_prediction)\n",
    "    print(\"max_depth =\", depth, \": \", end='')\n",
    "    print(f1_score(target_valid, DTC_prediction)) \n",
    "    "
   ]
  },
  {
   "cell_type": "markdown",
   "metadata": {},
   "source": [
    "готово"
   ]
  },
  {
   "cell_type": "markdown",
   "metadata": {},
   "source": [
    "<div class=\"alert alert-success\">\n",
    "<h2>Комментарий ревьюера v5<a class=\"tocSkip\"></a></h2>\n",
    "    \n",
    "**Отлично!** ✔️: 👍</div>"
   ]
  },
  {
   "cell_type": "markdown",
   "metadata": {},
   "source": [
    "<div class=\"alert alert-success\">\n",
    "<h2>Комментарий ревьюера v2<a class=\"tocSkip\"></a></h2>\n",
    "    \n",
    "**Отлично!** ✔️: лайк за проверку на адекватность!</div>"
   ]
  },
  {
   "cell_type": "code",
   "execution_count": 31,
   "metadata": {},
   "outputs": [
    {
     "name": "stdout",
     "output_type": "stream",
     "text": [
      "F1 0.5669856459330144\n",
      "AUC-ROC 0.8333951702109395\n"
     ]
    }
   ],
   "source": [
    "def rec_prec_f1(model, features, target):\n",
    "    predictions = model.predict(features)\n",
    "    probabilities_one = model.predict_proba(features)[:, 1]\n",
    "    print('F1', f1_score(target_valid, predictions))\n",
    "    print('AUC-ROC', roc_auc_score(target_valid, probabilities_one))\n",
    "    \n",
    "best_dt = None\n",
    "best_f1 = 0\n",
    "for depth in range(1,11):\n",
    "    model = DecisionTreeClassifier(random_state=12345, max_depth = depth)\n",
    "    model.fit(features_train, target_train)\n",
    "    predictions = model.predict(features_valid)\n",
    "    probabilities_one = model.predict_proba(features)[:, 1]\n",
    "    f1 = f1_score(target_valid, predictions)\n",
    "    if f1 > best_f1:\n",
    "        best_dt = model\n",
    "        best_f1 = f1\n",
    "\n",
    "rec_prec_f1(best_dt, features_valid, target_valid)"
   ]
  },
  {
   "cell_type": "markdown",
   "metadata": {},
   "source": [
    "<div class=\"alert alert-success\">\n",
    "<h2>Комментарий ревьюера v8<a class=\"tocSkip\"></a></h2>\n",
    "    \n",
    "**Отлично!** ✔️: теперь с функцией полный порядок :)</div>"
   ]
  },
  {
   "cell_type": "markdown",
   "metadata": {},
   "source": [
    "не понимаю суть ошибки, с каждой итерацией чуть лучше, но тяжело воспринимается"
   ]
  },
  {
   "cell_type": "markdown",
   "metadata": {},
   "source": [
    "<div class=\"alert alert-warning\">\n",
    "<h2>Комментарий ревьюера v6<a class=\"tocSkip\"></a></h2>\n",
    "    \n",
    "**Есть совет** ⚠️: также функцию `rec_prec_f1` можно написать иначе, и передавать в нее не предсказания модели, а обученную модель и выборку, для которой нужно делать предсказания, например:\n",
    "\n",
    "    def rec_prec_f1(model, features, target):\n",
    "        predictions = model.predict(features)\n",
    "        probabilities_one = model.predict_proba(features)[:, 1]\n",
    "        print('F1', f1_score(...))\n",
    "        print('AUC-ROC', roc_auc_score(...))\n",
    "        ...\n",
    "    \n",
    "    # подбираем гиперпараметры\n",
    "    best_dt = None\n",
    "    best_f1 = 0\n",
    "    ...\n",
    "    \n",
    "    # вызываем функцию, передавая в качестве аргументов переменную с обученной моделью и выборку\n",
    "    rec_prec_f1(best_dt, features_valid, target_valid)\n",
    "        \n",
    "</div>"
   ]
  },
  {
   "cell_type": "code",
   "execution_count": 32,
   "metadata": {},
   "outputs": [
    {
     "data": {
      "text/plain": [
       "0.7752247589595221"
      ]
     },
     "execution_count": 32,
     "metadata": {},
     "output_type": "execute_result"
    }
   ],
   "source": [
    "probabilities_valid = model_DTC.predict_proba(features_valid)\n",
    "DTC_probabilities_one_valid = probabilities_valid[:, 1]\n",
    "\n",
    "auc_roc = roc_auc_score(target_valid,DTC_probabilities_one_valid)\n",
    "auc_roc"
   ]
  },
  {
   "cell_type": "markdown",
   "metadata": {},
   "source": [
    "Исправлено: вывод rec_prec_f1, подбор гиперпараметров а также подсчет Auc-Roc через predict_proba"
   ]
  },
  {
   "cell_type": "markdown",
   "metadata": {},
   "source": [
    "<div class=\"alert alert-warning\">\n",
    "<h2>Комментарий ревьюера v2<a class=\"tocSkip\"></a></h2>\n",
    "    \n",
    "**Есть совет** ⚠️: а если вместо вероятностей класса «1» передавать методу бинарные предсказания, то численно полученное значение равно другой метрике, так называемой сбалансированной, «честной» точности или <a href=\"https://scikit-learn.org/stable/modules/generated/sklearn.metrics.balanced_accuracy_score.html\" target=\"blank_\">balanced_accuracy_score</a></div>"
   ]
  },
  {
   "cell_type": "markdown",
   "metadata": {},
   "source": [
    "Низкое значние F1- меры свидетельствует о низком качестве модели, проблема в точности."
   ]
  },
  {
   "cell_type": "code",
   "execution_count": 33,
   "metadata": {},
   "outputs": [
    {
     "name": "stdout",
     "output_type": "stream",
     "text": [
      "max_depth = 1 : n_estimatores = j 1 : 0.8224\n",
      "max_depth = 1 : n_estimatores = j 1 : 0.7964\n",
      "max_depth = 1 : n_estimatores = j 1 : 0.7964\n",
      "max_depth = 1 : n_estimatores = j 1 : 0.7964\n",
      "max_depth = 1 : n_estimatores = j 1 : 0.7964\n",
      "max_depth = 1 : n_estimatores = j 1 : 0.7964\n",
      "max_depth = 1 : n_estimatores = j 1 : 0.7964\n",
      "max_depth = 1 : n_estimatores = j 1 : 0.7964\n",
      "max_depth = 1 : n_estimatores = j 1 : 0.7964\n",
      "max_depth = 1 : n_estimatores = j 1 : 0.7964\n",
      "max_depth = 2 : n_estimatores = j 2 : 0.8224\n",
      "max_depth = 2 : n_estimatores = j 2 : 0.814\n",
      "max_depth = 2 : n_estimatores = j 2 : 0.8064\n",
      "max_depth = 2 : n_estimatores = j 2 : 0.804\n",
      "max_depth = 2 : n_estimatores = j 2 : 0.8076\n",
      "max_depth = 2 : n_estimatores = j 2 : 0.8072\n",
      "max_depth = 2 : n_estimatores = j 2 : 0.8076\n",
      "max_depth = 2 : n_estimatores = j 2 : 0.8064\n",
      "max_depth = 2 : n_estimatores = j 2 : 0.8068\n",
      "max_depth = 2 : n_estimatores = j 2 : 0.804\n",
      "max_depth = 3 : n_estimatores = j 3 : 0.82\n",
      "max_depth = 3 : n_estimatores = j 3 : 0.826\n",
      "max_depth = 3 : n_estimatores = j 3 : 0.8212\n",
      "max_depth = 3 : n_estimatores = j 3 : 0.8188\n",
      "max_depth = 3 : n_estimatores = j 3 : 0.8244\n",
      "max_depth = 3 : n_estimatores = j 3 : 0.8256\n",
      "max_depth = 3 : n_estimatores = j 3 : 0.8252\n",
      "max_depth = 3 : n_estimatores = j 3 : 0.8232\n",
      "max_depth = 3 : n_estimatores = j 3 : 0.8208\n",
      "max_depth = 3 : n_estimatores = j 3 : 0.8224\n",
      "max_depth = 4 : n_estimatores = j 4 : 0.846\n",
      "max_depth = 4 : n_estimatores = j 4 : 0.8484\n",
      "max_depth = 4 : n_estimatores = j 4 : 0.8432\n",
      "max_depth = 4 : n_estimatores = j 4 : 0.8436\n",
      "max_depth = 4 : n_estimatores = j 4 : 0.8456\n",
      "max_depth = 4 : n_estimatores = j 4 : 0.8464\n",
      "max_depth = 4 : n_estimatores = j 4 : 0.8476\n",
      "max_depth = 4 : n_estimatores = j 4 : 0.8496\n",
      "max_depth = 4 : n_estimatores = j 4 : 0.8496\n",
      "max_depth = 4 : n_estimatores = j 4 : 0.8472\n",
      "max_depth = 5 : n_estimatores = j 5 : 0.8432\n",
      "max_depth = 5 : n_estimatores = j 5 : 0.8516\n",
      "max_depth = 5 : n_estimatores = j 5 : 0.8516\n",
      "max_depth = 5 : n_estimatores = j 5 : 0.852\n",
      "max_depth = 5 : n_estimatores = j 5 : 0.8536\n",
      "max_depth = 5 : n_estimatores = j 5 : 0.8508\n",
      "max_depth = 5 : n_estimatores = j 5 : 0.8532\n",
      "max_depth = 5 : n_estimatores = j 5 : 0.8536\n",
      "max_depth = 5 : n_estimatores = j 5 : 0.8524\n",
      "max_depth = 5 : n_estimatores = j 5 : 0.8536\n",
      "max_depth = 6 : n_estimatores = j 6 : 0.8136\n",
      "max_depth = 6 : n_estimatores = j 6 : 0.858\n",
      "max_depth = 6 : n_estimatores = j 6 : 0.858\n",
      "max_depth = 6 : n_estimatores = j 6 : 0.8564\n",
      "max_depth = 6 : n_estimatores = j 6 : 0.8544\n",
      "max_depth = 6 : n_estimatores = j 6 : 0.8576\n",
      "max_depth = 6 : n_estimatores = j 6 : 0.8556\n",
      "max_depth = 6 : n_estimatores = j 6 : 0.8572\n",
      "max_depth = 6 : n_estimatores = j 6 : 0.8572\n",
      "max_depth = 6 : n_estimatores = j 6 : 0.858\n",
      "max_depth = 7 : n_estimatores = j 7 : 0.8304\n",
      "max_depth = 7 : n_estimatores = j 7 : 0.8596\n",
      "max_depth = 7 : n_estimatores = j 7 : 0.86\n",
      "max_depth = 7 : n_estimatores = j 7 : 0.8592\n",
      "max_depth = 7 : n_estimatores = j 7 : 0.8584\n",
      "max_depth = 7 : n_estimatores = j 7 : 0.8588\n",
      "max_depth = 7 : n_estimatores = j 7 : 0.86\n",
      "max_depth = 7 : n_estimatores = j 7 : 0.8592\n",
      "max_depth = 7 : n_estimatores = j 7 : 0.8592\n",
      "max_depth = 7 : n_estimatores = j 7 : 0.8592\n",
      "max_depth = 8 : n_estimatores = j 8 : 0.8436\n",
      "max_depth = 8 : n_estimatores = j 8 : 0.8604\n",
      "max_depth = 8 : n_estimatores = j 8 : 0.8632\n",
      "max_depth = 8 : n_estimatores = j 8 : 0.8628\n",
      "max_depth = 8 : n_estimatores = j 8 : 0.8628\n",
      "max_depth = 8 : n_estimatores = j 8 : 0.8624\n",
      "max_depth = 8 : n_estimatores = j 8 : 0.8628\n",
      "max_depth = 8 : n_estimatores = j 8 : 0.862\n",
      "max_depth = 8 : n_estimatores = j 8 : 0.8604\n",
      "max_depth = 8 : n_estimatores = j 8 : 0.8616\n",
      "max_depth = 9 : n_estimatores = j 9 : 0.8308\n",
      "max_depth = 9 : n_estimatores = j 9 : 0.8584\n",
      "max_depth = 9 : n_estimatores = j 9 : 0.8596\n",
      "max_depth = 9 : n_estimatores = j 9 : 0.8616\n",
      "max_depth = 9 : n_estimatores = j 9 : 0.8624\n",
      "max_depth = 9 : n_estimatores = j 9 : 0.8628\n",
      "max_depth = 9 : n_estimatores = j 9 : 0.8632\n",
      "max_depth = 9 : n_estimatores = j 9 : 0.8636\n",
      "max_depth = 9 : n_estimatores = j 9 : 0.8628\n",
      "max_depth = 9 : n_estimatores = j 9 : 0.8624\n",
      "max_depth = 10 : n_estimatores = j 10 : 0.826\n",
      "max_depth = 10 : n_estimatores = j 10 : 0.8576\n",
      "max_depth = 10 : n_estimatores = j 10 : 0.8624\n",
      "max_depth = 10 : n_estimatores = j 10 : 0.862\n",
      "max_depth = 10 : n_estimatores = j 10 : 0.864\n",
      "max_depth = 10 : n_estimatores = j 10 : 0.8624\n",
      "max_depth = 10 : n_estimatores = j 10 : 0.862\n",
      "max_depth = 10 : n_estimatores = j 10 : 0.862\n",
      "max_depth = 10 : n_estimatores = j 10 : 0.8624\n",
      "max_depth = 10 : n_estimatores = j 10 : 0.864\n"
     ]
    },
    {
     "data": {
      "text/plain": [
       "array([[1928,   63],\n",
       "       [ 277,  232]])"
      ]
     },
     "execution_count": 33,
     "metadata": {},
     "output_type": "execute_result"
    }
   ],
   "source": [
    "for depth in range(1,11):  \n",
    "    for j in range(1,101,10): \n",
    "        model_RFC = RandomForestClassifier(random_state=12345, max_depth = depth, n_estimators = j)\n",
    "        model_RFC.fit(features_train, target_train)\n",
    "        RFC_prediction = model_RFC.predict(features_valid)\n",
    "        print(\"max_depth =\", depth, \": \", end='')\n",
    "        print(\"n_estimatores = j\", depth, \": \", end='')\n",
    "        print(accuracy_score(target_valid, RFC_prediction)) \n",
    "confusion_matrix(target_valid, RFC_prediction)"
   ]
  },
  {
   "cell_type": "markdown",
   "metadata": {},
   "source": [
    "<div class=\"alert alert-success\">\n",
    "<h2>Комментарий ревьюера v8<a class=\"tocSkip\"></a></h2>\n",
    "    \n",
    "**Отлично!** ✔️: 👍</div>"
   ]
  },
  {
   "cell_type": "code",
   "execution_count": 34,
   "metadata": {},
   "outputs": [
    {
     "name": "stdout",
     "output_type": "stream",
     "text": [
      "F1 0.5669856459330144\n",
      "AUC-ROC 0.8333951702109395\n"
     ]
    }
   ],
   "source": [
    "rec_prec_f1(best_dt, features_valid, target_valid)"
   ]
  },
  {
   "cell_type": "markdown",
   "metadata": {},
   "source": [
    "<div class=\"alert alert-success\">\n",
    "<h2>Комментарий ревьюера v8<a class=\"tocSkip\"></a></h2>\n",
    "    \n",
    "**Отлично!** ✔️: 👍</div>"
   ]
  },
  {
   "cell_type": "markdown",
   "metadata": {},
   "source": [
    "опять низкая f1"
   ]
  },
  {
   "cell_type": "code",
   "execution_count": 35,
   "metadata": {},
   "outputs": [
    {
     "data": {
      "text/plain": [
       "array([[1918,   73],\n",
       "       [ 418,   91]])"
      ]
     },
     "execution_count": 35,
     "metadata": {},
     "output_type": "execute_result"
    }
   ],
   "source": [
    "\n",
    "model_LgR = LogisticRegression(solver = 'liblinear')\n",
    "model_LgR.fit(features_train, target_train)\n",
    "LgR_prediction = model_LgR.predict(features_valid)\n",
    "confusion_matrix(target_valid, LgR_prediction)"
   ]
  },
  {
   "cell_type": "code",
   "execution_count": 36,
   "metadata": {},
   "outputs": [
    {
     "data": {
      "text/plain": [
       "0.7575070133873553"
      ]
     },
     "execution_count": 36,
     "metadata": {},
     "output_type": "execute_result"
    }
   ],
   "source": [
    "LgR_probabilities_one_valid = model_LgR.predict_proba(features_valid)[:, 1]\n",
    "\n",
    "auc_roc_LgR = roc_auc_score(target_valid, LgR_probabilities_one_valid)\n",
    "\n",
    "auc_roc_LgR"
   ]
  },
  {
   "cell_type": "markdown",
   "metadata": {},
   "source": [
    "<div class=\"alert alert-success\">\n",
    "<h2>Комментарий ревьюера v2<a class=\"tocSkip\"></a></h2>\n",
    "    \n",
    "**Отлично!** ✔️: в остальном все окей, посмотрим, как повлияет борьба с дисбалансом</div>"
   ]
  },
  {
   "cell_type": "markdown",
   "metadata": {},
   "source": [
    "## Борьба с дисбалансом"
   ]
  },
  {
   "cell_type": "code",
   "execution_count": 37,
   "metadata": {},
   "outputs": [],
   "source": [
    "from sklearn.utils import shuffle"
   ]
  },
  {
   "cell_type": "markdown",
   "metadata": {},
   "source": [
    "Как мы выяснили ранее в нашей выборке отрицательны ответов ≈80% , положитительных ≈ 20%.\n",
    "Нам необходмо увеличить количество положительных ответов в 4 раза для достижения баланса.\n",
    "\n",
    "Разделим обучающую выборку на отрицательные и положительные объекты;\n",
    "Скопируем несколько раз положительные объекты;\n",
    "С учётом полученных данных создадим новую обучающую выборку;\n",
    "Перемешаем данные: идущие друг за другом одинаковые вопросы не помогут обучению.\n",
    "Обучим новые модели"
   ]
  },
  {
   "cell_type": "code",
   "execution_count": 38,
   "metadata": {},
   "outputs": [
    {
     "data": {
      "text/plain": [
       "0    0.7962\n",
       "1    0.2038\n",
       "Name: Exited, dtype: float64"
      ]
     },
     "execution_count": 38,
     "metadata": {},
     "output_type": "execute_result"
    }
   ],
   "source": [
    "#Ознакомимся с пероначальным распределением классов\n",
    "target_train.value_counts(normalize = 1)"
   ]
  },
  {
   "cell_type": "code",
   "execution_count": 39,
   "metadata": {},
   "outputs": [],
   "source": [
    "#создадим функцию для увеличения представленной класса в выборке \n",
    "def upsample(features, target, repeat, upsampled_сlass):\n",
    "    features_zeros = features[target == 0]\n",
    "    features_ones = features[target == 1]\n",
    "    target_zeros = target[target == 0]\n",
    "    target_ones = target[target == 1]\n",
    "    \n",
    "    if upsampled_сlass == 0:\n",
    "        features_upsampled = pd.concat([features_zeros]* repeat + [features_ones] )\n",
    "        target_upsampled = pd.concat([target_zeros]* repeat + [target_ones] )\n",
    "        features_upsampled, target_upsampled = shuffle(\n",
    "        features_upsampled, target_upsampled, random_state=12345)\n",
    "        \n",
    "    elif upsampled_сlass == 1:\n",
    "        features_upsampled = pd.concat([features_zeros] + [features_ones] * repeat)\n",
    "        target_upsampled = pd.concat([target_zeros] + [target_ones] * repeat)\n",
    "        features_upsampled, target_upsampled = shuffle(\n",
    "        features_upsampled, target_upsampled, random_state=12345)\n",
    "    else:\n",
    "        features_upsampled = 0\n",
    "        target_upsampled = 0  \n",
    "        \n",
    "        \n",
    "       \n",
    "    return features_upsampled, target_upsampled\n",
    "    \"Функция принимаем значение признаков (features[]), целевого признака (target[]), repeat(int / float), \"\n",
    "    \" класс который будет увеличен (upsampled_сlass (0 or 1))\""
   ]
  },
  {
   "cell_type": "code",
   "execution_count": 40,
   "metadata": {},
   "outputs": [
    {
     "name": "stdout",
     "output_type": "stream",
     "text": [
      "0    0.939857\n",
      "1    0.060143\n",
      "Name: Exited, dtype: float64\n",
      "(16943,)\n"
     ]
    }
   ],
   "source": [
    "#Протестируем функцию (верное значение)\n",
    "features_train_upsampled, target_train_upsampled = upsample(features_train, target_train, 4, 0)\n",
    "print(target_train_upsampled.value_counts(normalize = 1))\n",
    "print(target_train_upsampled.shape)"
   ]
  },
  {
   "cell_type": "code",
   "execution_count": 41,
   "metadata": {},
   "outputs": [
    {
     "data": {
      "text/plain": [
       "0"
      ]
     },
     "execution_count": 41,
     "metadata": {},
     "output_type": "execute_result"
    }
   ],
   "source": [
    "features_train_upsampled, target_train_upsampled = upsample(features_train, target_train, 4, 3)\n",
    "features_train_upsampled"
   ]
  },
  {
   "cell_type": "code",
   "execution_count": 42,
   "metadata": {},
   "outputs": [
    {
     "name": "stdout",
     "output_type": "stream",
     "text": [
      "1    0.505895\n",
      "0    0.494105\n",
      "Name: Exited, dtype: float64\n",
      "(8057,)\n"
     ]
    }
   ],
   "source": [
    "features_train_upsampled, target_train_upsampled = upsample(features_train, target_train, 4, 1)\n",
    "print(target_train_upsampled.value_counts(normalize = 1))\n",
    "print(target_train_upsampled.shape)"
   ]
  },
  {
   "cell_type": "markdown",
   "metadata": {},
   "source": [
    "<div class=\"alert alert-success\">\n",
    "<h2>Комментарий ревьюера v2<a class=\"tocSkip\"></a></h2>\n",
    "    \n",
    "**Отлично!** ✔️: коэффициент увеличения выборки подобран верно!</div>"
   ]
  },
  {
   "cell_type": "markdown",
   "metadata": {},
   "source": [
    "Мы получили сбалансированное количество классов, перейдем к обучению моеделей на новы данных"
   ]
  },
  {
   "cell_type": "code",
   "execution_count": 43,
   "metadata": {},
   "outputs": [
    {
     "name": "stdout",
     "output_type": "stream",
     "text": [
      "Точность:дерево решений 0.7956 случайный лес  0.862 логистческая регрессия 0.8036\n"
     ]
    }
   ],
   "source": [
    "#точность моделей на выборке с дисбалансом\n",
    "all_models_accuracy(features_train, target_train, features_valid, target_valid)"
   ]
  },
  {
   "cell_type": "code",
   "execution_count": 44,
   "metadata": {},
   "outputs": [
    {
     "name": "stdout",
     "output_type": "stream",
     "text": [
      "Точность:дерево решений 0.7936 случайный лес  0.8496 логистческая регрессия 0.7048\n"
     ]
    }
   ],
   "source": [
    "#точность моделей на сбалансированной выборке\n",
    "all_models_accuracy(features_train_upsampled, target_train_upsampled, features_valid, target_valid)"
   ]
  },
  {
   "cell_type": "markdown",
   "metadata": {},
   "source": [
    "<div class=\"alert alert-warning\">\n",
    "<h2>Комментарий ревьюера v2<a class=\"tocSkip\"></a></h2>\n",
    "    \n",
    "**Есть совет** ⚠️: так как в исходной выборке есть дисбаланс классов, то accuracy в этом проекте уже не будет показательна, изучать ее не обязательно</div>"
   ]
  },
  {
   "cell_type": "code",
   "execution_count": 45,
   "metadata": {},
   "outputs": [
    {
     "name": "stdout",
     "output_type": "stream",
     "text": [
      "F1 0.46021220159151194\n",
      "AUC-ROC 0.6771276244080682\n",
      "F1 0.48172323759791136\n",
      "AUC-ROC 0.7331064446196489\n",
      "F1 0.48172323759791136\n",
      "AUC-ROC 0.7791347902496402\n",
      "F1 0.5308194343727339\n",
      "AUC-ROC 0.8070092429686042\n",
      "F1 0.5561797752808989\n",
      "AUC-ROC 0.834068139634248\n",
      "F1 0.5423728813559322\n",
      "AUC-ROC 0.820846066631867\n",
      "F1 0.5496503496503496\n",
      "AUC-ROC 0.7979276094093362\n",
      "F1 0.5323741007194245\n",
      "AUC-ROC 0.7847603015139839\n",
      "F1 0.5254730713245997\n",
      "AUC-ROC 0.7653241156915354\n",
      "F1 0.538109756097561\n",
      "AUC-ROC 0.7461138976079984\n"
     ]
    }
   ],
   "source": [
    "#Решающее дерево\n",
    "for depth in range(1,11):  \n",
    "    model_DTC_upsampled = DecisionTreeClassifier(random_state=123, max_depth = depth)\n",
    "    model_DTC_upsampled.fit(features_train_upsampled, target_train_upsampled)\n",
    "    DTC_prediction_upsampled = model_DTC_upsampled.predict(features_valid)\n",
    "    rec_prec_f1(model_DTC_upsampled, features_valid, target_valid)\n",
    "    \n",
    "    "
   ]
  },
  {
   "cell_type": "code",
   "execution_count": 46,
   "metadata": {},
   "outputs": [
    {
     "name": "stdout",
     "output_type": "stream",
     "text": [
      "F1 0.4008810572687225\n",
      "AUC-ROC 0.6207481801702948\n",
      "F1 0.46739832149774047\n",
      "AUC-ROC 0.7687802379864597\n",
      "F1 0.517120894479385\n",
      "AUC-ROC 0.7855087579767105\n",
      "F1 0.49612403100775193\n",
      "AUC-ROC 0.7864614734872741\n",
      "F1 0.523224043715847\n",
      "AUC-ROC 0.7984140814411413\n",
      "F1 0.5060080106809078\n",
      "AUC-ROC 0.7949199689368367\n",
      "F1 0.5076411960132889\n",
      "AUC-ROC 0.7924214959459019\n",
      "F1 0.5145565335138795\n",
      "AUC-ROC 0.7898090523268263\n",
      "F1 0.525085910652921\n",
      "AUC-ROC 0.7953793051047986\n",
      "F1 0.5069490403706154\n",
      "AUC-ROC 0.7923257803534371\n",
      "F1 0.418957345971564\n",
      "AUC-ROC 0.6876055215068989\n",
      "F1 0.5175953079178887\n",
      "AUC-ROC 0.8030474068475132\n",
      "F1 0.5280112044817927\n",
      "AUC-ROC 0.8016684115849416\n",
      "F1 0.5383542538354253\n",
      "AUC-ROC 0.810663210379912\n",
      "F1 0.562874251497006\n",
      "AUC-ROC 0.8237831538583744\n",
      "F1 0.5497494631352898\n",
      "AUC-ROC 0.8206151650995295\n",
      "F1 0.5445544554455446\n",
      "AUC-ROC 0.8206654897924748\n",
      "F1 0.5364511691884457\n",
      "AUC-ROC 0.8169044590638226\n",
      "F1 0.54239663629993\n",
      "AUC-ROC 0.8201336268611502\n",
      "F1 0.542043085476025\n",
      "AUC-ROC 0.819057566514936\n",
      "F1 0.5138190954773869\n",
      "AUC-ROC 0.7774957840735174\n",
      "F1 0.5371269951422623\n",
      "AUC-ROC 0.8180042016184815\n",
      "F1 0.5513819985825655\n",
      "AUC-ROC 0.8281781770422697\n",
      "F1 0.5471167369901546\n",
      "AUC-ROC 0.8289641303350341\n",
      "F1 0.5593705293276108\n",
      "AUC-ROC 0.8327814063087431\n",
      "F1 0.5601719197707736\n",
      "AUC-ROC 0.8311581882715837\n",
      "F1 0.5648081100651702\n",
      "AUC-ROC 0.8322125399267233\n",
      "F1 0.5559515324305061\n",
      "AUC-ROC 0.8269555830313029\n",
      "F1 0.563400576368876\n",
      "AUC-ROC 0.829665222380871\n",
      "F1 0.5646890636168692\n",
      "AUC-ROC 0.8291308925528336\n",
      "F1 0.5435745937961595\n",
      "AUC-ROC 0.8104066531217592\n",
      "F1 0.5756172839506173\n",
      "AUC-ROC 0.8308266373533555\n",
      "F1 0.5736434108527131\n",
      "AUC-ROC 0.8351659086715367\n",
      "F1 0.5731523378582203\n",
      "AUC-ROC 0.8351264383241286\n",
      "F1 0.5746436609152289\n",
      "AUC-ROC 0.8393379243925759\n",
      "F1 0.5737827715355805\n",
      "AUC-ROC 0.8406221908213681\n",
      "F1 0.5710059171597633\n",
      "AUC-ROC 0.8415956282643211\n",
      "F1 0.5695266272189349\n",
      "AUC-ROC 0.838853425878141\n",
      "F1 0.5699481865284974\n",
      "AUC-ROC 0.8409779173273839\n",
      "F1 0.5699558173784979\n",
      "AUC-ROC 0.8405328891603572\n",
      "F1 0.4836501901140685\n",
      "AUC-ROC 0.7472856735466771\n",
      "F1 0.5811836115326252\n",
      "AUC-ROC 0.8358980836159573\n",
      "F1 0.5774121166791324\n",
      "AUC-ROC 0.8376673419385269\n",
      "F1 0.5774121166791324\n",
      "AUC-ROC 0.8414362667366608\n",
      "F1 0.5829596412556054\n",
      "AUC-ROC 0.8443758208598813\n",
      "F1 0.5806938159879338\n",
      "AUC-ROC 0.846051830486699\n",
      "F1 0.5799701046337817\n",
      "AUC-ROC 0.846586653694079\n",
      "F1 0.5810306198655714\n",
      "AUC-ROC 0.8456403521149692\n",
      "F1 0.5802562170308968\n",
      "AUC-ROC 0.8485281014072165\n",
      "F1 0.5813253012048193\n",
      "AUC-ROC 0.8484733363001878\n",
      "F1 0.5628654970760233\n",
      "AUC-ROC 0.8266733700473348\n",
      "F1 0.5962145110410095\n",
      "AUC-ROC 0.8544151037231391\n",
      "F1 0.5977382875605816\n",
      "AUC-ROC 0.8492814916633692\n",
      "F1 0.5893719806763285\n",
      "AUC-ROC 0.8520833929500039\n",
      "F1 0.5887924230465668\n",
      "AUC-ROC 0.852625616847523\n",
      "F1 0.5939490445859873\n",
      "AUC-ROC 0.8539084031382873\n",
      "F1 0.5916601101494886\n",
      "AUC-ROC 0.854469868830168\n",
      "F1 0.5932864949258392\n",
      "AUC-ROC 0.8522605161339978\n",
      "F1 0.5925349922239502\n",
      "AUC-ROC 0.8538945885166945\n",
      "F1 0.5905205905205906\n",
      "AUC-ROC 0.8530933404643094\n",
      "F1 0.5218617771509168\n",
      "AUC-ROC 0.7842891242417993\n",
      "F1 0.589271417133707\n",
      "AUC-ROC 0.8503624858030094\n",
      "F1 0.6004765687053217\n",
      "AUC-ROC 0.8532670099929052\n",
      "F1 0.5941223193010325\n",
      "AUC-ROC 0.8513980890431303\n",
      "F1 0.5941686367218282\n",
      "AUC-ROC 0.8530005851479003\n",
      "F1 0.593996840442338\n",
      "AUC-ROC 0.854654392704301\n",
      "F1 0.5943396226415095\n",
      "AUC-ROC 0.8558740264392124\n",
      "F1 0.5911949685534591\n",
      "AUC-ROC 0.8539705689354552\n",
      "F1 0.5934065934065934\n",
      "AUC-ROC 0.8544037559982595\n",
      "F1 0.5898039215686275\n",
      "AUC-ROC 0.8538422903063787\n",
      "F1 0.5359073359073359\n",
      "AUC-ROC 0.7828923673228941\n",
      "F1 0.5900826446280991\n",
      "AUC-ROC 0.8516625403707647\n",
      "F1 0.5976627712854757\n",
      "AUC-ROC 0.8533178280651932\n",
      "F1 0.5941422594142259\n",
      "AUC-ROC 0.8540504963889566\n",
      "F1 0.6078925272879933\n",
      "AUC-ROC 0.8562169250823204\n",
      "F1 0.6040268456375839\n",
      "AUC-ROC 0.855367819233703\n",
      "F1 0.6055045871559633\n",
      "AUC-ROC 0.8556470719416155\n",
      "F1 0.6036484245439471\n",
      "AUC-ROC 0.8553954484768885\n",
      "F1 0.6033333333333334\n",
      "AUC-ROC 0.8564611478569082\n",
      "F1 0.6029900332225914\n",
      "AUC-ROC 0.8563644455057582\n",
      "F1 0.5216025137470542\n",
      "AUC-ROC 0.7660296481514557\n",
      "F1 0.5915254237288136\n",
      "AUC-ROC 0.8409192051856142\n",
      "F1 0.5960034752389226\n",
      "AUC-ROC 0.849377207255834\n",
      "F1 0.6064291920069504\n",
      "AUC-ROC 0.8536617134669865\n",
      "F1 0.6125654450261779\n",
      "AUC-ROC 0.8554763626890753\n",
      "F1 0.6120313862249347\n",
      "AUC-ROC 0.8565657442775396\n",
      "F1 0.6096718480138169\n",
      "AUC-ROC 0.8574064626773328\n",
      "F1 0.6102564102564102\n",
      "AUC-ROC 0.8567749371188028\n",
      "F1 0.6029035012809564\n",
      "AUC-ROC 0.8565558766906876\n",
      "F1 0.6034188034188033\n",
      "AUC-ROC 0.8563456970907393\n",
      "F1 0.4869029275808937\n",
      "AUC-ROC 0.7218840380928322\n",
      "F1 0.5918727915194346\n",
      "AUC-ROC 0.8394435075718928\n",
      "F1 0.5889570552147239\n",
      "AUC-ROC 0.842134398506442\n",
      "F1 0.5964285714285714\n",
      "AUC-ROC 0.8456285110107467\n",
      "F1 0.6018018018018018\n",
      "AUC-ROC 0.8492706373178319\n",
      "F1 0.6001813236627379\n",
      "AUC-ROC 0.8507093314808584\n",
      "F1 0.6012601260126013\n",
      "AUC-ROC 0.849945580258511\n",
      "F1 0.60752688172043\n",
      "AUC-ROC 0.8514227580102603\n",
      "F1 0.6028622540250448\n",
      "AUC-ROC 0.8526670607123016\n",
      "F1 0.6076854334226988\n",
      "AUC-ROC 0.8528663859667127\n"
     ]
    }
   ],
   "source": [
    "#Случайный лес\n",
    "for depth in range(1,11):  \n",
    "    for j in range(1,100,10):\n",
    "        model_RFC_upsampled = RandomForestClassifier(random_state=12345, max_depth = depth, n_estimators = j)\n",
    "        model_RFC_upsampled.fit(features_train_upsampled, target_train_upsampled)\n",
    "        RFC_prediction_upsampled = model_RFC_upsampled.predict(features_valid)\n",
    "        rec_prec_f1(model_RFC_upsampled, features_valid, target_valid)"
   ]
  },
  {
   "cell_type": "code",
   "execution_count": 47,
   "metadata": {},
   "outputs": [
    {
     "name": "stdout",
     "output_type": "stream",
     "text": [
      "F1 0.4896265560165975\n",
      "AUC-ROC 0.7599374000290107\n"
     ]
    }
   ],
   "source": [
    "#Логистическая регрессия\n",
    "model_LgR_upsampled = LogisticRegression(solver = 'liblinear')\n",
    "model_LgR_upsampled.fit(features_train_upsampled, target_train_upsampled)\n",
    "LgR_prediction_upsampled = model_LgR_upsampled.predict(features_valid)\n",
    "rec_prec_f1(model_LgR_upsampled, features_valid, target_valid)"
   ]
  },
  {
   "cell_type": "markdown",
   "metadata": {},
   "source": [
    "Попробуем второй способ борьбы с дисбалансом классов"
   ]
  },
  {
   "cell_type": "code",
   "execution_count": 48,
   "metadata": {},
   "outputs": [
    {
     "name": "stdout",
     "output_type": "stream",
     "text": [
      "F1 0.49297752808988765\n",
      "AUC-ROC 0.7599344397529552\n"
     ]
    }
   ],
   "source": [
    "#Логистическая регрессия\n",
    "model_LgR_balanced = LogisticRegression(random_state=12345, solver='liblinear', class_weight='balanced')\n",
    "model_LgR_balanced.fit(features_train, target_train)\n",
    "LgR_predicted_valid_balanced = model_LgR_balanced.predict(features_valid)\n",
    "rec_prec_f1(model_LgR_balanced, features_valid, target_valid)"
   ]
  },
  {
   "cell_type": "code",
   "execution_count": 49,
   "metadata": {},
   "outputs": [
    {
     "name": "stdout",
     "output_type": "stream",
     "text": [
      "F1 0.5597014925373134\n",
      "AUC-ROC 0.8466276041795151\n",
      "F1 0.5597014925373134\n",
      "AUC-ROC 0.8466276041795151\n",
      "F1 0.5597014925373134\n",
      "AUC-ROC 0.8466276041795151\n",
      "F1 0.5597014925373134\n",
      "AUC-ROC 0.8466276041795151\n",
      "F1 0.5597014925373134\n",
      "AUC-ROC 0.8466276041795151\n",
      "F1 0.5597014925373134\n",
      "AUC-ROC 0.8466276041795151\n",
      "F1 0.5597014925373134\n",
      "AUC-ROC 0.8466276041795151\n",
      "F1 0.5597014925373134\n",
      "AUC-ROC 0.8466276041795151\n",
      "F1 0.5597014925373134\n",
      "AUC-ROC 0.8466276041795151\n",
      "F1 0.5597014925373134\n",
      "AUC-ROC 0.8466276041795151\n",
      "F1 0.5597014925373134\n",
      "AUC-ROC 0.8466276041795151\n",
      "F1 0.5597014925373134\n",
      "AUC-ROC 0.8466276041795151\n",
      "F1 0.5597014925373134\n",
      "AUC-ROC 0.8466276041795151\n",
      "F1 0.5597014925373134\n",
      "AUC-ROC 0.8466276041795151\n",
      "F1 0.5597014925373134\n",
      "AUC-ROC 0.8466276041795151\n",
      "F1 0.5597014925373134\n",
      "AUC-ROC 0.8466276041795151\n",
      "F1 0.5597014925373134\n",
      "AUC-ROC 0.8466276041795151\n",
      "F1 0.5597014925373134\n",
      "AUC-ROC 0.8466276041795151\n",
      "F1 0.5597014925373134\n",
      "AUC-ROC 0.8466276041795151\n",
      "F1 0.5597014925373134\n",
      "AUC-ROC 0.8466276041795151\n",
      "F1 0.5597014925373134\n",
      "AUC-ROC 0.8466276041795151\n",
      "F1 0.5597014925373134\n",
      "AUC-ROC 0.8466276041795151\n",
      "F1 0.5597014925373134\n",
      "AUC-ROC 0.8466276041795151\n",
      "F1 0.5597014925373134\n",
      "AUC-ROC 0.8466276041795151\n",
      "F1 0.5597014925373134\n",
      "AUC-ROC 0.8466276041795151\n",
      "F1 0.5597014925373134\n",
      "AUC-ROC 0.8466276041795151\n",
      "F1 0.5597014925373134\n",
      "AUC-ROC 0.8466276041795151\n",
      "F1 0.5597014925373134\n",
      "AUC-ROC 0.8466276041795151\n",
      "F1 0.5597014925373134\n",
      "AUC-ROC 0.8466276041795151\n",
      "F1 0.5597014925373134\n",
      "AUC-ROC 0.8466276041795151\n",
      "F1 0.5597014925373134\n",
      "AUC-ROC 0.8466276041795151\n",
      "F1 0.5597014925373134\n",
      "AUC-ROC 0.8466276041795151\n",
      "F1 0.5597014925373134\n",
      "AUC-ROC 0.8466276041795151\n",
      "F1 0.5597014925373134\n",
      "AUC-ROC 0.8466276041795151\n",
      "F1 0.5597014925373134\n",
      "AUC-ROC 0.8466276041795151\n",
      "F1 0.5597014925373134\n",
      "AUC-ROC 0.8466276041795151\n",
      "F1 0.5597014925373134\n",
      "AUC-ROC 0.8466276041795151\n",
      "F1 0.5597014925373134\n",
      "AUC-ROC 0.8466276041795151\n",
      "F1 0.5597014925373134\n",
      "AUC-ROC 0.8466276041795151\n",
      "F1 0.5597014925373134\n",
      "AUC-ROC 0.8466276041795151\n",
      "F1 0.5597014925373134\n",
      "AUC-ROC 0.8466276041795151\n",
      "F1 0.5597014925373134\n",
      "AUC-ROC 0.8466276041795151\n",
      "F1 0.5597014925373134\n",
      "AUC-ROC 0.8466276041795151\n",
      "F1 0.5597014925373134\n",
      "AUC-ROC 0.8466276041795151\n",
      "F1 0.5597014925373134\n",
      "AUC-ROC 0.8466276041795151\n",
      "F1 0.5597014925373134\n",
      "AUC-ROC 0.8466276041795151\n",
      "F1 0.5597014925373134\n",
      "AUC-ROC 0.8466276041795151\n",
      "F1 0.5597014925373134\n",
      "AUC-ROC 0.8466276041795151\n",
      "F1 0.5597014925373134\n",
      "AUC-ROC 0.8466276041795151\n",
      "F1 0.5597014925373134\n",
      "AUC-ROC 0.8466276041795151\n",
      "F1 0.5597014925373134\n",
      "AUC-ROC 0.8466276041795151\n",
      "F1 0.5597014925373134\n",
      "AUC-ROC 0.8466276041795151\n",
      "F1 0.5597014925373134\n",
      "AUC-ROC 0.8466276041795151\n",
      "F1 0.5597014925373134\n",
      "AUC-ROC 0.8466276041795151\n",
      "F1 0.5597014925373134\n",
      "AUC-ROC 0.8466276041795151\n",
      "F1 0.5597014925373134\n",
      "AUC-ROC 0.8466276041795151\n",
      "F1 0.5597014925373134\n",
      "AUC-ROC 0.8466276041795151\n",
      "F1 0.5597014925373134\n",
      "AUC-ROC 0.8466276041795151\n",
      "F1 0.5597014925373134\n",
      "AUC-ROC 0.8466276041795151\n",
      "F1 0.5597014925373134\n",
      "AUC-ROC 0.8466276041795151\n",
      "F1 0.5597014925373134\n",
      "AUC-ROC 0.8466276041795151\n",
      "F1 0.5597014925373134\n",
      "AUC-ROC 0.8466276041795151\n",
      "F1 0.5597014925373134\n",
      "AUC-ROC 0.8466276041795151\n",
      "F1 0.5597014925373134\n",
      "AUC-ROC 0.8466276041795151\n",
      "F1 0.5597014925373134\n",
      "AUC-ROC 0.8466276041795151\n",
      "F1 0.5597014925373134\n",
      "AUC-ROC 0.8466276041795151\n",
      "F1 0.5597014925373134\n",
      "AUC-ROC 0.8466276041795151\n",
      "F1 0.5597014925373134\n",
      "AUC-ROC 0.8466276041795151\n",
      "F1 0.5597014925373134\n",
      "AUC-ROC 0.8466276041795151\n",
      "F1 0.5597014925373134\n",
      "AUC-ROC 0.8466276041795151\n",
      "F1 0.5597014925373134\n",
      "AUC-ROC 0.8466276041795151\n",
      "F1 0.5597014925373134\n",
      "AUC-ROC 0.8466276041795151\n",
      "F1 0.5597014925373134\n",
      "AUC-ROC 0.8466276041795151\n",
      "F1 0.5597014925373134\n",
      "AUC-ROC 0.8466276041795151\n",
      "F1 0.5597014925373134\n",
      "AUC-ROC 0.8466276041795151\n",
      "F1 0.5597014925373134\n",
      "AUC-ROC 0.8466276041795151\n",
      "F1 0.5597014925373134\n",
      "AUC-ROC 0.8466276041795151\n",
      "F1 0.5597014925373134\n",
      "AUC-ROC 0.8466276041795151\n",
      "F1 0.5597014925373134\n",
      "AUC-ROC 0.8466276041795151\n",
      "F1 0.5597014925373134\n",
      "AUC-ROC 0.8466276041795151\n",
      "F1 0.5597014925373134\n",
      "AUC-ROC 0.8466276041795151\n",
      "F1 0.5597014925373134\n",
      "AUC-ROC 0.8466276041795151\n",
      "F1 0.5597014925373134\n",
      "AUC-ROC 0.8466276041795151\n",
      "F1 0.5597014925373134\n",
      "AUC-ROC 0.8466276041795151\n",
      "F1 0.5597014925373134\n",
      "AUC-ROC 0.8466276041795151\n",
      "F1 0.5597014925373134\n",
      "AUC-ROC 0.8466276041795151\n",
      "F1 0.5597014925373134\n",
      "AUC-ROC 0.8466276041795151\n",
      "F1 0.5597014925373134\n",
      "AUC-ROC 0.8466276041795151\n",
      "F1 0.5597014925373134\n",
      "AUC-ROC 0.8466276041795151\n",
      "F1 0.5597014925373134\n",
      "AUC-ROC 0.8466276041795151\n",
      "F1 0.5597014925373134\n",
      "AUC-ROC 0.8466276041795151\n",
      "F1 0.5597014925373134\n",
      "AUC-ROC 0.8466276041795151\n",
      "F1 0.5597014925373134\n",
      "AUC-ROC 0.8466276041795151\n",
      "F1 0.5597014925373134\n",
      "AUC-ROC 0.8466276041795151\n",
      "F1 0.5597014925373134\n",
      "AUC-ROC 0.8466276041795151\n",
      "F1 0.5597014925373134\n",
      "AUC-ROC 0.8466276041795151\n",
      "F1 0.5597014925373134\n",
      "AUC-ROC 0.8466276041795151\n",
      "F1 0.5597014925373134\n",
      "AUC-ROC 0.8466276041795151\n",
      "F1 0.5597014925373134\n",
      "AUC-ROC 0.8466276041795151\n",
      "F1 0.5597014925373134\n",
      "AUC-ROC 0.8466276041795151\n"
     ]
    }
   ],
   "source": [
    "#Случайный лес\n",
    "for depth in range(1,11):  \n",
    "    for j in range(1,100,10):\n",
    "        model_RFC_balanced = RandomForestClassifier(random_state=12345, n_estimators = 100, class_weight='balanced')\n",
    "        model_RFC_balanced.fit(features_train, target_train)\n",
    "        RFC_prediction_valid_balanced = model_RFC_balanced.predict(features_valid)\n",
    "        rec_prec_f1(model_RFC_balanced, features_valid, target_valid)\n",
    "        "
   ]
  },
  {
   "cell_type": "markdown",
   "metadata": {},
   "source": [
    "<div class=\"alert alert-warning\">\n",
    "<h2>Комментарий ревьюера v8<a class=\"tocSkip\"></a></h2>\n",
    "    \n",
    "**Есть совет** ⚠️: обрати внимание, что в ячейке выше ты перебираешь гиперпараметры в цикле, но не применяешь их к модели, не забудь поправить</div>"
   ]
  },
  {
   "cell_type": "code",
   "execution_count": 50,
   "metadata": {},
   "outputs": [
    {
     "name": "stdout",
     "output_type": "stream",
     "text": [
      "F1 0.49951409135082603\n",
      "AUC-ROC 0.6864085832217474\n",
      "F1 0.49951409135082603\n",
      "AUC-ROC 0.6864085832217474\n",
      "F1 0.49951409135082603\n",
      "AUC-ROC 0.6864085832217474\n",
      "F1 0.49951409135082603\n",
      "AUC-ROC 0.6864085832217474\n",
      "F1 0.49951409135082603\n",
      "AUC-ROC 0.6864085832217474\n",
      "F1 0.49951409135082603\n",
      "AUC-ROC 0.6864085832217474\n",
      "F1 0.49951409135082603\n",
      "AUC-ROC 0.6864085832217474\n",
      "F1 0.49951409135082603\n",
      "AUC-ROC 0.6864085832217474\n",
      "F1 0.49951409135082603\n",
      "AUC-ROC 0.6864085832217474\n",
      "F1 0.49951409135082603\n",
      "AUC-ROC 0.6864085832217474\n"
     ]
    }
   ],
   "source": [
    "#Решающее дерево\n",
    "for depth in range(1,11):  \n",
    "    model_DTC_balanced = DecisionTreeClassifier(random_state=123, class_weight = 'balanced')\n",
    "    model_DTC_balanced.fit(features_train, target_train)\n",
    "    DTC_predicted_valid_balanced = model_DTC_balanced.predict(features_valid)\n",
    "    rec_prec_f1(model_DTC_balanced, features_valid, target_valid)\n",
    "    "
   ]
  },
  {
   "cell_type": "markdown",
   "metadata": {},
   "source": [
    "<div class=\"alert alert-warning\">\n",
    "<h2>Комментарий ревьюера v8<a class=\"tocSkip\"></a></h2>\n",
    "    \n",
    "**Есть совет** ⚠️: здесь также необходимо передать найденную глубину дерева при инициализации модели в качестве аргумента max_depth</div>"
   ]
  },
  {
   "cell_type": "markdown",
   "metadata": {},
   "source": [
    "исправлено"
   ]
  },
  {
   "cell_type": "markdown",
   "metadata": {},
   "source": [
    "<div class=\"alert alert-success\">\n",
    "<h2>Комментарий ревьюера v5<a class=\"tocSkip\"></a></h2>\n",
    "    \n",
    "**Отлично!** ✔️: 👍</div>"
   ]
  },
  {
   "cell_type": "markdown",
   "metadata": {},
   "source": [
    "Показаели всех моделей улучшились.\n",
    "Лучшие результаты показывает алгоритм случайный лес (RandomForestClassifier) а способ борьбы с дисбалансом - первый(улучшение классов)"
   ]
  },
  {
   "cell_type": "markdown",
   "metadata": {},
   "source": [
    "Улучшение модели"
   ]
  },
  {
   "cell_type": "code",
   "execution_count": 51,
   "metadata": {},
   "outputs": [],
   "source": [
    "from itertools import product\n",
    "import tqdm"
   ]
  },
  {
   "cell_type": "code",
   "execution_count": 52,
   "metadata": {},
   "outputs": [],
   "source": [
    "def RandomForestQuality(features_train, target_train, features_valid, target_valid):\n",
    "    \n",
    "    #Параметры для перебора\n",
    "    bootstrap = [True, False]\n",
    "    class_weight = ['balanced_subsample', None]\n",
    "    max_features = ['auto', 'sqrt', 'log2'] \n",
    "    max_depth = [] #диапазон изменения параметра мксимальной глубины каждого дерева\n",
    "    for i in range(1, 20):\n",
    "        max_depth.append(i)\n",
    "\n",
    "    #Метод itertools.product для перебора нескольких параметров\n",
    "    myproduct = product(bootstrap, class_weight, max_features, max_depth)\n",
    "    \n",
    "    #Строки, котоыре будут наполняться циклом при переборе параметров\n",
    "    bootstrap_table = []\n",
    "    class_weight_table = []\n",
    "    features_table = []\n",
    "    depth_table = []\n",
    "    f1_table = []\n",
    "    recall_table = []\n",
    "    precision_table = []\n",
    "    score_train_table = []\n",
    "    score_valid_table = []\n",
    "    \n",
    "    #Цикл перебора всех параметров: bootstrap, class_weight, max_features, max_depth\n",
    "    for p in tqdm.tqdm(myproduct,):\n",
    "        #Обучение модели\n",
    "        model_forest = RandomForestClassifier(\n",
    "            bootstrap=p[0] , class_weight= p[1], max_features = p[2], max_depth = p[3], \n",
    "            n_estimators = 10, random_state=12345)\n",
    "        model_forest.fit(features_train, target_train)\n",
    "        prediction = model_forest.predict(features_valid) #предсказание целевого признака\n",
    "        \n",
    "        #расчет параметров\n",
    "        f1 = f1_score(target_valid, prediction)\n",
    "        recall = recall_score(target_valid, prediction)\n",
    "        precision = precision_score(target_valid, prediction)\n",
    "        score_train = model_forest.score(features_train, target_train)\n",
    "        score_valid = model_forest.score(features_valid, target_valid)\n",
    "        \n",
    "        #внесение значиний параметров в строки\n",
    "        bootstrap_table.append(p[0])\n",
    "        class_weight_table.append(p[1])\n",
    "        features_table.append(p[2])\n",
    "        depth_table.append(p[3])\n",
    "\n",
    "        #внесение значений метрик в строки\n",
    "        f1_table.append(f1)\n",
    "        recall_table.append(recall)\n",
    "        precision_table.append(precision)\n",
    "        score_train_table.append(score_train)\n",
    "        score_valid_table.append(score_valid)\n",
    "               \n",
    "    \n",
    "    #Обоъединение строк в датафрем\n",
    "    quality_table = pd.DataFrame(data = (\n",
    "        bootstrap_table, class_weight_table, features_table, depth_table, \n",
    "        f1_table, recall_table, precision_table, score_train_table, score_valid_table)).T\n",
    "    quality_table.columns = (\n",
    "        'bootstrap', 'class_weight', 'max_features', 'max_depth', 'f1', 'recall', 'precision', 'score_train', 'score_valid')\n",
    "    return quality_table\n",
    "\n",
    "    \"4 параметра: features_train, target_train — признаки и целевой признак обучающей выборки\"\n",
    "    \"features_valid, target_valid — признаки и целевой признак обучающей выборки\""
   ]
  },
  {
   "cell_type": "code",
   "execution_count": 53,
   "metadata": {},
   "outputs": [
    {
     "name": "stderr",
     "output_type": "stream",
     "text": [
      "228it [00:21, 10.73it/s]\n"
     ]
    }
   ],
   "source": [
    "\n",
    "quality_table = RandomForestQuality(features_train_upsampled, target_train_upsampled, features_valid, target_valid)"
   ]
  },
  {
   "cell_type": "code",
   "execution_count": 54,
   "metadata": {},
   "outputs": [
    {
     "data": {
      "text/html": [
       "<div>\n",
       "<style scoped>\n",
       "    .dataframe tbody tr th:only-of-type {\n",
       "        vertical-align: middle;\n",
       "    }\n",
       "\n",
       "    .dataframe tbody tr th {\n",
       "        vertical-align: top;\n",
       "    }\n",
       "\n",
       "    .dataframe thead th {\n",
       "        text-align: right;\n",
       "    }\n",
       "</style>\n",
       "<table border=\"1\" class=\"dataframe\">\n",
       "  <thead>\n",
       "    <tr style=\"text-align: right;\">\n",
       "      <th></th>\n",
       "      <th>bootstrap</th>\n",
       "      <th>class_weight</th>\n",
       "      <th>max_features</th>\n",
       "      <th>max_depth</th>\n",
       "      <th>f1</th>\n",
       "      <th>recall</th>\n",
       "      <th>precision</th>\n",
       "      <th>score_train</th>\n",
       "      <th>score_valid</th>\n",
       "    </tr>\n",
       "  </thead>\n",
       "  <tbody>\n",
       "    <tr>\n",
       "      <th>22</th>\n",
       "      <td>True</td>\n",
       "      <td>balanced_subsample</td>\n",
       "      <td>sqrt</td>\n",
       "      <td>4</td>\n",
       "      <td>0.57732</td>\n",
       "      <td>0.715128</td>\n",
       "      <td>0.484043</td>\n",
       "      <td>0.770262</td>\n",
       "      <td>0.7868</td>\n",
       "    </tr>\n",
       "    <tr>\n",
       "      <th>41</th>\n",
       "      <td>True</td>\n",
       "      <td>balanced_subsample</td>\n",
       "      <td>log2</td>\n",
       "      <td>4</td>\n",
       "      <td>0.57732</td>\n",
       "      <td>0.715128</td>\n",
       "      <td>0.484043</td>\n",
       "      <td>0.770262</td>\n",
       "      <td>0.7868</td>\n",
       "    </tr>\n",
       "    <tr>\n",
       "      <th>3</th>\n",
       "      <td>True</td>\n",
       "      <td>balanced_subsample</td>\n",
       "      <td>auto</td>\n",
       "      <td>4</td>\n",
       "      <td>0.57732</td>\n",
       "      <td>0.715128</td>\n",
       "      <td>0.484043</td>\n",
       "      <td>0.770262</td>\n",
       "      <td>0.7868</td>\n",
       "    </tr>\n",
       "    <tr>\n",
       "      <th>136</th>\n",
       "      <td>False</td>\n",
       "      <td>balanced_subsample</td>\n",
       "      <td>sqrt</td>\n",
       "      <td>4</td>\n",
       "      <td>0.576862</td>\n",
       "      <td>0.715128</td>\n",
       "      <td>0.4834</td>\n",
       "      <td>0.767407</td>\n",
       "      <td>0.7864</td>\n",
       "    </tr>\n",
       "    <tr>\n",
       "      <th>117</th>\n",
       "      <td>False</td>\n",
       "      <td>balanced_subsample</td>\n",
       "      <td>auto</td>\n",
       "      <td>4</td>\n",
       "      <td>0.576862</td>\n",
       "      <td>0.715128</td>\n",
       "      <td>0.4834</td>\n",
       "      <td>0.767407</td>\n",
       "      <td>0.7864</td>\n",
       "    </tr>\n",
       "  </tbody>\n",
       "</table>\n",
       "</div>"
      ],
      "text/plain": [
       "    bootstrap        class_weight max_features max_depth        f1    recall  \\\n",
       "22       True  balanced_subsample         sqrt         4   0.57732  0.715128   \n",
       "41       True  balanced_subsample         log2         4   0.57732  0.715128   \n",
       "3        True  balanced_subsample         auto         4   0.57732  0.715128   \n",
       "136     False  balanced_subsample         sqrt         4  0.576862  0.715128   \n",
       "117     False  balanced_subsample         auto         4  0.576862  0.715128   \n",
       "\n",
       "    precision score_train score_valid  \n",
       "22   0.484043    0.770262      0.7868  \n",
       "41   0.484043    0.770262      0.7868  \n",
       "3    0.484043    0.770262      0.7868  \n",
       "136    0.4834    0.767407      0.7864  \n",
       "117    0.4834    0.767407      0.7864  "
      ]
     },
     "execution_count": 54,
     "metadata": {},
     "output_type": "execute_result"
    }
   ],
   "source": [
    "quality_table.query('score_valid>=score_train').sort_values('f1', ascending = False).head()"
   ]
  },
  {
   "cell_type": "markdown",
   "metadata": {},
   "source": [
    "Лучшие параметры модели:\n",
    "model = RandomForestClassifier(bootstrap = True, class_weight = 'balanced_subsample', max_depth= 4, n_estimators = 10, random_state=12345)"
   ]
  },
  {
   "cell_type": "markdown",
   "metadata": {},
   "source": [
    "обучим финальную модель"
   ]
  },
  {
   "cell_type": "code",
   "execution_count": 55,
   "metadata": {},
   "outputs": [
    {
     "data": {
      "text/plain": [
       "RandomForestClassifier(max_depth=7, random_state=12345)"
      ]
     },
     "execution_count": 55,
     "metadata": {},
     "output_type": "execute_result"
    }
   ],
   "source": [
    "model_RFC_final = RandomForestClassifier(\n",
    "    bootstrap = True, max_depth= 7,  n_estimators = 100, random_state=12345)\n",
    "model_RFC_final.fit(features_train_upsampled, target_train_upsampled)"
   ]
  },
  {
   "cell_type": "markdown",
   "metadata": {},
   "source": [
    "не вижу 64 ячейку, убрал взвешивание классов из 52 ячейки, 54 соотвественно тоже изменится"
   ]
  },
  {
   "cell_type": "markdown",
   "metadata": {},
   "source": [
    "<div class=\"alert alert-warning\">\n",
    "<h2>Комментарий ревьюера v4<a class=\"tocSkip\"></a></h2>\n",
    "    \n",
    "**Есть совет** ⚠️: для большей наглядности добавил <a href=\"#upsampling_balanced\">комментарий</a> под ячейкой с одновременным использованием обоих методов</div>"
   ]
  },
  {
   "cell_type": "markdown",
   "metadata": {},
   "source": [
    "<div class=\"alert alert-warning\">\n",
    "<h2>Комментарий ревьюера v2<a class=\"tocSkip\"></a></h2>\n",
    "    \n",
    "**Есть совет** ⚠️: обрати внимание, что в модели `model_RFC_final` используются не те гиперпараметры, которые оказались лучшими на этапе подбора, не забудь поправить</div>"
   ]
  },
  {
   "cell_type": "code",
   "execution_count": 57,
   "metadata": {},
   "outputs": [
    {
     "name": "stdout",
     "output_type": "stream",
     "text": [
      "F1 0.5932336742722265\n",
      "AUC-ROC 0.8544521071738342\n"
     ]
    }
   ],
   "source": [
    "model_RFC_final_prediction = model_RFC_final.predict(features_valid)\n",
    "rec_prec_f1(model_RFC_final, features_valid, target_valid)"
   ]
  },
  {
   "cell_type": "markdown",
   "metadata": {},
   "source": [
    "Проверка модели на адекватность"
   ]
  },
  {
   "cell_type": "code",
   "execution_count": 58,
   "metadata": {},
   "outputs": [
    {
     "data": {
      "text/plain": [
       "0    2500\n",
       "dtype: int64"
      ]
     },
     "execution_count": 58,
     "metadata": {},
     "output_type": "execute_result"
    }
   ],
   "source": [
    "#Создаем константную модель\n",
    "target_predict_constant = pd.Series([0]*len(target_valid))\n",
    "target_predict_constant.value_counts()"
   ]
  },
  {
   "cell_type": "code",
   "execution_count": 59,
   "metadata": {},
   "outputs": [
    {
     "name": "stdout",
     "output_type": "stream",
     "text": [
      "accuracy_score константой модели: 0.7964\n",
      "accuracy_score финальной модели: 0.7932\n",
      "AUC-ROC константой модели: 0.5\n",
      "AUC-ROC финальной модели: 0.7736489053392526\n"
     ]
    }
   ],
   "source": [
    "#Сравним показатель точности (accuracy_score) константной модели и финальной\n",
    "print('accuracy_score константой модели:', accuracy_score(target_valid, target_predict_constant))\n",
    "print('accuracy_score финальной модели:', accuracy_score(target_valid, model_RFC_final_prediction))\n",
    "#Дополнительно сравним AUC-ROC — единственный параметр подающийся сравнению, потому что константная подель содержит только негативные ответы\n",
    "print('AUC-ROC константой модели:', roc_auc_score(target_valid, target_predict_constant))\n",
    "print('AUC-ROC финальной модели:', roc_auc_score(target_valid, model_RFC_final_prediction))"
   ]
  },
  {
   "cell_type": "markdown",
   "metadata": {},
   "source": [
    "Финальная модель показывает результаты лучше, чем константная модель — модель можно считать адекватной"
   ]
  },
  {
   "cell_type": "markdown",
   "metadata": {},
   "source": [
    "ВЫВОДЫ:\n",
    "    \n",
    "1)В первоначальные данных наблюдался значительный дисбаланс (80% ответов целевого признака были негативными и только 20% позитивными), из-за чего обученная на этих данных модель не проходила проверку на адекватность."
   ]
  },
  {
   "cell_type": "markdown",
   "metadata": {},
   "source": [
    "2)мы устранили дисбаланс классов и добились результа почти равного 50 на 50 \n",
    "\n",
    "3)На новых данных все модели показали результат выше, чем на несбалансированной выборке. Лучшие показатели были у модели случайного леса\n",
    "\n",
    "4)Улучшение модели происходило путем цикла выбора параметров, которые показывали наиболее высокое значение F1 меры и не приводили модель к переобучению.\n",
    "\n",
    "5)Финальная модель прошла проверку"
   ]
  },
  {
   "cell_type": "markdown",
   "metadata": {},
   "source": [
    "<div class=\"alert alert-success\">\n",
    "<h2>Комментарий ревьюера v3<a class=\"tocSkip\"></a></h2>\n",
    "    \n",
    "**Отлично!** ✔️: 👍</div>"
   ]
  },
  {
   "cell_type": "markdown",
   "metadata": {},
   "source": [
    "<div class=\"alert alert-warning\">\n",
    "<h2>Комментарий ревьюера v2<a class=\"tocSkip\"></a></h2>\n",
    "    \n",
    "**Есть совет** ⚠️: еще для наглядности не хватает таблички с результатами, где будет название модели, примененный способ борьбы с дисбалансом, лучшие гиперпараметры и значения метрик F1 и ROC-AUC</div>"
   ]
  },
  {
   "cell_type": "markdown",
   "metadata": {},
   "source": [
    "## Тестирование модели"
   ]
  },
  {
   "cell_type": "code",
   "execution_count": 60,
   "metadata": {},
   "outputs": [
    {
     "name": "stdout",
     "output_type": "stream",
     "text": [
      "F1 0.2714508580343214\n",
      "AUC-ROC 0.5203854476776141\n"
     ]
    }
   ],
   "source": [
    "model_RFC_final\n",
    "model_RFC_final_prediction = model_RFC_final.predict(features_test)\n",
    "rec_prec_f1(model_RFC_final, features_test, target_test)"
   ]
  },
  {
   "cell_type": "markdown",
   "metadata": {},
   "source": [
    "<div class=\"alert alert-success\">\n",
    "<h2>Комментарий ревьюера v2<a class=\"tocSkip\"></a></h2>\n",
    "    \n",
    "**Отлично!** ✔️: бейзлайн побит, ура!</div>"
   ]
  },
  {
   "cell_type": "code",
   "execution_count": 61,
   "metadata": {},
   "outputs": [
    {
     "data": {
      "image/png": "[encoded data removed]",
      "text/plain": [
       "<Figure size 432x288 with 1 Axes>"
      ]
     },
     "metadata": {
      "needs_background": "light"
     },
     "output_type": "display_data"
    }
   ],
   "source": [
    "final_model_probabilities_one = model_LgR.predict_proba(features_test)[:, 1]\n",
    "\n",
    "fpr, tpr, thresholds = roc_curve(target_test, final_model_probabilities_one) \n",
    "\n",
    "plt.figure()\n",
    "plt.plot(fpr, tpr)\n",
    "plt.plot([0, 1], [0, 1], linestyle='--')\n",
    "plt.xlim([0.0, 1.0])\n",
    "plt.ylim([0.0, 1.0])\n",
    "plt.xlabel('False Positive Rate')\n",
    "plt.ylabel('True Positive Rate')\n",
    "plt.title('ROC-кривая')\n",
    "plt.show()"
   ]
  },
  {
   "cell_type": "markdown",
   "metadata": {},
   "source": [
    "<div class=\"alert alert-warning\">\n",
    "<h2>Комментарий ревьюера v8<a class=\"tocSkip\"></a></h2>\n",
    "    \n",
    "**Есть совет** ⚠️: после исправлений опечаток при подборе гиперпараметров, не забудь убедиться, что на финальном тестировании используется лучшая модель с прошлого этапа, скорее всего, этого будет достаточно, чтобы получить необходимое значение F1.\n",
    "    \n",
    "Также в ячейке выше для расчета вероятностей используется логистическая регрессия, а не лучшая модель, нужно поправить</div>"
   ]
  },
  {
   "cell_type": "markdown",
   "metadata": {},
   "source": [
    "Финальная достигла заданой метрики (F1 > 0.59) и показывает адекватные результаты.\n",
    "Модель характеризуется высоким показателем полноты = 0.738 (min = 0, max = 1), поэтому она с высокой вероятностью предскажит уход клиента из банка.\n",
    "Показатель точности не высокий = 0.508 (min = 0, max = 1) — модель верно предсказывает только половину ухода клиентов.\n",
    "С точки зрения бизнеса полученная модель поможет маркетологам лучше определять килентов, которые могут уйти в ближайшее время. Важно, что модель покрывает большое количество клиентов, в данном случае это важнее чем точность."
   ]
  },
  {
   "cell_type": "markdown",
   "metadata": {},
   "source": [
    "<div style=\"padding: 20px 25px; border: 2px #6495ed solid\">\n",
    "    \n",
    "<h2 style=\"color: #87187D\">Итоговый комментарий ревьюера<a class=\"tocSkip\"></a></h2>\n",
    "\n",
    "Надеюсь, теперь стало понятнее :)\n",
    "\n",
    "Я проверил сделанную часть и сразу хочу обратить твое внимание на следующее:\n",
    "* перепроверь этап с заполнением пропусков;\n",
    "* поправь переменную с закодированной выборкой\n",
    "* для сравнения моделей необходимо рассчитать F1 и AUC-ROC\n",
    "\n",
    "Остальные комментарии можно найти в проекте. Готов ответить на любые вопросы :)\n",
    "\n",
    "<b>Жду доработанный проект на повторное ревью! Удачи!</b>\n",
    "        \n",
    "</div>"
   ]
  },
  {
   "cell_type": "markdown",
   "metadata": {},
   "source": [
    "<div style=\"padding: 20px 25px; border: 2px #6495ed solid\">\n",
    "    \n",
    "<h2 style=\"color: #87187D\">Итоговый комментарий ревьюера v2<a class=\"tocSkip\"></a></h2>\n",
    "\n",
    "Теперь весь проект на месте, супер!\n",
    "\n",
    "Осталось поправить несколько недоработок и проект будет зачтен:\n",
    "* поправь расчет AUC-ROC во всем проекте;\n",
    "* подбери гиперпараметры для моделей на каждом этапе;\n",
    "* не используй взвешивание классов вместе с upsampling;\n",
    "* проверь еще хотя бы один способ борьбы с дисбалансом для всех моделей;\n",
    "\n",
    "Не стесняйся задавать вопросы, если что-то непонятно\n",
    "\n",
    "<b>Жду доработанный проект на повторное ревью! Удачи!</b>\n",
    "        \n",
    "</div>"
   ]
  },
  {
   "cell_type": "markdown",
   "metadata": {},
   "source": [
    "## Чек-лист готовности проекта"
   ]
  },
  {
   "cell_type": "markdown",
   "metadata": {},
   "source": [
    "Поставьте 'x' в выполненных пунктах. Далее нажмите Shift+Enter."
   ]
  },
  {
   "cell_type": "markdown",
   "metadata": {},
   "source": [
    "- [x]  Jupyter Notebook открыт\n",
    "- [x]  Весь код выполняется без ошибок\n",
    "- [x]  Ячейки с кодом расположены в порядке исполнения\n",
    "- [x]  Выполнен шаг 1: данные подготовлены\n",
    "- [x]  Выполнен шаг 2: задача исследована\n",
    "    - [x]  Исследован баланс классов\n",
    "    - [x]  Изучены модели без учёта дисбаланса\n",
    "    - [x]  Написаны выводы по результатам исследования\n",
    "- [x]  Выполнен шаг 3: учтён дисбаланс\n",
    "    - [x]  Применено несколько способов борьбы с дисбалансом\n",
    "    - [x]  Написаны выводы по результатам исследования\n",
    "- [x]  Выполнен шаг 4: проведено тестирование\n",
    "- [x]  Удалось достичь *F1*-меры не менее 0.59\n",
    "- [x]  Исследована метрика *AUC-ROC*"
   ]
  }
 ],
 "metadata": {
  "ExecuteTimeLog": [
   {
    "duration": 47,
    "start_time": "2024-01-31T10:58:01.932Z"
   },
   {
    "duration": 1494,
    "start_time": "2024-01-31T10:58:04.847Z"
   },
   {
    "duration": 74,
    "start_time": "2024-01-31T10:58:06.875Z"
   },
   {
    "duration": 3,
    "start_time": "2024-01-31T10:59:09.974Z"
   },
   {
    "duration": 97,
    "start_time": "2024-01-31T10:59:43.930Z"
   },
   {
    "duration": 22,
    "start_time": "2024-01-31T10:59:57.695Z"
   },
   {
    "duration": 4,
    "start_time": "2024-01-31T11:00:30.200Z"
   },
   {
    "duration": 5,
    "start_time": "2024-01-31T11:01:16.682Z"
   },
   {
    "duration": 12,
    "start_time": "2024-01-31T11:01:35.972Z"
   },
   {
    "duration": 23,
    "start_time": "2024-01-31T11:03:39.564Z"
   },
   {
    "duration": 22,
    "start_time": "2024-01-31T11:04:27.219Z"
   },
   {
    "duration": 36,
    "start_time": "2024-01-31T11:04:39.745Z"
   },
   {
    "duration": 4,
    "start_time": "2024-01-31T11:05:24.280Z"
   },
   {
    "duration": 5,
    "start_time": "2024-01-31T11:06:17.349Z"
   },
   {
    "duration": 6,
    "start_time": "2024-01-31T11:06:40.342Z"
   },
   {
    "duration": 5,
    "start_time": "2024-01-31T11:06:47.393Z"
   },
   {
    "duration": 9,
    "start_time": "2024-01-31T11:07:29.817Z"
   },
   {
    "duration": 12,
    "start_time": "2024-01-31T11:07:43.753Z"
   },
   {
    "duration": 9,
    "start_time": "2024-01-31T11:20:03.855Z"
   },
   {
    "duration": 13,
    "start_time": "2024-01-31T11:21:16.018Z"
   },
   {
    "duration": 7,
    "start_time": "2024-01-31T11:21:20.191Z"
   },
   {
    "duration": 8,
    "start_time": "2024-01-31T11:21:21.751Z"
   },
   {
    "duration": 3,
    "start_time": "2024-01-31T11:22:02.073Z"
   },
   {
    "duration": 3,
    "start_time": "2024-01-31T11:22:22.049Z"
   },
   {
    "duration": 10,
    "start_time": "2024-01-31T11:22:36.750Z"
   },
   {
    "duration": 24,
    "start_time": "2024-01-31T11:23:02.991Z"
   },
   {
    "duration": 29,
    "start_time": "2024-01-31T11:23:28.952Z"
   },
   {
    "duration": 20,
    "start_time": "2024-01-31T11:27:01.565Z"
   },
   {
    "duration": 48,
    "start_time": "2024-01-31T11:27:32.691Z"
   },
   {
    "duration": 3,
    "start_time": "2024-01-31T11:27:49.185Z"
   },
   {
    "duration": 4,
    "start_time": "2024-01-31T11:28:25.293Z"
   },
   {
    "duration": 46,
    "start_time": "2024-01-31T11:28:42.674Z"
   },
   {
    "duration": 4,
    "start_time": "2024-01-31T11:29:05.932Z"
   },
   {
    "duration": 4,
    "start_time": "2024-01-31T11:30:05.323Z"
   },
   {
    "duration": 1380,
    "start_time": "2024-01-31T11:30:11.140Z"
   },
   {
    "duration": 81,
    "start_time": "2024-01-31T11:30:12.522Z"
   },
   {
    "duration": 20,
    "start_time": "2024-01-31T11:30:12.605Z"
   },
   {
    "duration": 23,
    "start_time": "2024-01-31T11:30:12.627Z"
   },
   {
    "duration": 10,
    "start_time": "2024-01-31T11:30:12.652Z"
   },
   {
    "duration": 22,
    "start_time": "2024-01-31T11:30:12.665Z"
   },
   {
    "duration": 21,
    "start_time": "2024-01-31T11:30:12.689Z"
   },
   {
    "duration": 29,
    "start_time": "2024-01-31T11:30:12.721Z"
   },
   {
    "duration": 5,
    "start_time": "2024-01-31T11:30:12.752Z"
   },
   {
    "duration": 15,
    "start_time": "2024-01-31T11:30:12.760Z"
   },
   {
    "duration": 12,
    "start_time": "2024-01-31T11:30:12.777Z"
   },
   {
    "duration": 41,
    "start_time": "2024-01-31T11:30:12.791Z"
   },
   {
    "duration": 39,
    "start_time": "2024-01-31T11:30:12.833Z"
   },
   {
    "duration": 11,
    "start_time": "2024-01-31T11:30:12.873Z"
   },
   {
    "duration": 23,
    "start_time": "2024-01-31T11:30:12.887Z"
   },
   {
    "duration": 35,
    "start_time": "2024-01-31T11:30:12.912Z"
   },
   {
    "duration": 21,
    "start_time": "2024-01-31T11:30:12.949Z"
   },
   {
    "duration": 20,
    "start_time": "2024-01-31T11:30:12.972Z"
   },
   {
    "duration": 72,
    "start_time": "2024-01-31T11:30:12.994Z"
   },
   {
    "duration": 5,
    "start_time": "2024-01-31T11:30:13.068Z"
   },
   {
    "duration": 7,
    "start_time": "2024-01-31T11:30:13.075Z"
   },
   {
    "duration": 157,
    "start_time": "2024-01-31T11:30:13.084Z"
   },
   {
    "duration": 22,
    "start_time": "2024-01-31T11:32:40.708Z"
   },
   {
    "duration": 4,
    "start_time": "2024-01-31T11:32:46.007Z"
   },
   {
    "duration": 5,
    "start_time": "2024-01-31T11:34:20.588Z"
   },
   {
    "duration": 7,
    "start_time": "2024-01-31T11:34:24.893Z"
   },
   {
    "duration": 32,
    "start_time": "2024-01-31T11:34:38.293Z"
   },
   {
    "duration": 16,
    "start_time": "2024-01-31T11:35:24.080Z"
   },
   {
    "duration": 16,
    "start_time": "2024-01-31T11:35:40.468Z"
   },
   {
    "duration": 1460,
    "start_time": "2024-01-31T11:36:11.114Z"
   },
   {
    "duration": 59,
    "start_time": "2024-01-31T11:36:12.576Z"
   },
   {
    "duration": 15,
    "start_time": "2024-01-31T11:36:12.637Z"
   },
   {
    "duration": 8,
    "start_time": "2024-01-31T11:36:12.655Z"
   },
   {
    "duration": 13,
    "start_time": "2024-01-31T11:36:12.666Z"
   },
   {
    "duration": 37,
    "start_time": "2024-01-31T11:36:12.681Z"
   },
   {
    "duration": 14,
    "start_time": "2024-01-31T11:36:12.720Z"
   },
   {
    "duration": 24,
    "start_time": "2024-01-31T11:36:12.736Z"
   },
   {
    "duration": 4,
    "start_time": "2024-01-31T11:36:12.762Z"
   },
   {
    "duration": 4,
    "start_time": "2024-01-31T11:36:12.768Z"
   },
   {
    "duration": 9,
    "start_time": "2024-01-31T11:36:12.774Z"
   },
   {
    "duration": 41,
    "start_time": "2024-01-31T11:36:12.785Z"
   },
   {
    "duration": 25,
    "start_time": "2024-01-31T11:36:12.828Z"
   },
   {
    "duration": 2,
    "start_time": "2024-01-31T11:36:12.856Z"
   },
   {
    "duration": 14,
    "start_time": "2024-01-31T11:36:12.860Z"
   },
   {
    "duration": 24,
    "start_time": "2024-01-31T11:36:12.876Z"
   },
   {
    "duration": 21,
    "start_time": "2024-01-31T11:36:12.920Z"
   },
   {
    "duration": 24,
    "start_time": "2024-01-31T11:36:12.942Z"
   },
   {
    "duration": 100,
    "start_time": "2024-01-31T11:36:12.969Z"
   },
   {
    "duration": 6,
    "start_time": "2024-01-31T11:36:13.071Z"
   },
   {
    "duration": 27,
    "start_time": "2024-01-31T11:36:13.079Z"
   },
   {
    "duration": 144,
    "start_time": "2024-01-31T11:36:13.108Z"
   },
   {
    "duration": 0,
    "start_time": "2024-01-31T11:36:13.254Z"
   },
   {
    "duration": 0,
    "start_time": "2024-01-31T11:36:13.255Z"
   },
   {
    "duration": 5,
    "start_time": "2024-01-31T11:39:28.342Z"
   },
   {
    "duration": 5,
    "start_time": "2024-01-31T11:39:41.852Z"
   },
   {
    "duration": 5,
    "start_time": "2024-01-31T11:39:47.372Z"
   },
   {
    "duration": 25,
    "start_time": "2024-01-31T11:40:06.124Z"
   },
   {
    "duration": 1545,
    "start_time": "2024-02-01T10:39:05.579Z"
   },
   {
    "duration": 97,
    "start_time": "2024-02-01T10:39:07.125Z"
   },
   {
    "duration": 12,
    "start_time": "2024-02-01T10:39:07.224Z"
   },
   {
    "duration": 7,
    "start_time": "2024-02-01T10:39:07.238Z"
   },
   {
    "duration": 16,
    "start_time": "2024-02-01T10:39:07.246Z"
   },
   {
    "duration": 20,
    "start_time": "2024-02-01T10:39:07.263Z"
   },
   {
    "duration": 12,
    "start_time": "2024-02-01T10:39:07.285Z"
   },
   {
    "duration": 40,
    "start_time": "2024-02-01T10:39:07.299Z"
   },
   {
    "duration": 12,
    "start_time": "2024-02-01T10:39:07.341Z"
   },
   {
    "duration": 20,
    "start_time": "2024-02-01T10:39:07.355Z"
   },
   {
    "duration": 13,
    "start_time": "2024-02-01T10:39:07.376Z"
   },
   {
    "duration": 22,
    "start_time": "2024-02-01T10:39:07.391Z"
   },
   {
    "duration": 25,
    "start_time": "2024-02-01T10:39:07.414Z"
   },
   {
    "duration": 6,
    "start_time": "2024-02-01T10:39:07.441Z"
   },
   {
    "duration": 17,
    "start_time": "2024-02-01T10:39:07.448Z"
   },
   {
    "duration": 21,
    "start_time": "2024-02-01T10:39:07.467Z"
   },
   {
    "duration": 20,
    "start_time": "2024-02-01T10:39:07.489Z"
   },
   {
    "duration": 28,
    "start_time": "2024-02-01T10:39:07.510Z"
   },
   {
    "duration": 55,
    "start_time": "2024-02-01T10:39:07.540Z"
   },
   {
    "duration": 6,
    "start_time": "2024-02-01T10:39:07.597Z"
   },
   {
    "duration": 19,
    "start_time": "2024-02-01T10:39:07.605Z"
   },
   {
    "duration": 696,
    "start_time": "2024-02-01T10:39:07.626Z"
   },
   {
    "duration": 97,
    "start_time": "2024-02-01T10:39:08.324Z"
   },
   {
    "duration": 799,
    "start_time": "2024-02-01T10:39:08.423Z"
   },
   {
    "duration": 97,
    "start_time": "2024-02-01T10:39:09.225Z"
   },
   {
    "duration": 71,
    "start_time": "2024-02-01T10:39:09.323Z"
   },
   {
    "duration": 4,
    "start_time": "2024-02-01T10:42:11.021Z"
   },
   {
    "duration": 4,
    "start_time": "2024-02-01T10:42:13.949Z"
   },
   {
    "duration": 4,
    "start_time": "2024-02-01T10:43:45.214Z"
   },
   {
    "duration": 4,
    "start_time": "2024-02-01T10:43:49.172Z"
   },
   {
    "duration": 4,
    "start_time": "2024-02-01T10:43:52.657Z"
   },
   {
    "duration": 5,
    "start_time": "2024-02-01T10:44:02.804Z"
   },
   {
    "duration": 139,
    "start_time": "2024-02-01T10:44:30.523Z"
   },
   {
    "duration": 4,
    "start_time": "2024-02-01T10:44:40.330Z"
   },
   {
    "duration": 34,
    "start_time": "2024-02-01T10:44:42.812Z"
   },
   {
    "duration": 5,
    "start_time": "2024-02-01T10:45:10.111Z"
   },
   {
    "duration": 34,
    "start_time": "2024-02-01T10:45:14.307Z"
   },
   {
    "duration": 35,
    "start_time": "2024-02-01T10:46:13.772Z"
   },
   {
    "duration": 4,
    "start_time": "2024-02-01T10:46:15.844Z"
   },
   {
    "duration": 4,
    "start_time": "2024-02-01T10:49:22.213Z"
   },
   {
    "duration": 594,
    "start_time": "2024-02-01T10:49:25.462Z"
   },
   {
    "duration": 608,
    "start_time": "2024-02-01T10:49:27.817Z"
   },
   {
    "duration": 3,
    "start_time": "2024-02-01T10:49:42.489Z"
   },
   {
    "duration": 657,
    "start_time": "2024-02-01T10:49:44.423Z"
   },
   {
    "duration": 5,
    "start_time": "2024-02-01T10:54:23.714Z"
   },
   {
    "duration": 6,
    "start_time": "2024-02-01T10:54:31.350Z"
   },
   {
    "duration": 675,
    "start_time": "2024-02-01T10:55:19.673Z"
   },
   {
    "duration": 34,
    "start_time": "2024-02-01T10:58:33.927Z"
   },
   {
    "duration": 3,
    "start_time": "2024-02-01T10:59:38.618Z"
   },
   {
    "duration": 4,
    "start_time": "2024-02-01T10:59:41.629Z"
   },
   {
    "duration": 11,
    "start_time": "2024-02-01T10:59:53.626Z"
   },
   {
    "duration": 84,
    "start_time": "2024-02-01T11:01:20.471Z"
   },
   {
    "duration": 3,
    "start_time": "2024-02-01T11:01:22.554Z"
   },
   {
    "duration": 80,
    "start_time": "2024-02-01T11:01:26.139Z"
   },
   {
    "duration": 11,
    "start_time": "2024-02-01T11:01:32.931Z"
   },
   {
    "duration": 649,
    "start_time": "2024-02-01T11:01:57.169Z"
   },
   {
    "duration": 10,
    "start_time": "2024-02-01T11:02:20.493Z"
   },
   {
    "duration": 24,
    "start_time": "2024-02-01T11:03:08.084Z"
   },
   {
    "duration": 10,
    "start_time": "2024-02-01T11:03:30.690Z"
   },
   {
    "duration": 3,
    "start_time": "2024-02-01T11:04:08.154Z"
   },
   {
    "duration": 6,
    "start_time": "2024-02-01T11:06:33.174Z"
   },
   {
    "duration": 6,
    "start_time": "2024-02-01T11:06:40.570Z"
   },
   {
    "duration": 5,
    "start_time": "2024-02-01T11:06:45.183Z"
   },
   {
    "duration": 14,
    "start_time": "2024-02-01T11:06:57.106Z"
   },
   {
    "duration": 7,
    "start_time": "2024-02-01T11:07:14.239Z"
   },
   {
    "duration": 11,
    "start_time": "2024-02-01T11:07:26.226Z"
   },
   {
    "duration": 659,
    "start_time": "2024-02-01T11:08:14.681Z"
   },
   {
    "duration": 67,
    "start_time": "2024-02-01T11:08:24.282Z"
   },
   {
    "duration": 895,
    "start_time": "2024-02-01T11:08:33.453Z"
   },
   {
    "duration": 48,
    "start_time": "2024-02-01T11:08:45.965Z"
   },
   {
    "duration": 833,
    "start_time": "2024-02-01T11:08:54.555Z"
   },
   {
    "duration": 117,
    "start_time": "2024-02-01T11:09:04.606Z"
   },
   {
    "duration": 6,
    "start_time": "2024-02-01T11:09:56.820Z"
   },
   {
    "duration": 391,
    "start_time": "2024-02-01T11:13:46.087Z"
   },
   {
    "duration": 433,
    "start_time": "2024-02-01T11:14:55.574Z"
   },
   {
    "duration": 466,
    "start_time": "2024-02-01T11:16:22.699Z"
   },
   {
    "duration": 471,
    "start_time": "2024-02-01T11:16:45.717Z"
   },
   {
    "duration": 476,
    "start_time": "2024-02-01T11:16:48.262Z"
   },
   {
    "duration": 466,
    "start_time": "2024-02-01T11:16:53.137Z"
   },
   {
    "duration": 658,
    "start_time": "2024-02-01T11:17:01.818Z"
   },
   {
    "duration": 427,
    "start_time": "2024-02-01T11:17:11.536Z"
   },
   {
    "duration": 159,
    "start_time": "2024-02-01T11:17:55.090Z"
   },
   {
    "duration": 4213,
    "start_time": "2024-02-01T11:18:50.463Z"
   },
   {
    "duration": 0,
    "start_time": "2024-02-01T11:19:16.631Z"
   },
   {
    "duration": 4327,
    "start_time": "2024-02-01T11:19:28.961Z"
   },
   {
    "duration": 4157,
    "start_time": "2024-02-01T11:19:53.047Z"
   },
   {
    "duration": 4159,
    "start_time": "2024-02-01T11:20:03.999Z"
   },
   {
    "duration": 4241,
    "start_time": "2024-02-01T11:20:11.277Z"
   },
   {
    "duration": 2,
    "start_time": "2024-02-01T11:21:18.004Z"
   },
   {
    "duration": 11,
    "start_time": "2024-02-01T11:21:32.054Z"
   },
   {
    "duration": 9,
    "start_time": "2024-02-01T11:21:50.647Z"
   },
   {
    "duration": 36739,
    "start_time": "2024-02-01T11:22:04.940Z"
   },
   {
    "duration": 27,
    "start_time": "2024-02-01T11:22:41.694Z"
   },
   {
    "duration": 13,
    "start_time": "2024-02-01T11:22:54.277Z"
   },
   {
    "duration": 8,
    "start_time": "2024-02-01T11:22:57.261Z"
   },
   {
    "duration": 36199,
    "start_time": "2024-02-01T11:23:01.330Z"
   },
   {
    "duration": 13,
    "start_time": "2024-02-01T11:23:37.531Z"
   },
   {
    "duration": 1376,
    "start_time": "2024-02-01T11:24:51.440Z"
   },
   {
    "duration": 57,
    "start_time": "2024-02-01T11:24:52.818Z"
   },
   {
    "duration": 13,
    "start_time": "2024-02-01T11:24:52.876Z"
   },
   {
    "duration": 22,
    "start_time": "2024-02-01T11:24:52.891Z"
   },
   {
    "duration": 37,
    "start_time": "2024-02-01T11:24:52.915Z"
   },
   {
    "duration": 12,
    "start_time": "2024-02-01T11:24:52.953Z"
   },
   {
    "duration": 19,
    "start_time": "2024-02-01T11:24:52.967Z"
   },
   {
    "duration": 23,
    "start_time": "2024-02-01T11:24:52.987Z"
   },
   {
    "duration": 10,
    "start_time": "2024-02-01T11:24:53.012Z"
   },
   {
    "duration": 16,
    "start_time": "2024-02-01T11:24:53.025Z"
   },
   {
    "duration": 8,
    "start_time": "2024-02-01T11:24:53.043Z"
   },
   {
    "duration": 15,
    "start_time": "2024-02-01T11:24:53.052Z"
   },
   {
    "duration": 6,
    "start_time": "2024-02-01T11:24:53.069Z"
   },
   {
    "duration": 4,
    "start_time": "2024-02-01T11:24:53.077Z"
   },
   {
    "duration": 15,
    "start_time": "2024-02-01T11:24:53.083Z"
   },
   {
    "duration": 25,
    "start_time": "2024-02-01T11:24:53.100Z"
   },
   {
    "duration": 18,
    "start_time": "2024-02-01T11:24:53.127Z"
   },
   {
    "duration": 18,
    "start_time": "2024-02-01T11:24:53.146Z"
   },
   {
    "duration": 82,
    "start_time": "2024-02-01T11:24:53.165Z"
   },
   {
    "duration": 4,
    "start_time": "2024-02-01T11:24:53.248Z"
   },
   {
    "duration": 17,
    "start_time": "2024-02-01T11:24:53.253Z"
   },
   {
    "duration": 753,
    "start_time": "2024-02-01T11:24:53.271Z"
   },
   {
    "duration": 97,
    "start_time": "2024-02-01T11:24:54.025Z"
   },
   {
    "duration": 34,
    "start_time": "2024-02-01T11:24:54.124Z"
   },
   {
    "duration": 6,
    "start_time": "2024-02-01T11:24:54.160Z"
   },
   {
    "duration": 669,
    "start_time": "2024-02-01T11:24:54.167Z"
   },
   {
    "duration": 85,
    "start_time": "2024-02-01T11:24:54.838Z"
   },
   {
    "duration": 151,
    "start_time": "2024-02-01T11:24:54.929Z"
   },
   {
    "duration": 42,
    "start_time": "2024-02-01T11:24:55.081Z"
   },
   {
    "duration": 3,
    "start_time": "2024-02-01T11:24:55.124Z"
   },
   {
    "duration": 33,
    "start_time": "2024-02-01T11:24:55.129Z"
   },
   {
    "duration": 659,
    "start_time": "2024-02-01T11:24:55.163Z"
   },
   {
    "duration": 10,
    "start_time": "2024-02-01T11:24:55.823Z"
   },
   {
    "duration": 40,
    "start_time": "2024-02-01T11:24:55.834Z"
   },
   {
    "duration": 12,
    "start_time": "2024-02-01T11:24:55.921Z"
   },
   {
    "duration": 3,
    "start_time": "2024-02-01T11:24:56.022Z"
   },
   {
    "duration": 96,
    "start_time": "2024-02-01T11:24:56.027Z"
   },
   {
    "duration": 13,
    "start_time": "2024-02-01T11:24:56.124Z"
   },
   {
    "duration": 45,
    "start_time": "2024-02-01T11:24:56.138Z"
   },
   {
    "duration": 6,
    "start_time": "2024-02-01T11:24:56.184Z"
   },
   {
    "duration": 25,
    "start_time": "2024-02-01T11:24:56.191Z"
   },
   {
    "duration": 704,
    "start_time": "2024-02-01T11:24:56.218Z"
   },
   {
    "duration": 1022,
    "start_time": "2024-02-01T11:24:56.924Z"
   },
   {
    "duration": 201,
    "start_time": "2024-02-01T11:24:57.949Z"
   },
   {
    "duration": 853,
    "start_time": "2024-02-01T11:24:58.152Z"
   },
   {
    "duration": 116,
    "start_time": "2024-02-01T11:24:59.006Z"
   },
   {
    "duration": 97,
    "start_time": "2024-02-01T11:24:59.127Z"
   },
   {
    "duration": 21,
    "start_time": "2024-02-01T11:24:59.226Z"
   },
   {
    "duration": 36146,
    "start_time": "2024-02-01T11:24:59.248Z"
   },
   {
    "duration": 14,
    "start_time": "2024-02-01T11:25:35.396Z"
   },
   {
    "duration": 70,
    "start_time": "2024-02-01T11:26:31.060Z"
   },
   {
    "duration": 532,
    "start_time": "2024-02-01T11:27:03.256Z"
   },
   {
    "duration": 507,
    "start_time": "2024-02-01T11:27:09.858Z"
   },
   {
    "duration": 51,
    "start_time": "2024-02-01T11:27:30.964Z"
   },
   {
    "duration": 6,
    "start_time": "2024-02-01T11:27:59.565Z"
   },
   {
    "duration": 9,
    "start_time": "2024-02-01T11:28:26.025Z"
   },
   {
    "duration": 3,
    "start_time": "2024-02-01T11:30:10.800Z"
   },
   {
    "duration": 55,
    "start_time": "2024-02-01T11:31:13.748Z"
   },
   {
    "duration": 301,
    "start_time": "2024-02-01T11:31:28.730Z"
   },
   {
    "duration": 1431,
    "start_time": "2024-02-01T11:36:05.217Z"
   },
   {
    "duration": 56,
    "start_time": "2024-02-01T11:36:06.650Z"
   },
   {
    "duration": 13,
    "start_time": "2024-02-01T11:36:06.708Z"
   },
   {
    "duration": 97,
    "start_time": "2024-02-01T11:36:06.723Z"
   },
   {
    "duration": 0,
    "start_time": "2024-02-01T11:36:06.823Z"
   },
   {
    "duration": 0,
    "start_time": "2024-02-01T11:36:06.824Z"
   },
   {
    "duration": 0,
    "start_time": "2024-02-01T11:36:06.826Z"
   },
   {
    "duration": 0,
    "start_time": "2024-02-01T11:36:06.827Z"
   },
   {
    "duration": 0,
    "start_time": "2024-02-01T11:36:06.829Z"
   },
   {
    "duration": 0,
    "start_time": "2024-02-01T11:36:06.830Z"
   },
   {
    "duration": 0,
    "start_time": "2024-02-01T11:36:06.831Z"
   },
   {
    "duration": 0,
    "start_time": "2024-02-01T11:36:06.832Z"
   },
   {
    "duration": 0,
    "start_time": "2024-02-01T11:36:06.834Z"
   },
   {
    "duration": 0,
    "start_time": "2024-02-01T11:36:06.835Z"
   },
   {
    "duration": 0,
    "start_time": "2024-02-01T11:36:06.836Z"
   },
   {
    "duration": 0,
    "start_time": "2024-02-01T11:36:06.837Z"
   },
   {
    "duration": 0,
    "start_time": "2024-02-01T11:36:06.839Z"
   },
   {
    "duration": 0,
    "start_time": "2024-02-01T11:36:06.840Z"
   },
   {
    "duration": 0,
    "start_time": "2024-02-01T11:36:06.841Z"
   },
   {
    "duration": 0,
    "start_time": "2024-02-01T11:36:06.843Z"
   },
   {
    "duration": 0,
    "start_time": "2024-02-01T11:36:06.844Z"
   },
   {
    "duration": 0,
    "start_time": "2024-02-01T11:36:06.845Z"
   },
   {
    "duration": 0,
    "start_time": "2024-02-01T11:36:06.846Z"
   },
   {
    "duration": 0,
    "start_time": "2024-02-01T11:36:06.848Z"
   },
   {
    "duration": 0,
    "start_time": "2024-02-01T11:36:06.849Z"
   },
   {
    "duration": 0,
    "start_time": "2024-02-01T11:36:06.851Z"
   },
   {
    "duration": 0,
    "start_time": "2024-02-01T11:36:06.852Z"
   },
   {
    "duration": 0,
    "start_time": "2024-02-01T11:36:06.853Z"
   },
   {
    "duration": 0,
    "start_time": "2024-02-01T11:36:06.855Z"
   },
   {
    "duration": 0,
    "start_time": "2024-02-01T11:36:06.855Z"
   },
   {
    "duration": 0,
    "start_time": "2024-02-01T11:36:06.857Z"
   },
   {
    "duration": 0,
    "start_time": "2024-02-01T11:36:06.858Z"
   },
   {
    "duration": 0,
    "start_time": "2024-02-01T11:36:06.859Z"
   },
   {
    "duration": 0,
    "start_time": "2024-02-01T11:36:06.860Z"
   },
   {
    "duration": 0,
    "start_time": "2024-02-01T11:36:06.861Z"
   },
   {
    "duration": 0,
    "start_time": "2024-02-01T11:36:06.862Z"
   },
   {
    "duration": 0,
    "start_time": "2024-02-01T11:36:06.921Z"
   },
   {
    "duration": 0,
    "start_time": "2024-02-01T11:36:06.922Z"
   },
   {
    "duration": 0,
    "start_time": "2024-02-01T11:36:06.923Z"
   },
   {
    "duration": 0,
    "start_time": "2024-02-01T11:36:06.924Z"
   },
   {
    "duration": 0,
    "start_time": "2024-02-01T11:36:06.925Z"
   },
   {
    "duration": 0,
    "start_time": "2024-02-01T11:36:06.926Z"
   },
   {
    "duration": 1,
    "start_time": "2024-02-01T11:36:06.927Z"
   },
   {
    "duration": 0,
    "start_time": "2024-02-01T11:36:06.928Z"
   },
   {
    "duration": 0,
    "start_time": "2024-02-01T11:36:06.929Z"
   },
   {
    "duration": 0,
    "start_time": "2024-02-01T11:36:06.931Z"
   },
   {
    "duration": 0,
    "start_time": "2024-02-01T11:36:06.932Z"
   },
   {
    "duration": 0,
    "start_time": "2024-02-01T11:36:06.933Z"
   },
   {
    "duration": 0,
    "start_time": "2024-02-01T11:36:06.934Z"
   },
   {
    "duration": 0,
    "start_time": "2024-02-01T11:36:06.935Z"
   },
   {
    "duration": 0,
    "start_time": "2024-02-01T11:36:06.936Z"
   },
   {
    "duration": 0,
    "start_time": "2024-02-01T11:36:06.937Z"
   },
   {
    "duration": 0,
    "start_time": "2024-02-01T11:36:06.938Z"
   },
   {
    "duration": 0,
    "start_time": "2024-02-01T11:36:06.940Z"
   },
   {
    "duration": 0,
    "start_time": "2024-02-01T11:36:06.941Z"
   },
   {
    "duration": 0,
    "start_time": "2024-02-01T11:36:06.941Z"
   },
   {
    "duration": 1395,
    "start_time": "2024-02-01T11:36:33.518Z"
   },
   {
    "duration": 55,
    "start_time": "2024-02-01T11:36:34.915Z"
   },
   {
    "duration": 12,
    "start_time": "2024-02-01T11:36:34.971Z"
   },
   {
    "duration": 99,
    "start_time": "2024-02-01T11:36:34.984Z"
   },
   {
    "duration": 0,
    "start_time": "2024-02-01T11:36:35.086Z"
   },
   {
    "duration": 0,
    "start_time": "2024-02-01T11:36:35.087Z"
   },
   {
    "duration": 0,
    "start_time": "2024-02-01T11:36:35.088Z"
   },
   {
    "duration": 0,
    "start_time": "2024-02-01T11:36:35.089Z"
   },
   {
    "duration": 0,
    "start_time": "2024-02-01T11:36:35.090Z"
   },
   {
    "duration": 0,
    "start_time": "2024-02-01T11:36:35.091Z"
   },
   {
    "duration": 0,
    "start_time": "2024-02-01T11:36:35.092Z"
   },
   {
    "duration": 0,
    "start_time": "2024-02-01T11:36:35.093Z"
   },
   {
    "duration": 0,
    "start_time": "2024-02-01T11:36:35.094Z"
   },
   {
    "duration": 0,
    "start_time": "2024-02-01T11:36:35.095Z"
   },
   {
    "duration": 0,
    "start_time": "2024-02-01T11:36:35.096Z"
   },
   {
    "duration": 0,
    "start_time": "2024-02-01T11:36:35.097Z"
   },
   {
    "duration": 0,
    "start_time": "2024-02-01T11:36:35.098Z"
   },
   {
    "duration": 0,
    "start_time": "2024-02-01T11:36:35.099Z"
   },
   {
    "duration": 0,
    "start_time": "2024-02-01T11:36:35.100Z"
   },
   {
    "duration": 0,
    "start_time": "2024-02-01T11:36:35.101Z"
   },
   {
    "duration": 0,
    "start_time": "2024-02-01T11:36:35.102Z"
   },
   {
    "duration": 0,
    "start_time": "2024-02-01T11:36:35.103Z"
   },
   {
    "duration": 0,
    "start_time": "2024-02-01T11:36:35.103Z"
   },
   {
    "duration": 0,
    "start_time": "2024-02-01T11:36:35.105Z"
   },
   {
    "duration": 0,
    "start_time": "2024-02-01T11:36:35.105Z"
   },
   {
    "duration": 0,
    "start_time": "2024-02-01T11:36:35.106Z"
   },
   {
    "duration": 0,
    "start_time": "2024-02-01T11:36:35.107Z"
   },
   {
    "duration": 0,
    "start_time": "2024-02-01T11:36:35.108Z"
   },
   {
    "duration": 0,
    "start_time": "2024-02-01T11:36:35.109Z"
   },
   {
    "duration": 0,
    "start_time": "2024-02-01T11:36:35.110Z"
   },
   {
    "duration": 0,
    "start_time": "2024-02-01T11:36:35.111Z"
   },
   {
    "duration": 0,
    "start_time": "2024-02-01T11:36:35.112Z"
   },
   {
    "duration": 0,
    "start_time": "2024-02-01T11:36:35.113Z"
   },
   {
    "duration": 0,
    "start_time": "2024-02-01T11:36:35.114Z"
   },
   {
    "duration": 0,
    "start_time": "2024-02-01T11:36:35.115Z"
   },
   {
    "duration": 0,
    "start_time": "2024-02-01T11:36:35.116Z"
   },
   {
    "duration": 0,
    "start_time": "2024-02-01T11:36:35.117Z"
   },
   {
    "duration": 0,
    "start_time": "2024-02-01T11:36:35.118Z"
   },
   {
    "duration": 0,
    "start_time": "2024-02-01T11:36:35.119Z"
   },
   {
    "duration": 0,
    "start_time": "2024-02-01T11:36:35.120Z"
   },
   {
    "duration": 0,
    "start_time": "2024-02-01T11:36:35.121Z"
   },
   {
    "duration": 0,
    "start_time": "2024-02-01T11:36:35.122Z"
   },
   {
    "duration": 0,
    "start_time": "2024-02-01T11:36:35.123Z"
   },
   {
    "duration": 0,
    "start_time": "2024-02-01T11:36:35.124Z"
   },
   {
    "duration": 0,
    "start_time": "2024-02-01T11:36:35.124Z"
   },
   {
    "duration": 0,
    "start_time": "2024-02-01T11:36:35.125Z"
   },
   {
    "duration": 0,
    "start_time": "2024-02-01T11:36:35.126Z"
   },
   {
    "duration": 0,
    "start_time": "2024-02-01T11:36:35.127Z"
   },
   {
    "duration": 0,
    "start_time": "2024-02-01T11:36:35.128Z"
   },
   {
    "duration": 0,
    "start_time": "2024-02-01T11:36:35.129Z"
   },
   {
    "duration": 0,
    "start_time": "2024-02-01T11:36:35.130Z"
   },
   {
    "duration": 0,
    "start_time": "2024-02-01T11:36:35.131Z"
   },
   {
    "duration": 0,
    "start_time": "2024-02-01T11:36:35.132Z"
   },
   {
    "duration": 0,
    "start_time": "2024-02-01T11:36:35.133Z"
   },
   {
    "duration": 0,
    "start_time": "2024-02-01T11:36:35.134Z"
   },
   {
    "duration": 0,
    "start_time": "2024-02-01T11:36:35.135Z"
   },
   {
    "duration": 100,
    "start_time": "2024-02-01T11:37:11.297Z"
   },
   {
    "duration": 73,
    "start_time": "2024-02-01T11:38:10.318Z"
   },
   {
    "duration": 7,
    "start_time": "2024-02-01T11:38:19.875Z"
   },
   {
    "duration": 4,
    "start_time": "2024-02-01T11:39:44.580Z"
   },
   {
    "duration": 6,
    "start_time": "2024-02-01T11:39:47.861Z"
   },
   {
    "duration": 4,
    "start_time": "2024-02-01T11:39:49.604Z"
   },
   {
    "duration": 1259,
    "start_time": "2024-02-01T11:39:56.454Z"
   },
   {
    "duration": 57,
    "start_time": "2024-02-01T11:39:57.714Z"
   },
   {
    "duration": 14,
    "start_time": "2024-02-01T11:39:57.772Z"
   },
   {
    "duration": 9,
    "start_time": "2024-02-01T11:39:57.787Z"
   },
   {
    "duration": 6,
    "start_time": "2024-02-01T11:39:57.799Z"
   },
   {
    "duration": 10,
    "start_time": "2024-02-01T11:39:57.807Z"
   },
   {
    "duration": 19,
    "start_time": "2024-02-01T11:39:57.818Z"
   },
   {
    "duration": 12,
    "start_time": "2024-02-01T11:39:57.838Z"
   },
   {
    "duration": 31,
    "start_time": "2024-02-01T11:39:57.852Z"
   },
   {
    "duration": 23,
    "start_time": "2024-02-01T11:39:57.884Z"
   },
   {
    "duration": 50,
    "start_time": "2024-02-01T11:39:57.908Z"
   },
   {
    "duration": 35,
    "start_time": "2024-02-01T11:39:57.959Z"
   },
   {
    "duration": 20,
    "start_time": "2024-02-01T11:39:57.995Z"
   },
   {
    "duration": 12,
    "start_time": "2024-02-01T11:39:58.018Z"
   },
   {
    "duration": 19,
    "start_time": "2024-02-01T11:39:58.031Z"
   },
   {
    "duration": 17,
    "start_time": "2024-02-01T11:39:58.051Z"
   },
   {
    "duration": 43,
    "start_time": "2024-02-01T11:39:58.069Z"
   },
   {
    "duration": 40,
    "start_time": "2024-02-01T11:39:58.113Z"
   },
   {
    "duration": 17,
    "start_time": "2024-02-01T11:39:58.154Z"
   },
   {
    "duration": 52,
    "start_time": "2024-02-01T11:39:58.172Z"
   },
   {
    "duration": 4,
    "start_time": "2024-02-01T11:39:58.225Z"
   },
   {
    "duration": 42,
    "start_time": "2024-02-01T11:39:58.230Z"
   },
   {
    "duration": 746,
    "start_time": "2024-02-01T11:39:58.274Z"
   },
   {
    "duration": 98,
    "start_time": "2024-02-01T11:39:59.026Z"
   },
   {
    "duration": 12,
    "start_time": "2024-02-01T11:39:59.125Z"
   },
   {
    "duration": 22,
    "start_time": "2024-02-01T11:39:59.139Z"
   },
   {
    "duration": 760,
    "start_time": "2024-02-01T11:39:59.162Z"
   },
   {
    "duration": 97,
    "start_time": "2024-02-01T11:39:59.924Z"
   },
   {
    "duration": 145,
    "start_time": "2024-02-01T11:40:00.023Z"
   },
   {
    "duration": 263,
    "start_time": "2024-02-01T11:40:00.170Z"
   },
   {
    "duration": 191,
    "start_time": "2024-02-01T11:40:00.434Z"
   },
   {
    "duration": 60,
    "start_time": "2024-02-01T11:40:00.627Z"
   },
   {
    "duration": 691,
    "start_time": "2024-02-01T11:40:00.688Z"
   },
   {
    "duration": 10,
    "start_time": "2024-02-01T11:40:01.380Z"
   },
   {
    "duration": 114,
    "start_time": "2024-02-01T11:40:01.391Z"
   },
   {
    "duration": 219,
    "start_time": "2024-02-01T11:40:01.507Z"
   },
   {
    "duration": 128,
    "start_time": "2024-02-01T11:40:01.729Z"
   },
   {
    "duration": 213,
    "start_time": "2024-02-01T11:40:01.859Z"
   },
   {
    "duration": 444,
    "start_time": "2024-02-01T11:40:02.073Z"
   },
   {
    "duration": 25,
    "start_time": "2024-02-01T11:40:02.518Z"
   },
   {
    "duration": 6,
    "start_time": "2024-02-01T11:40:02.547Z"
   },
   {
    "duration": 11,
    "start_time": "2024-02-01T11:40:02.555Z"
   },
   {
    "duration": 697,
    "start_time": "2024-02-01T11:40:02.567Z"
   },
   {
    "duration": 1057,
    "start_time": "2024-02-01T11:40:03.265Z"
   },
   {
    "duration": 211,
    "start_time": "2024-02-01T11:40:04.326Z"
   },
   {
    "duration": 819,
    "start_time": "2024-02-01T11:40:04.539Z"
   },
   {
    "duration": 162,
    "start_time": "2024-02-01T11:40:05.360Z"
   },
   {
    "duration": 6,
    "start_time": "2024-02-01T11:40:05.524Z"
   },
   {
    "duration": 22,
    "start_time": "2024-02-01T11:40:05.532Z"
   },
   {
    "duration": 36193,
    "start_time": "2024-02-01T11:40:05.556Z"
   },
   {
    "duration": 16,
    "start_time": "2024-02-01T11:40:41.750Z"
   },
   {
    "duration": 543,
    "start_time": "2024-02-01T11:40:41.768Z"
   },
   {
    "duration": 51,
    "start_time": "2024-02-01T11:40:42.312Z"
   },
   {
    "duration": 6,
    "start_time": "2024-02-01T11:40:42.364Z"
   },
   {
    "duration": 18,
    "start_time": "2024-02-01T11:40:42.371Z"
   },
   {
    "duration": 65,
    "start_time": "2024-02-01T11:40:42.391Z"
   },
   {
    "duration": 282,
    "start_time": "2024-02-01T11:40:42.458Z"
   },
   {
    "duration": 1527,
    "start_time": "2024-02-07T10:58:29.997Z"
   },
   {
    "duration": 169,
    "start_time": "2024-02-07T10:58:31.526Z"
   },
   {
    "duration": 13,
    "start_time": "2024-02-07T10:58:31.696Z"
   },
   {
    "duration": 19,
    "start_time": "2024-02-07T10:58:31.711Z"
   },
   {
    "duration": 81,
    "start_time": "2024-02-07T10:58:31.731Z"
   },
   {
    "duration": 60,
    "start_time": "2024-02-07T10:58:31.813Z"
   },
   {
    "duration": 72,
    "start_time": "2024-02-07T10:58:31.875Z"
   },
   {
    "duration": 25,
    "start_time": "2024-02-07T10:58:31.949Z"
   },
   {
    "duration": 38,
    "start_time": "2024-02-07T10:58:31.976Z"
   },
   {
    "duration": 23,
    "start_time": "2024-02-07T10:58:32.016Z"
   },
   {
    "duration": 83,
    "start_time": "2024-02-07T10:58:32.041Z"
   },
   {
    "duration": 60,
    "start_time": "2024-02-07T10:58:32.125Z"
   },
   {
    "duration": 43,
    "start_time": "2024-02-07T10:58:32.186Z"
   },
   {
    "duration": 49,
    "start_time": "2024-02-07T10:58:32.230Z"
   },
   {
    "duration": 33,
    "start_time": "2024-02-07T10:58:32.280Z"
   },
   {
    "duration": 23,
    "start_time": "2024-02-07T10:58:32.314Z"
   },
   {
    "duration": 40,
    "start_time": "2024-02-07T10:58:32.338Z"
   },
   {
    "duration": 41,
    "start_time": "2024-02-07T10:58:32.379Z"
   },
   {
    "duration": 48,
    "start_time": "2024-02-07T10:58:32.422Z"
   },
   {
    "duration": 45,
    "start_time": "2024-02-07T10:58:32.471Z"
   },
   {
    "duration": 7,
    "start_time": "2024-02-07T10:58:32.518Z"
   },
   {
    "duration": 40,
    "start_time": "2024-02-07T10:58:32.526Z"
   },
   {
    "duration": 727,
    "start_time": "2024-02-07T10:58:32.568Z"
   },
   {
    "duration": 98,
    "start_time": "2024-02-07T10:58:33.298Z"
   },
   {
    "duration": 17,
    "start_time": "2024-02-07T10:58:33.397Z"
   },
   {
    "duration": 18,
    "start_time": "2024-02-07T10:58:33.415Z"
   },
   {
    "duration": 762,
    "start_time": "2024-02-07T10:58:33.434Z"
   },
   {
    "duration": 5,
    "start_time": "2024-02-07T10:58:34.294Z"
   },
   {
    "duration": 14,
    "start_time": "2024-02-07T10:58:34.300Z"
   },
   {
    "duration": 52,
    "start_time": "2024-02-07T10:58:34.316Z"
   },
   {
    "duration": 3,
    "start_time": "2024-02-07T10:58:34.370Z"
   },
   {
    "duration": 17,
    "start_time": "2024-02-07T10:58:34.374Z"
   },
   {
    "duration": 621,
    "start_time": "2024-02-07T10:58:34.392Z"
   },
   {
    "duration": 11,
    "start_time": "2024-02-07T10:58:35.014Z"
   },
   {
    "duration": 69,
    "start_time": "2024-02-07T10:58:35.027Z"
   },
   {
    "duration": 103,
    "start_time": "2024-02-07T10:58:35.099Z"
   },
   {
    "duration": 93,
    "start_time": "2024-02-07T10:58:35.204Z"
   },
   {
    "duration": 95,
    "start_time": "2024-02-07T10:58:35.300Z"
   },
   {
    "duration": 12,
    "start_time": "2024-02-07T10:58:35.397Z"
   },
   {
    "duration": 33,
    "start_time": "2024-02-07T10:58:35.411Z"
   },
   {
    "duration": 14,
    "start_time": "2024-02-07T10:58:35.445Z"
   },
   {
    "duration": 16,
    "start_time": "2024-02-07T10:58:35.460Z"
   },
   {
    "duration": 658,
    "start_time": "2024-02-07T10:58:35.477Z"
   },
   {
    "duration": 1060,
    "start_time": "2024-02-07T10:58:36.136Z"
   },
   {
    "duration": 133,
    "start_time": "2024-02-07T10:58:37.198Z"
   },
   {
    "duration": 883,
    "start_time": "2024-02-07T10:58:37.333Z"
   },
   {
    "duration": 81,
    "start_time": "2024-02-07T10:58:38.217Z"
   },
   {
    "duration": 98,
    "start_time": "2024-02-07T10:58:38.300Z"
   },
   {
    "duration": 26,
    "start_time": "2024-02-07T10:58:38.400Z"
   },
   {
    "duration": 36044,
    "start_time": "2024-02-07T10:58:38.427Z"
   },
   {
    "duration": 25,
    "start_time": "2024-02-07T10:59:14.473Z"
   },
   {
    "duration": 571,
    "start_time": "2024-02-07T10:59:14.500Z"
   },
   {
    "duration": 53,
    "start_time": "2024-02-07T10:59:15.073Z"
   },
   {
    "duration": 15,
    "start_time": "2024-02-07T10:59:15.127Z"
   },
   {
    "duration": 58,
    "start_time": "2024-02-07T10:59:15.144Z"
   },
   {
    "duration": 88,
    "start_time": "2024-02-07T10:59:15.203Z"
   },
   {
    "duration": 317,
    "start_time": "2024-02-07T10:59:15.292Z"
   },
   {
    "duration": 52,
    "start_time": "2024-02-07T11:00:08.787Z"
   },
   {
    "duration": 2,
    "start_time": "2024-02-07T11:00:19.576Z"
   },
   {
    "duration": 49,
    "start_time": "2024-02-07T11:00:21.783Z"
   },
   {
    "duration": 7,
    "start_time": "2024-02-07T11:00:26.838Z"
   },
   {
    "duration": 4,
    "start_time": "2024-02-07T11:00:29.607Z"
   },
   {
    "duration": 6,
    "start_time": "2024-02-07T11:00:31.910Z"
   },
   {
    "duration": 10,
    "start_time": "2024-02-07T11:00:34.363Z"
   },
   {
    "duration": 13,
    "start_time": "2024-02-07T11:00:35.791Z"
   },
   {
    "duration": 17,
    "start_time": "2024-02-07T11:00:39.665Z"
   },
   {
    "duration": 4,
    "start_time": "2024-02-07T11:00:44.476Z"
   },
   {
    "duration": 5,
    "start_time": "2024-02-07T11:00:46.159Z"
   },
   {
    "duration": 4,
    "start_time": "2024-02-07T11:00:47.756Z"
   },
   {
    "duration": 8,
    "start_time": "2024-02-07T11:00:49.425Z"
   },
   {
    "duration": 6,
    "start_time": "2024-02-07T11:00:50.994Z"
   },
   {
    "duration": 3,
    "start_time": "2024-02-07T11:00:54.282Z"
   },
   {
    "duration": 1408,
    "start_time": "2024-02-07T11:00:58.881Z"
   },
   {
    "duration": 55,
    "start_time": "2024-02-07T11:01:00.291Z"
   },
   {
    "duration": 33,
    "start_time": "2024-02-07T11:01:00.348Z"
   },
   {
    "duration": 62,
    "start_time": "2024-02-07T11:01:00.383Z"
   },
   {
    "duration": 27,
    "start_time": "2024-02-07T11:01:00.447Z"
   },
   {
    "duration": 9,
    "start_time": "2024-02-07T11:01:00.475Z"
   },
   {
    "duration": 46,
    "start_time": "2024-02-07T11:01:00.485Z"
   },
   {
    "duration": 63,
    "start_time": "2024-02-07T11:01:00.532Z"
   },
   {
    "duration": 80,
    "start_time": "2024-02-07T11:01:00.597Z"
   },
   {
    "duration": 17,
    "start_time": "2024-02-07T11:01:00.680Z"
   },
   {
    "duration": 29,
    "start_time": "2024-02-07T11:01:00.698Z"
   },
   {
    "duration": 12,
    "start_time": "2024-02-07T11:01:00.729Z"
   },
   {
    "duration": 52,
    "start_time": "2024-02-07T11:01:00.743Z"
   },
   {
    "duration": 134,
    "start_time": "2024-02-07T11:01:00.797Z"
   },
   {
    "duration": 20,
    "start_time": "2024-02-07T11:01:00.933Z"
   },
   {
    "duration": 31,
    "start_time": "2024-02-07T11:01:00.955Z"
   },
   {
    "duration": 61,
    "start_time": "2024-02-07T11:01:00.987Z"
   },
   {
    "duration": 88,
    "start_time": "2024-02-07T11:01:01.050Z"
   },
   {
    "duration": 36,
    "start_time": "2024-02-07T11:01:01.139Z"
   },
   {
    "duration": 114,
    "start_time": "2024-02-07T11:01:01.176Z"
   },
   {
    "duration": 54,
    "start_time": "2024-02-07T11:01:01.292Z"
   },
   {
    "duration": 82,
    "start_time": "2024-02-07T11:01:01.347Z"
   },
   {
    "duration": 801,
    "start_time": "2024-02-07T11:01:01.430Z"
   },
   {
    "duration": 99,
    "start_time": "2024-02-07T11:01:02.296Z"
   },
   {
    "duration": 124,
    "start_time": "2024-02-07T11:01:02.397Z"
   },
   {
    "duration": 50,
    "start_time": "2024-02-07T11:01:02.522Z"
   },
   {
    "duration": 724,
    "start_time": "2024-02-07T11:01:02.573Z"
   },
   {
    "duration": 6,
    "start_time": "2024-02-07T11:01:03.393Z"
   },
   {
    "duration": 32,
    "start_time": "2024-02-07T11:01:03.400Z"
   },
   {
    "duration": 65,
    "start_time": "2024-02-07T11:01:03.434Z"
   },
   {
    "duration": 52,
    "start_time": "2024-02-07T11:01:03.501Z"
   },
   {
    "duration": 21,
    "start_time": "2024-02-07T11:01:03.554Z"
   },
   {
    "duration": 647,
    "start_time": "2024-02-07T11:01:03.577Z"
   },
   {
    "duration": 11,
    "start_time": "2024-02-07T11:01:04.225Z"
   },
   {
    "duration": 101,
    "start_time": "2024-02-07T11:01:04.237Z"
   },
   {
    "duration": 155,
    "start_time": "2024-02-07T11:01:04.341Z"
   },
   {
    "duration": 3,
    "start_time": "2024-02-07T11:01:04.498Z"
   },
   {
    "duration": 28,
    "start_time": "2024-02-07T11:01:04.594Z"
   },
   {
    "duration": 9,
    "start_time": "2024-02-07T11:01:04.624Z"
   },
   {
    "duration": 17,
    "start_time": "2024-02-07T11:01:04.634Z"
   },
   {
    "duration": 6,
    "start_time": "2024-02-07T11:01:04.653Z"
   },
   {
    "duration": 17,
    "start_time": "2024-02-07T11:01:04.660Z"
   },
   {
    "duration": 719,
    "start_time": "2024-02-07T11:01:04.678Z"
   },
   {
    "duration": 1096,
    "start_time": "2024-02-07T11:01:05.398Z"
   },
   {
    "duration": 135,
    "start_time": "2024-02-07T11:01:06.497Z"
   },
   {
    "duration": 845,
    "start_time": "2024-02-07T11:01:06.635Z"
   },
   {
    "duration": 113,
    "start_time": "2024-02-07T11:01:07.482Z"
   },
   {
    "duration": 95,
    "start_time": "2024-02-07T11:01:07.599Z"
   },
   {
    "duration": 8,
    "start_time": "2024-02-07T11:01:07.696Z"
   },
   {
    "duration": 36317,
    "start_time": "2024-02-07T11:01:07.706Z"
   },
   {
    "duration": 13,
    "start_time": "2024-02-07T11:01:44.024Z"
   },
   {
    "duration": 512,
    "start_time": "2024-02-07T11:01:44.038Z"
   },
   {
    "duration": 52,
    "start_time": "2024-02-07T11:01:44.551Z"
   },
   {
    "duration": 6,
    "start_time": "2024-02-07T11:01:44.604Z"
   },
   {
    "duration": 30,
    "start_time": "2024-02-07T11:01:44.611Z"
   },
   {
    "duration": 72,
    "start_time": "2024-02-07T11:01:44.642Z"
   },
   {
    "duration": 319,
    "start_time": "2024-02-07T11:01:44.716Z"
   },
   {
    "duration": 515,
    "start_time": "2024-02-07T11:10:08.529Z"
   },
   {
    "duration": 117,
    "start_time": "2024-02-07T11:23:04.020Z"
   },
   {
    "duration": 15,
    "start_time": "2024-02-07T11:23:32.782Z"
   },
   {
    "duration": 10,
    "start_time": "2024-02-07T11:23:35.072Z"
   },
   {
    "duration": 627,
    "start_time": "2024-02-07T11:23:49.388Z"
   },
   {
    "duration": 36,
    "start_time": "2024-02-07T11:26:04.343Z"
   },
   {
    "duration": 47,
    "start_time": "2024-02-07T11:29:27.377Z"
   },
   {
    "duration": 612,
    "start_time": "2024-02-07T11:30:16.591Z"
   },
   {
    "duration": 210,
    "start_time": "2024-02-07T11:30:45.027Z"
   },
   {
    "duration": 56,
    "start_time": "2024-02-07T11:31:09.638Z"
   },
   {
    "duration": 9,
    "start_time": "2024-02-07T21:29:22.139Z"
   },
   {
    "duration": 45,
    "start_time": "2024-02-07T21:29:24.276Z"
   },
   {
    "duration": 1743,
    "start_time": "2024-02-07T21:29:30.814Z"
   },
   {
    "duration": 170,
    "start_time": "2024-02-07T21:29:32.559Z"
   },
   {
    "duration": 13,
    "start_time": "2024-02-07T21:29:32.731Z"
   },
   {
    "duration": 23,
    "start_time": "2024-02-07T21:29:32.746Z"
   },
   {
    "duration": 10,
    "start_time": "2024-02-07T21:29:32.771Z"
   },
   {
    "duration": 7,
    "start_time": "2024-02-07T21:29:32.782Z"
   },
   {
    "duration": 14,
    "start_time": "2024-02-07T21:29:32.790Z"
   },
   {
    "duration": 13,
    "start_time": "2024-02-07T21:29:32.805Z"
   },
   {
    "duration": 39,
    "start_time": "2024-02-07T21:29:32.820Z"
   },
   {
    "duration": 59,
    "start_time": "2024-02-07T21:29:32.862Z"
   },
   {
    "duration": 13,
    "start_time": "2024-02-07T21:29:32.923Z"
   },
   {
    "duration": 23,
    "start_time": "2024-02-07T21:29:32.938Z"
   },
   {
    "duration": 15,
    "start_time": "2024-02-07T21:29:32.962Z"
   },
   {
    "duration": 7,
    "start_time": "2024-02-07T21:29:32.979Z"
   },
   {
    "duration": 7,
    "start_time": "2024-02-07T21:29:32.988Z"
   },
   {
    "duration": 15,
    "start_time": "2024-02-07T21:29:32.997Z"
   },
   {
    "duration": 22,
    "start_time": "2024-02-07T21:29:33.014Z"
   },
   {
    "duration": 19,
    "start_time": "2024-02-07T21:29:33.038Z"
   },
   {
    "duration": 34,
    "start_time": "2024-02-07T21:29:33.058Z"
   },
   {
    "duration": 47,
    "start_time": "2024-02-07T21:29:33.094Z"
   },
   {
    "duration": 4,
    "start_time": "2024-02-07T21:29:33.142Z"
   },
   {
    "duration": 59,
    "start_time": "2024-02-07T21:29:33.147Z"
   },
   {
    "duration": 787,
    "start_time": "2024-02-07T21:29:33.208Z"
   },
   {
    "duration": 8,
    "start_time": "2024-02-07T21:29:33.997Z"
   },
   {
    "duration": 103,
    "start_time": "2024-02-07T21:29:34.093Z"
   },
   {
    "duration": 66,
    "start_time": "2024-02-07T21:29:34.198Z"
   },
   {
    "duration": 728,
    "start_time": "2024-02-07T21:29:34.265Z"
   },
   {
    "duration": 100,
    "start_time": "2024-02-07T21:29:34.999Z"
   },
   {
    "duration": 61,
    "start_time": "2024-02-07T21:29:35.101Z"
   },
   {
    "duration": 11,
    "start_time": "2024-02-07T21:29:35.163Z"
   },
   {
    "duration": 125,
    "start_time": "2024-02-07T21:29:35.175Z"
   },
   {
    "duration": 0,
    "start_time": "2024-02-07T21:29:35.302Z"
   },
   {
    "duration": 0,
    "start_time": "2024-02-07T21:29:35.303Z"
   },
   {
    "duration": 0,
    "start_time": "2024-02-07T21:29:35.304Z"
   },
   {
    "duration": 0,
    "start_time": "2024-02-07T21:29:35.305Z"
   },
   {
    "duration": 0,
    "start_time": "2024-02-07T21:29:35.306Z"
   },
   {
    "duration": 0,
    "start_time": "2024-02-07T21:29:35.307Z"
   },
   {
    "duration": 0,
    "start_time": "2024-02-07T21:29:35.308Z"
   },
   {
    "duration": 0,
    "start_time": "2024-02-07T21:29:35.309Z"
   },
   {
    "duration": 0,
    "start_time": "2024-02-07T21:29:35.310Z"
   },
   {
    "duration": 1,
    "start_time": "2024-02-07T21:29:35.311Z"
   },
   {
    "duration": 0,
    "start_time": "2024-02-07T21:29:35.313Z"
   },
   {
    "duration": 0,
    "start_time": "2024-02-07T21:29:35.314Z"
   },
   {
    "duration": 0,
    "start_time": "2024-02-07T21:29:35.315Z"
   },
   {
    "duration": 0,
    "start_time": "2024-02-07T21:29:35.316Z"
   },
   {
    "duration": 0,
    "start_time": "2024-02-07T21:29:35.318Z"
   },
   {
    "duration": 0,
    "start_time": "2024-02-07T21:29:35.319Z"
   },
   {
    "duration": 0,
    "start_time": "2024-02-07T21:29:35.320Z"
   },
   {
    "duration": 0,
    "start_time": "2024-02-07T21:29:35.321Z"
   },
   {
    "duration": 0,
    "start_time": "2024-02-07T21:29:35.322Z"
   },
   {
    "duration": 0,
    "start_time": "2024-02-07T21:29:35.324Z"
   },
   {
    "duration": 0,
    "start_time": "2024-02-07T21:29:35.325Z"
   },
   {
    "duration": 0,
    "start_time": "2024-02-07T21:29:35.326Z"
   },
   {
    "duration": 0,
    "start_time": "2024-02-07T21:29:35.327Z"
   },
   {
    "duration": 0,
    "start_time": "2024-02-07T21:29:35.328Z"
   },
   {
    "duration": 0,
    "start_time": "2024-02-07T21:29:35.329Z"
   },
   {
    "duration": 0,
    "start_time": "2024-02-07T21:29:35.330Z"
   },
   {
    "duration": 0,
    "start_time": "2024-02-07T21:29:35.331Z"
   },
   {
    "duration": 0,
    "start_time": "2024-02-07T21:29:35.333Z"
   },
   {
    "duration": 9,
    "start_time": "2024-02-07T21:33:08.307Z"
   },
   {
    "duration": 1568,
    "start_time": "2024-02-08T10:40:52.552Z"
   },
   {
    "duration": 96,
    "start_time": "2024-02-08T10:40:54.122Z"
   },
   {
    "duration": 17,
    "start_time": "2024-02-08T10:40:54.220Z"
   },
   {
    "duration": 17,
    "start_time": "2024-02-08T10:40:54.240Z"
   },
   {
    "duration": 17,
    "start_time": "2024-02-08T10:40:54.258Z"
   },
   {
    "duration": 12,
    "start_time": "2024-02-08T10:40:54.277Z"
   },
   {
    "duration": 33,
    "start_time": "2024-02-08T10:40:54.290Z"
   },
   {
    "duration": 21,
    "start_time": "2024-02-08T10:40:54.325Z"
   },
   {
    "duration": 40,
    "start_time": "2024-02-08T10:40:54.348Z"
   },
   {
    "duration": 8,
    "start_time": "2024-02-08T10:40:54.391Z"
   },
   {
    "duration": 23,
    "start_time": "2024-02-08T10:40:54.400Z"
   },
   {
    "duration": 6,
    "start_time": "2024-02-08T10:40:54.425Z"
   },
   {
    "duration": 26,
    "start_time": "2024-02-08T10:40:54.433Z"
   },
   {
    "duration": 6,
    "start_time": "2024-02-08T10:40:54.461Z"
   },
   {
    "duration": 2,
    "start_time": "2024-02-08T10:40:54.469Z"
   },
   {
    "duration": 10,
    "start_time": "2024-02-08T10:40:54.472Z"
   },
   {
    "duration": 26,
    "start_time": "2024-02-08T10:40:54.483Z"
   },
   {
    "duration": 19,
    "start_time": "2024-02-08T10:40:54.510Z"
   },
   {
    "duration": 22,
    "start_time": "2024-02-08T10:40:54.530Z"
   },
   {
    "duration": 66,
    "start_time": "2024-02-08T10:40:54.554Z"
   },
   {
    "duration": 4,
    "start_time": "2024-02-08T10:40:54.622Z"
   },
   {
    "duration": 22,
    "start_time": "2024-02-08T10:40:54.627Z"
   },
   {
    "duration": 832,
    "start_time": "2024-02-08T10:40:54.650Z"
   },
   {
    "duration": 98,
    "start_time": "2024-02-08T10:40:55.484Z"
   },
   {
    "duration": 8,
    "start_time": "2024-02-08T10:40:55.584Z"
   },
   {
    "duration": 32,
    "start_time": "2024-02-08T10:40:55.593Z"
   },
   {
    "duration": 756,
    "start_time": "2024-02-08T10:40:55.627Z"
   },
   {
    "duration": 95,
    "start_time": "2024-02-08T10:40:56.391Z"
   },
   {
    "duration": 25,
    "start_time": "2024-02-08T10:40:56.487Z"
   },
   {
    "duration": 8,
    "start_time": "2024-02-08T10:40:56.513Z"
   },
   {
    "duration": 146,
    "start_time": "2024-02-08T10:40:56.523Z"
   },
   {
    "duration": 0,
    "start_time": "2024-02-08T10:40:56.670Z"
   },
   {
    "duration": 0,
    "start_time": "2024-02-08T10:40:56.671Z"
   },
   {
    "duration": 0,
    "start_time": "2024-02-08T10:40:56.682Z"
   },
   {
    "duration": 0,
    "start_time": "2024-02-08T10:40:56.683Z"
   },
   {
    "duration": 0,
    "start_time": "2024-02-08T10:40:56.684Z"
   },
   {
    "duration": 0,
    "start_time": "2024-02-08T10:40:56.685Z"
   },
   {
    "duration": 0,
    "start_time": "2024-02-08T10:40:56.686Z"
   },
   {
    "duration": 0,
    "start_time": "2024-02-08T10:40:56.687Z"
   },
   {
    "duration": 0,
    "start_time": "2024-02-08T10:40:56.688Z"
   },
   {
    "duration": 0,
    "start_time": "2024-02-08T10:40:56.689Z"
   },
   {
    "duration": 0,
    "start_time": "2024-02-08T10:40:56.690Z"
   },
   {
    "duration": 0,
    "start_time": "2024-02-08T10:40:56.691Z"
   },
   {
    "duration": 0,
    "start_time": "2024-02-08T10:40:56.692Z"
   },
   {
    "duration": 0,
    "start_time": "2024-02-08T10:40:56.693Z"
   },
   {
    "duration": 0,
    "start_time": "2024-02-08T10:40:56.694Z"
   },
   {
    "duration": 0,
    "start_time": "2024-02-08T10:40:56.695Z"
   },
   {
    "duration": 0,
    "start_time": "2024-02-08T10:40:56.696Z"
   },
   {
    "duration": 0,
    "start_time": "2024-02-08T10:40:56.697Z"
   },
   {
    "duration": 0,
    "start_time": "2024-02-08T10:40:56.698Z"
   },
   {
    "duration": 0,
    "start_time": "2024-02-08T10:40:56.699Z"
   },
   {
    "duration": 0,
    "start_time": "2024-02-08T10:40:56.701Z"
   },
   {
    "duration": 0,
    "start_time": "2024-02-08T10:40:56.702Z"
   },
   {
    "duration": 0,
    "start_time": "2024-02-08T10:40:56.702Z"
   },
   {
    "duration": 0,
    "start_time": "2024-02-08T10:40:56.703Z"
   },
   {
    "duration": 0,
    "start_time": "2024-02-08T10:40:56.704Z"
   },
   {
    "duration": 0,
    "start_time": "2024-02-08T10:40:56.705Z"
   },
   {
    "duration": 0,
    "start_time": "2024-02-08T10:40:56.706Z"
   },
   {
    "duration": 0,
    "start_time": "2024-02-08T10:40:56.707Z"
   },
   {
    "duration": 4,
    "start_time": "2024-02-08T10:41:50.626Z"
   },
   {
    "duration": 3,
    "start_time": "2024-02-08T10:56:50.021Z"
   },
   {
    "duration": 53,
    "start_time": "2024-02-08T10:56:51.498Z"
   },
   {
    "duration": 1440,
    "start_time": "2024-02-08T10:57:27.682Z"
   },
   {
    "duration": 57,
    "start_time": "2024-02-08T10:57:29.124Z"
   },
   {
    "duration": 16,
    "start_time": "2024-02-08T10:57:29.183Z"
   },
   {
    "duration": 13,
    "start_time": "2024-02-08T10:57:29.201Z"
   },
   {
    "duration": 11,
    "start_time": "2024-02-08T10:57:29.216Z"
   },
   {
    "duration": 7,
    "start_time": "2024-02-08T10:57:29.229Z"
   },
   {
    "duration": 21,
    "start_time": "2024-02-08T10:57:29.237Z"
   },
   {
    "duration": 24,
    "start_time": "2024-02-08T10:57:29.260Z"
   },
   {
    "duration": 28,
    "start_time": "2024-02-08T10:57:29.285Z"
   },
   {
    "duration": 4,
    "start_time": "2024-02-08T10:57:29.316Z"
   },
   {
    "duration": 21,
    "start_time": "2024-02-08T10:57:29.321Z"
   },
   {
    "duration": 10,
    "start_time": "2024-02-08T10:57:29.344Z"
   },
   {
    "duration": 11,
    "start_time": "2024-02-08T10:57:29.355Z"
   },
   {
    "duration": 15,
    "start_time": "2024-02-08T10:57:29.367Z"
   },
   {
    "duration": 3,
    "start_time": "2024-02-08T10:57:29.383Z"
   },
   {
    "duration": 21,
    "start_time": "2024-02-08T10:57:29.387Z"
   },
   {
    "duration": 25,
    "start_time": "2024-02-08T10:57:29.409Z"
   },
   {
    "duration": 20,
    "start_time": "2024-02-08T10:57:29.435Z"
   },
   {
    "duration": 38,
    "start_time": "2024-02-08T10:57:29.456Z"
   },
   {
    "duration": 45,
    "start_time": "2024-02-08T10:57:29.495Z"
   },
   {
    "duration": 3,
    "start_time": "2024-02-08T10:57:29.542Z"
   },
   {
    "duration": 5,
    "start_time": "2024-02-08T10:57:29.547Z"
   },
   {
    "duration": 733,
    "start_time": "2024-02-08T10:57:29.553Z"
   },
   {
    "duration": 95,
    "start_time": "2024-02-08T10:57:30.287Z"
   },
   {
    "duration": 119,
    "start_time": "2024-02-08T10:57:30.385Z"
   },
   {
    "duration": 56,
    "start_time": "2024-02-08T10:57:30.505Z"
   },
   {
    "duration": 822,
    "start_time": "2024-02-08T10:57:30.563Z"
   },
   {
    "duration": 93,
    "start_time": "2024-02-08T10:57:31.391Z"
   },
   {
    "duration": 47,
    "start_time": "2024-02-08T10:57:31.486Z"
   },
   {
    "duration": 21,
    "start_time": "2024-02-08T10:57:31.535Z"
   },
   {
    "duration": 120,
    "start_time": "2024-02-08T10:57:31.557Z"
   },
   {
    "duration": 0,
    "start_time": "2024-02-08T10:57:31.679Z"
   },
   {
    "duration": 0,
    "start_time": "2024-02-08T10:57:31.681Z"
   },
   {
    "duration": 0,
    "start_time": "2024-02-08T10:57:31.682Z"
   },
   {
    "duration": 0,
    "start_time": "2024-02-08T10:57:31.683Z"
   },
   {
    "duration": 0,
    "start_time": "2024-02-08T10:57:31.684Z"
   },
   {
    "duration": 0,
    "start_time": "2024-02-08T10:57:31.686Z"
   },
   {
    "duration": 0,
    "start_time": "2024-02-08T10:57:31.687Z"
   },
   {
    "duration": 0,
    "start_time": "2024-02-08T10:57:31.688Z"
   },
   {
    "duration": 0,
    "start_time": "2024-02-08T10:57:31.689Z"
   },
   {
    "duration": 0,
    "start_time": "2024-02-08T10:57:31.691Z"
   },
   {
    "duration": 0,
    "start_time": "2024-02-08T10:57:31.693Z"
   },
   {
    "duration": 0,
    "start_time": "2024-02-08T10:57:31.694Z"
   },
   {
    "duration": 0,
    "start_time": "2024-02-08T10:57:31.695Z"
   },
   {
    "duration": 0,
    "start_time": "2024-02-08T10:57:31.696Z"
   },
   {
    "duration": 0,
    "start_time": "2024-02-08T10:57:31.698Z"
   },
   {
    "duration": 0,
    "start_time": "2024-02-08T10:57:31.699Z"
   },
   {
    "duration": 0,
    "start_time": "2024-02-08T10:57:31.700Z"
   },
   {
    "duration": 0,
    "start_time": "2024-02-08T10:57:31.701Z"
   },
   {
    "duration": 0,
    "start_time": "2024-02-08T10:57:31.702Z"
   },
   {
    "duration": 0,
    "start_time": "2024-02-08T10:57:31.703Z"
   },
   {
    "duration": 0,
    "start_time": "2024-02-08T10:57:31.704Z"
   },
   {
    "duration": 1,
    "start_time": "2024-02-08T10:57:31.705Z"
   },
   {
    "duration": 0,
    "start_time": "2024-02-08T10:57:31.706Z"
   },
   {
    "duration": 0,
    "start_time": "2024-02-08T10:57:31.707Z"
   },
   {
    "duration": 0,
    "start_time": "2024-02-08T10:57:31.708Z"
   },
   {
    "duration": 0,
    "start_time": "2024-02-08T10:57:31.709Z"
   },
   {
    "duration": 0,
    "start_time": "2024-02-08T10:57:31.711Z"
   },
   {
    "duration": 0,
    "start_time": "2024-02-08T10:57:31.712Z"
   },
   {
    "duration": 9,
    "start_time": "2024-02-08T11:00:05.060Z"
   },
   {
    "duration": 9,
    "start_time": "2024-02-08T11:00:08.874Z"
   },
   {
    "duration": 11,
    "start_time": "2024-02-08T11:02:08.428Z"
   },
   {
    "duration": 9,
    "start_time": "2024-02-08T11:02:27.369Z"
   },
   {
    "duration": 4,
    "start_time": "2024-02-08T11:02:31.308Z"
   },
   {
    "duration": 35,
    "start_time": "2024-02-08T11:06:23.349Z"
   },
   {
    "duration": 9,
    "start_time": "2024-02-08T11:06:30.841Z"
   },
   {
    "duration": 8,
    "start_time": "2024-02-08T11:06:57.334Z"
   },
   {
    "duration": 15,
    "start_time": "2024-02-08T11:07:13.076Z"
   },
   {
    "duration": 679,
    "start_time": "2024-02-08T11:07:49.176Z"
   },
   {
    "duration": 1448,
    "start_time": "2024-02-08T11:07:55.447Z"
   },
   {
    "duration": 57,
    "start_time": "2024-02-08T11:07:56.896Z"
   },
   {
    "duration": 13,
    "start_time": "2024-02-08T11:07:56.955Z"
   },
   {
    "duration": 43,
    "start_time": "2024-02-08T11:07:56.970Z"
   },
   {
    "duration": 23,
    "start_time": "2024-02-08T11:07:57.015Z"
   },
   {
    "duration": 38,
    "start_time": "2024-02-08T11:07:57.040Z"
   },
   {
    "duration": 43,
    "start_time": "2024-02-08T11:07:57.080Z"
   },
   {
    "duration": 52,
    "start_time": "2024-02-08T11:07:57.125Z"
   },
   {
    "duration": 78,
    "start_time": "2024-02-08T11:07:57.179Z"
   },
   {
    "duration": 31,
    "start_time": "2024-02-08T11:07:57.259Z"
   },
   {
    "duration": 52,
    "start_time": "2024-02-08T11:07:57.291Z"
   },
   {
    "duration": 37,
    "start_time": "2024-02-08T11:07:57.344Z"
   },
   {
    "duration": 67,
    "start_time": "2024-02-08T11:07:57.382Z"
   },
   {
    "duration": 34,
    "start_time": "2024-02-08T11:07:57.452Z"
   },
   {
    "duration": 45,
    "start_time": "2024-02-08T11:07:57.487Z"
   },
   {
    "duration": 31,
    "start_time": "2024-02-08T11:07:57.534Z"
   },
   {
    "duration": 46,
    "start_time": "2024-02-08T11:07:57.566Z"
   },
   {
    "duration": 25,
    "start_time": "2024-02-08T11:07:57.614Z"
   },
   {
    "duration": 57,
    "start_time": "2024-02-08T11:07:57.640Z"
   },
   {
    "duration": 52,
    "start_time": "2024-02-08T11:07:57.699Z"
   },
   {
    "duration": 4,
    "start_time": "2024-02-08T11:07:57.752Z"
   },
   {
    "duration": 8,
    "start_time": "2024-02-08T11:07:57.757Z"
   },
   {
    "duration": 821,
    "start_time": "2024-02-08T11:07:57.766Z"
   },
   {
    "duration": 97,
    "start_time": "2024-02-08T11:07:58.592Z"
   },
   {
    "duration": 47,
    "start_time": "2024-02-08T11:07:58.690Z"
   },
   {
    "duration": 39,
    "start_time": "2024-02-08T11:07:58.739Z"
   },
   {
    "duration": 805,
    "start_time": "2024-02-08T11:07:58.779Z"
   },
   {
    "duration": 102,
    "start_time": "2024-02-08T11:07:59.587Z"
   },
   {
    "duration": 13,
    "start_time": "2024-02-08T11:07:59.691Z"
   },
   {
    "duration": 89,
    "start_time": "2024-02-08T11:07:59.706Z"
   },
   {
    "duration": 4,
    "start_time": "2024-02-08T11:07:59.796Z"
   },
   {
    "duration": 46,
    "start_time": "2024-02-08T11:07:59.801Z"
   },
   {
    "duration": 731,
    "start_time": "2024-02-08T11:07:59.849Z"
   },
   {
    "duration": 10,
    "start_time": "2024-02-08T11:08:00.582Z"
   },
   {
    "duration": 48,
    "start_time": "2024-02-08T11:08:00.594Z"
   },
   {
    "duration": 130,
    "start_time": "2024-02-08T11:08:00.683Z"
   },
   {
    "duration": 81,
    "start_time": "2024-02-08T11:08:00.815Z"
   },
   {
    "duration": 38,
    "start_time": "2024-02-08T11:08:00.982Z"
   },
   {
    "duration": 35,
    "start_time": "2024-02-08T11:08:01.022Z"
   },
   {
    "duration": 164,
    "start_time": "2024-02-08T11:08:01.059Z"
   },
   {
    "duration": 131,
    "start_time": "2024-02-08T11:08:01.227Z"
   },
   {
    "duration": 119,
    "start_time": "2024-02-08T11:08:01.359Z"
   },
   {
    "duration": 824,
    "start_time": "2024-02-08T11:08:01.479Z"
   },
   {
    "duration": 1182,
    "start_time": "2024-02-08T11:08:02.305Z"
   },
   {
    "duration": 206,
    "start_time": "2024-02-08T11:08:03.489Z"
   },
   {
    "duration": 910,
    "start_time": "2024-02-08T11:08:03.697Z"
   },
   {
    "duration": 80,
    "start_time": "2024-02-08T11:08:04.609Z"
   },
   {
    "duration": 192,
    "start_time": "2024-02-08T11:08:04.691Z"
   },
   {
    "duration": 781,
    "start_time": "2024-02-08T11:08:04.886Z"
   },
   {
    "duration": 52,
    "start_time": "2024-02-08T11:08:05.669Z"
   },
   {
    "duration": 44,
    "start_time": "2024-02-08T11:08:05.723Z"
   },
   {
    "duration": 124,
    "start_time": "2024-02-08T11:08:05.768Z"
   },
   {
    "duration": 39388,
    "start_time": "2024-02-08T11:08:05.894Z"
   },
   {
    "duration": 14,
    "start_time": "2024-02-08T11:08:45.284Z"
   },
   {
    "duration": 584,
    "start_time": "2024-02-08T11:08:45.299Z"
   },
   {
    "duration": 52,
    "start_time": "2024-02-08T11:08:45.885Z"
   },
   {
    "duration": 6,
    "start_time": "2024-02-08T11:08:45.939Z"
   },
   {
    "duration": 41,
    "start_time": "2024-02-08T11:08:45.946Z"
   },
   {
    "duration": 60,
    "start_time": "2024-02-08T11:08:45.989Z"
   },
   {
    "duration": 265,
    "start_time": "2024-02-08T11:08:46.051Z"
   },
   {
    "duration": 1440,
    "start_time": "2024-02-08T11:20:48.174Z"
   },
   {
    "duration": 58,
    "start_time": "2024-02-08T11:20:49.616Z"
   },
   {
    "duration": 14,
    "start_time": "2024-02-08T11:20:49.675Z"
   },
   {
    "duration": 22,
    "start_time": "2024-02-08T11:20:49.691Z"
   },
   {
    "duration": 16,
    "start_time": "2024-02-08T11:20:49.714Z"
   },
   {
    "duration": 20,
    "start_time": "2024-02-08T11:20:49.732Z"
   },
   {
    "duration": 52,
    "start_time": "2024-02-08T11:20:49.754Z"
   },
   {
    "duration": 49,
    "start_time": "2024-02-08T11:20:49.808Z"
   },
   {
    "duration": 58,
    "start_time": "2024-02-08T11:20:49.859Z"
   },
   {
    "duration": 4,
    "start_time": "2024-02-08T11:20:49.920Z"
   },
   {
    "duration": 27,
    "start_time": "2024-02-08T11:20:49.925Z"
   },
   {
    "duration": 6,
    "start_time": "2024-02-08T11:20:49.954Z"
   },
   {
    "duration": 15,
    "start_time": "2024-02-08T11:20:49.962Z"
   },
   {
    "duration": 7,
    "start_time": "2024-02-08T11:20:49.979Z"
   },
   {
    "duration": 40,
    "start_time": "2024-02-08T11:20:49.987Z"
   },
   {
    "duration": 40,
    "start_time": "2024-02-08T11:20:50.028Z"
   },
   {
    "duration": 37,
    "start_time": "2024-02-08T11:20:50.070Z"
   },
   {
    "duration": 19,
    "start_time": "2024-02-08T11:20:50.109Z"
   },
   {
    "duration": 31,
    "start_time": "2024-02-08T11:20:50.129Z"
   },
   {
    "duration": 66,
    "start_time": "2024-02-08T11:20:50.162Z"
   },
   {
    "duration": 4,
    "start_time": "2024-02-08T11:20:50.230Z"
   },
   {
    "duration": 38,
    "start_time": "2024-02-08T11:20:50.235Z"
   },
   {
    "duration": 740,
    "start_time": "2024-02-08T11:20:50.275Z"
   },
   {
    "duration": 99,
    "start_time": "2024-02-08T11:20:51.084Z"
   },
   {
    "duration": 7,
    "start_time": "2024-02-08T11:20:51.185Z"
   },
   {
    "duration": 6,
    "start_time": "2024-02-08T11:20:51.194Z"
   },
   {
    "duration": 781,
    "start_time": "2024-02-08T11:20:51.202Z"
   },
   {
    "duration": 95,
    "start_time": "2024-02-08T11:20:51.989Z"
   },
   {
    "duration": 19,
    "start_time": "2024-02-08T11:20:52.086Z"
   },
   {
    "duration": 36,
    "start_time": "2024-02-08T11:20:52.106Z"
   },
   {
    "duration": 3,
    "start_time": "2024-02-08T11:20:52.144Z"
   },
   {
    "duration": 35,
    "start_time": "2024-02-08T11:20:52.149Z"
   },
   {
    "duration": 694,
    "start_time": "2024-02-08T11:20:52.186Z"
   },
   {
    "duration": 12,
    "start_time": "2024-02-08T11:20:52.882Z"
   },
   {
    "duration": 88,
    "start_time": "2024-02-08T11:20:52.896Z"
   },
   {
    "duration": 103,
    "start_time": "2024-02-08T11:20:52.986Z"
   },
   {
    "duration": 92,
    "start_time": "2024-02-08T11:20:53.091Z"
   },
   {
    "duration": 99,
    "start_time": "2024-02-08T11:20:53.186Z"
   },
   {
    "duration": 12,
    "start_time": "2024-02-08T11:20:53.286Z"
   },
   {
    "duration": 29,
    "start_time": "2024-02-08T11:20:53.300Z"
   },
   {
    "duration": 7,
    "start_time": "2024-02-08T11:20:53.330Z"
   },
   {
    "duration": 12,
    "start_time": "2024-02-08T11:20:53.338Z"
   },
   {
    "duration": 764,
    "start_time": "2024-02-08T11:20:53.352Z"
   },
   {
    "duration": 1094,
    "start_time": "2024-02-08T11:20:54.118Z"
   },
   {
    "duration": 142,
    "start_time": "2024-02-08T11:20:55.287Z"
   },
   {
    "duration": 920,
    "start_time": "2024-02-08T11:20:55.431Z"
   },
   {
    "duration": 132,
    "start_time": "2024-02-08T11:20:56.353Z"
   },
   {
    "duration": 200,
    "start_time": "2024-02-08T11:20:56.487Z"
   },
   {
    "duration": 757,
    "start_time": "2024-02-08T11:20:56.690Z"
   },
   {
    "duration": 53,
    "start_time": "2024-02-08T11:20:57.448Z"
   },
   {
    "duration": 6,
    "start_time": "2024-02-08T11:20:57.503Z"
   },
   {
    "duration": 9,
    "start_time": "2024-02-08T11:20:57.510Z"
   },
   {
    "duration": 39252,
    "start_time": "2024-02-08T11:20:57.521Z"
   },
   {
    "duration": 14,
    "start_time": "2024-02-08T11:21:36.781Z"
   },
   {
    "duration": 552,
    "start_time": "2024-02-08T11:21:36.796Z"
   },
   {
    "duration": 58,
    "start_time": "2024-02-08T11:21:37.349Z"
   },
   {
    "duration": 6,
    "start_time": "2024-02-08T11:21:37.409Z"
   },
   {
    "duration": 12,
    "start_time": "2024-02-08T11:21:37.416Z"
   },
   {
    "duration": 71,
    "start_time": "2024-02-08T11:21:37.429Z"
   },
   {
    "duration": 307,
    "start_time": "2024-02-08T11:21:37.501Z"
   },
   {
    "duration": 10,
    "start_time": "2024-02-08T11:28:54.117Z"
   },
   {
    "duration": 553,
    "start_time": "2024-02-08T11:29:18.988Z"
   },
   {
    "duration": 53,
    "start_time": "2024-02-08T11:29:24.225Z"
   },
   {
    "duration": 3915,
    "start_time": "2024-02-08T11:34:17.283Z"
   },
   {
    "duration": 11,
    "start_time": "2024-02-08T11:34:21.200Z"
   },
   {
    "duration": 3,
    "start_time": "2024-02-08T11:34:36.391Z"
   },
   {
    "duration": 5,
    "start_time": "2024-02-08T11:34:41.391Z"
   },
   {
    "duration": 111,
    "start_time": "2024-02-08T11:34:52.293Z"
   },
   {
    "duration": 3914,
    "start_time": "2024-02-08T11:35:14.028Z"
   },
   {
    "duration": 8,
    "start_time": "2024-02-08T11:35:17.944Z"
   },
   {
    "duration": 4004,
    "start_time": "2024-02-08T11:36:09.672Z"
   },
   {
    "duration": 230,
    "start_time": "2024-02-08T11:36:35.297Z"
   },
   {
    "duration": 3997,
    "start_time": "2024-02-08T11:37:22.050Z"
   },
   {
    "duration": 12,
    "start_time": "2024-02-08T11:37:43.371Z"
   },
   {
    "duration": 1289,
    "start_time": "2024-02-08T11:38:43.195Z"
   },
   {
    "duration": 12,
    "start_time": "2024-02-08T11:39:14.297Z"
   },
   {
    "duration": 11,
    "start_time": "2024-02-08T11:39:16.594Z"
   },
   {
    "duration": 22,
    "start_time": "2024-02-08T11:40:01.787Z"
   },
   {
    "duration": 14,
    "start_time": "2024-02-08T11:40:05.255Z"
   },
   {
    "duration": 180,
    "start_time": "2024-02-08T11:42:33.789Z"
   },
   {
    "duration": 9,
    "start_time": "2024-02-08T11:44:03.573Z"
   },
   {
    "duration": 1373,
    "start_time": "2024-02-08T11:45:25.023Z"
   },
   {
    "duration": 55,
    "start_time": "2024-02-08T11:45:26.398Z"
   },
   {
    "duration": 14,
    "start_time": "2024-02-08T11:45:26.455Z"
   },
   {
    "duration": 7,
    "start_time": "2024-02-08T11:45:26.471Z"
   },
   {
    "duration": 5,
    "start_time": "2024-02-08T11:45:26.482Z"
   },
   {
    "duration": 21,
    "start_time": "2024-02-08T11:45:26.489Z"
   },
   {
    "duration": 19,
    "start_time": "2024-02-08T11:45:26.512Z"
   },
   {
    "duration": 14,
    "start_time": "2024-02-08T11:45:26.533Z"
   },
   {
    "duration": 36,
    "start_time": "2024-02-08T11:45:26.549Z"
   },
   {
    "duration": 5,
    "start_time": "2024-02-08T11:45:26.587Z"
   },
   {
    "duration": 16,
    "start_time": "2024-02-08T11:45:26.593Z"
   },
   {
    "duration": 4,
    "start_time": "2024-02-08T11:45:26.611Z"
   },
   {
    "duration": 9,
    "start_time": "2024-02-08T11:45:26.617Z"
   },
   {
    "duration": 9,
    "start_time": "2024-02-08T11:45:26.627Z"
   },
   {
    "duration": 3,
    "start_time": "2024-02-08T11:45:26.637Z"
   },
   {
    "duration": 17,
    "start_time": "2024-02-08T11:45:26.641Z"
   },
   {
    "duration": 44,
    "start_time": "2024-02-08T11:45:26.659Z"
   },
   {
    "duration": 19,
    "start_time": "2024-02-08T11:45:26.704Z"
   },
   {
    "duration": 19,
    "start_time": "2024-02-08T11:45:26.725Z"
   },
   {
    "duration": 77,
    "start_time": "2024-02-08T11:45:26.746Z"
   },
   {
    "duration": 3,
    "start_time": "2024-02-08T11:45:26.824Z"
   },
   {
    "duration": 10,
    "start_time": "2024-02-08T11:45:26.829Z"
   },
   {
    "duration": 745,
    "start_time": "2024-02-08T11:45:26.840Z"
   },
   {
    "duration": 100,
    "start_time": "2024-02-08T11:45:27.587Z"
   },
   {
    "duration": 93,
    "start_time": "2024-02-08T11:45:27.690Z"
   },
   {
    "duration": 5,
    "start_time": "2024-02-08T11:45:27.785Z"
   },
   {
    "duration": 794,
    "start_time": "2024-02-08T11:45:27.791Z"
   },
   {
    "duration": 7,
    "start_time": "2024-02-08T11:45:28.591Z"
   },
   {
    "duration": 83,
    "start_time": "2024-02-08T11:45:28.601Z"
   },
   {
    "duration": 201,
    "start_time": "2024-02-08T11:45:28.686Z"
   },
   {
    "duration": 8,
    "start_time": "2024-02-08T11:45:28.889Z"
   },
   {
    "duration": 8,
    "start_time": "2024-02-08T11:45:28.899Z"
   },
   {
    "duration": 15,
    "start_time": "2024-02-08T11:45:28.908Z"
   },
   {
    "duration": 3998,
    "start_time": "2024-02-08T11:45:28.925Z"
   },
   {
    "duration": 12,
    "start_time": "2024-02-08T11:45:32.925Z"
   },
   {
    "duration": 48,
    "start_time": "2024-02-08T11:45:32.938Z"
   },
   {
    "duration": 103,
    "start_time": "2024-02-08T11:45:32.987Z"
   },
   {
    "duration": 90,
    "start_time": "2024-02-08T11:45:33.092Z"
   },
   {
    "duration": 101,
    "start_time": "2024-02-08T11:45:33.185Z"
   },
   {
    "duration": 28,
    "start_time": "2024-02-08T11:45:33.288Z"
   },
   {
    "duration": 32,
    "start_time": "2024-02-08T11:45:33.318Z"
   },
   {
    "duration": 18,
    "start_time": "2024-02-08T11:45:33.352Z"
   },
   {
    "duration": 11,
    "start_time": "2024-02-08T11:45:33.371Z"
   },
   {
    "duration": 899,
    "start_time": "2024-02-08T11:45:33.384Z"
   },
   {
    "duration": 1045,
    "start_time": "2024-02-08T11:45:34.286Z"
   },
   {
    "duration": 135,
    "start_time": "2024-02-08T11:45:35.383Z"
   },
   {
    "duration": 925,
    "start_time": "2024-02-08T11:45:35.519Z"
   },
   {
    "duration": 43,
    "start_time": "2024-02-08T11:45:36.446Z"
   },
   {
    "duration": 203,
    "start_time": "2024-02-08T11:45:36.582Z"
   },
   {
    "duration": 780,
    "start_time": "2024-02-08T11:45:36.791Z"
   },
   {
    "duration": 53,
    "start_time": "2024-02-08T11:45:37.572Z"
   },
   {
    "duration": 6,
    "start_time": "2024-02-08T11:45:37.627Z"
   },
   {
    "duration": 28,
    "start_time": "2024-02-08T11:45:37.635Z"
   },
   {
    "duration": 26332,
    "start_time": "2024-02-08T11:45:37.665Z"
   },
   {
    "duration": 16,
    "start_time": "2024-02-08T11:46:03.999Z"
   },
   {
    "duration": 587,
    "start_time": "2024-02-08T11:46:04.016Z"
   },
   {
    "duration": 54,
    "start_time": "2024-02-08T11:46:04.605Z"
   },
   {
    "duration": 7,
    "start_time": "2024-02-08T11:46:04.661Z"
   },
   {
    "duration": 20,
    "start_time": "2024-02-08T11:46:04.670Z"
   },
   {
    "duration": 57,
    "start_time": "2024-02-08T11:46:04.692Z"
   },
   {
    "duration": 285,
    "start_time": "2024-02-08T11:46:04.750Z"
   },
   {
    "duration": 66,
    "start_time": "2024-02-09T09:21:12.659Z"
   },
   {
    "duration": 1673,
    "start_time": "2024-02-09T09:21:19.545Z"
   },
   {
    "duration": 101,
    "start_time": "2024-02-09T09:21:21.221Z"
   },
   {
    "duration": 16,
    "start_time": "2024-02-09T09:21:21.324Z"
   },
   {
    "duration": 8,
    "start_time": "2024-02-09T09:21:21.342Z"
   },
   {
    "duration": 6,
    "start_time": "2024-02-09T09:21:21.352Z"
   },
   {
    "duration": 8,
    "start_time": "2024-02-09T09:21:21.360Z"
   },
   {
    "duration": 18,
    "start_time": "2024-02-09T09:21:21.370Z"
   },
   {
    "duration": 20,
    "start_time": "2024-02-09T09:21:21.424Z"
   },
   {
    "duration": 37,
    "start_time": "2024-02-09T09:21:21.446Z"
   },
   {
    "duration": 5,
    "start_time": "2024-02-09T09:21:21.485Z"
   },
   {
    "duration": 7,
    "start_time": "2024-02-09T09:21:21.493Z"
   },
   {
    "duration": 6,
    "start_time": "2024-02-09T09:21:21.526Z"
   },
   {
    "duration": 13,
    "start_time": "2024-02-09T09:21:21.534Z"
   },
   {
    "duration": 7,
    "start_time": "2024-02-09T09:21:21.550Z"
   },
   {
    "duration": 17,
    "start_time": "2024-02-09T09:21:21.559Z"
   },
   {
    "duration": 18,
    "start_time": "2024-02-09T09:21:21.578Z"
   },
   {
    "duration": 34,
    "start_time": "2024-02-09T09:21:21.597Z"
   },
   {
    "duration": 20,
    "start_time": "2024-02-09T09:21:21.633Z"
   },
   {
    "duration": 20,
    "start_time": "2024-02-09T09:21:21.654Z"
   },
   {
    "duration": 84,
    "start_time": "2024-02-09T09:21:21.675Z"
   },
   {
    "duration": 4,
    "start_time": "2024-02-09T09:21:21.760Z"
   },
   {
    "duration": 5,
    "start_time": "2024-02-09T09:21:21.765Z"
   },
   {
    "duration": 853,
    "start_time": "2024-02-09T09:21:21.771Z"
   },
   {
    "duration": 94,
    "start_time": "2024-02-09T09:21:22.630Z"
   },
   {
    "duration": 6,
    "start_time": "2024-02-09T09:21:22.726Z"
   },
   {
    "duration": 5,
    "start_time": "2024-02-09T09:21:22.734Z"
   },
   {
    "duration": 788,
    "start_time": "2024-02-09T09:21:22.741Z"
   },
   {
    "duration": 91,
    "start_time": "2024-02-09T09:21:23.533Z"
   },
   {
    "duration": 6,
    "start_time": "2024-02-09T09:21:23.626Z"
   },
   {
    "duration": 257,
    "start_time": "2024-02-09T09:21:23.634Z"
   },
   {
    "duration": 9,
    "start_time": "2024-02-09T09:21:23.893Z"
   },
   {
    "duration": 20,
    "start_time": "2024-02-09T09:21:23.904Z"
   },
   {
    "duration": 18,
    "start_time": "2024-02-09T09:21:23.926Z"
   },
   {
    "duration": 4061,
    "start_time": "2024-02-09T09:21:23.945Z"
   },
   {
    "duration": 17,
    "start_time": "2024-02-09T09:21:28.007Z"
   },
   {
    "duration": 102,
    "start_time": "2024-02-09T09:21:28.026Z"
   },
   {
    "duration": 102,
    "start_time": "2024-02-09T09:21:28.130Z"
   },
   {
    "duration": 4,
    "start_time": "2024-02-09T09:21:28.234Z"
   },
   {
    "duration": 9,
    "start_time": "2024-02-09T09:21:28.324Z"
   },
   {
    "duration": 7,
    "start_time": "2024-02-09T09:21:28.335Z"
   },
   {
    "duration": 20,
    "start_time": "2024-02-09T09:21:28.347Z"
   },
   {
    "duration": 59,
    "start_time": "2024-02-09T09:21:28.369Z"
   },
   {
    "duration": 13,
    "start_time": "2024-02-09T09:21:28.430Z"
   },
   {
    "duration": 788,
    "start_time": "2024-02-09T09:21:28.445Z"
   },
   {
    "duration": 1188,
    "start_time": "2024-02-09T09:21:29.236Z"
   },
   {
    "duration": 131,
    "start_time": "2024-02-09T09:21:30.426Z"
   },
   {
    "duration": 964,
    "start_time": "2024-02-09T09:21:30.559Z"
   },
   {
    "duration": 101,
    "start_time": "2024-02-09T09:21:31.525Z"
   },
   {
    "duration": 201,
    "start_time": "2024-02-09T09:21:31.629Z"
   },
   {
    "duration": 823,
    "start_time": "2024-02-09T09:21:31.833Z"
   },
   {
    "duration": 48,
    "start_time": "2024-02-09T09:21:32.658Z"
   },
   {
    "duration": 19,
    "start_time": "2024-02-09T09:21:32.708Z"
   },
   {
    "duration": 11,
    "start_time": "2024-02-09T09:21:32.729Z"
   },
   {
    "duration": 26982,
    "start_time": "2024-02-09T09:21:32.741Z"
   },
   {
    "duration": 16,
    "start_time": "2024-02-09T09:21:59.725Z"
   },
   {
    "duration": 599,
    "start_time": "2024-02-09T09:21:59.743Z"
   },
   {
    "duration": 52,
    "start_time": "2024-02-09T09:22:00.344Z"
   },
   {
    "duration": 7,
    "start_time": "2024-02-09T09:22:00.399Z"
   },
   {
    "duration": 35,
    "start_time": "2024-02-09T09:22:00.424Z"
   },
   {
    "duration": 98,
    "start_time": "2024-02-09T09:22:00.461Z"
   },
   {
    "duration": 289,
    "start_time": "2024-02-09T09:22:00.561Z"
   },
   {
    "duration": 48,
    "start_time": "2024-02-09T09:22:08.735Z"
   },
   {
    "duration": 125,
    "start_time": "2024-02-09T09:26:18.124Z"
   },
   {
    "duration": 10,
    "start_time": "2024-02-09T09:27:30.910Z"
   },
   {
    "duration": 12,
    "start_time": "2024-02-09T09:27:43.398Z"
   },
   {
    "duration": 8,
    "start_time": "2024-02-09T09:27:54.072Z"
   },
   {
    "duration": 7,
    "start_time": "2024-02-09T09:27:56.458Z"
   },
   {
    "duration": 9,
    "start_time": "2024-02-09T09:28:04.250Z"
   },
   {
    "duration": 7,
    "start_time": "2024-02-09T09:36:48.767Z"
   },
   {
    "duration": 15,
    "start_time": "2024-02-09T09:36:50.998Z"
   },
   {
    "duration": 14,
    "start_time": "2024-02-09T09:36:53.654Z"
   },
   {
    "duration": 13,
    "start_time": "2024-02-09T09:37:05.408Z"
   },
   {
    "duration": 12,
    "start_time": "2024-02-09T09:37:10.144Z"
   },
   {
    "duration": 8,
    "start_time": "2024-02-09T09:37:15.548Z"
   },
   {
    "duration": 8,
    "start_time": "2024-02-09T09:37:31.759Z"
   },
   {
    "duration": 20,
    "start_time": "2024-02-09T09:37:33.648Z"
   },
   {
    "duration": 8,
    "start_time": "2024-02-09T09:38:42.499Z"
   },
   {
    "duration": 8,
    "start_time": "2024-02-09T09:38:49.950Z"
   },
   {
    "duration": 6,
    "start_time": "2024-02-09T09:38:51.801Z"
   },
   {
    "duration": 9,
    "start_time": "2024-02-09T09:38:53.335Z"
   },
   {
    "duration": 194,
    "start_time": "2024-02-09T09:39:34.385Z"
   },
   {
    "duration": 6,
    "start_time": "2024-02-09T09:39:57.343Z"
   },
   {
    "duration": 9,
    "start_time": "2024-02-09T09:39:59.126Z"
   },
   {
    "duration": 1415,
    "start_time": "2024-02-09T09:40:07.474Z"
   },
   {
    "duration": 57,
    "start_time": "2024-02-09T09:40:08.891Z"
   },
   {
    "duration": 13,
    "start_time": "2024-02-09T09:40:08.950Z"
   },
   {
    "duration": 12,
    "start_time": "2024-02-09T09:40:08.965Z"
   },
   {
    "duration": 4,
    "start_time": "2024-02-09T09:40:08.979Z"
   },
   {
    "duration": 6,
    "start_time": "2024-02-09T09:40:08.985Z"
   },
   {
    "duration": 38,
    "start_time": "2024-02-09T09:40:08.992Z"
   },
   {
    "duration": 14,
    "start_time": "2024-02-09T09:40:09.031Z"
   },
   {
    "duration": 74,
    "start_time": "2024-02-09T09:40:09.047Z"
   },
   {
    "duration": 4,
    "start_time": "2024-02-09T09:40:09.124Z"
   },
   {
    "duration": 9,
    "start_time": "2024-02-09T09:40:09.130Z"
   },
   {
    "duration": 12,
    "start_time": "2024-02-09T09:40:09.141Z"
   },
   {
    "duration": 10,
    "start_time": "2024-02-09T09:40:09.155Z"
   },
   {
    "duration": 8,
    "start_time": "2024-02-09T09:40:09.167Z"
   },
   {
    "duration": 4,
    "start_time": "2024-02-09T09:40:09.176Z"
   },
   {
    "duration": 10,
    "start_time": "2024-02-09T09:40:09.182Z"
   },
   {
    "duration": 23,
    "start_time": "2024-02-09T09:40:09.223Z"
   },
   {
    "duration": 20,
    "start_time": "2024-02-09T09:40:09.248Z"
   },
   {
    "duration": 35,
    "start_time": "2024-02-09T09:40:09.270Z"
   },
   {
    "duration": 52,
    "start_time": "2024-02-09T09:40:09.308Z"
   },
   {
    "duration": 3,
    "start_time": "2024-02-09T09:40:09.362Z"
   },
   {
    "duration": 11,
    "start_time": "2024-02-09T09:40:09.366Z"
   },
   {
    "duration": 758,
    "start_time": "2024-02-09T09:40:09.379Z"
   },
   {
    "duration": 185,
    "start_time": "2024-02-09T09:40:10.139Z"
   },
   {
    "duration": 6,
    "start_time": "2024-02-09T09:40:10.326Z"
   },
   {
    "duration": 13,
    "start_time": "2024-02-09T09:40:10.333Z"
   },
   {
    "duration": 778,
    "start_time": "2024-02-09T09:40:10.347Z"
   },
   {
    "duration": 93,
    "start_time": "2024-02-09T09:40:11.131Z"
   },
   {
    "duration": 9,
    "start_time": "2024-02-09T09:40:11.226Z"
   },
   {
    "duration": 221,
    "start_time": "2024-02-09T09:40:11.236Z"
   },
   {
    "duration": 7,
    "start_time": "2024-02-09T09:40:11.458Z"
   },
   {
    "duration": 126,
    "start_time": "2024-02-09T09:40:11.466Z"
   },
   {
    "duration": 0,
    "start_time": "2024-02-09T09:40:11.593Z"
   },
   {
    "duration": 0,
    "start_time": "2024-02-09T09:40:11.595Z"
   },
   {
    "duration": 0,
    "start_time": "2024-02-09T09:40:11.596Z"
   },
   {
    "duration": 0,
    "start_time": "2024-02-09T09:40:11.598Z"
   },
   {
    "duration": 0,
    "start_time": "2024-02-09T09:40:11.599Z"
   },
   {
    "duration": 0,
    "start_time": "2024-02-09T09:40:11.600Z"
   },
   {
    "duration": 0,
    "start_time": "2024-02-09T09:40:11.602Z"
   },
   {
    "duration": 0,
    "start_time": "2024-02-09T09:40:11.603Z"
   },
   {
    "duration": 0,
    "start_time": "2024-02-09T09:40:11.604Z"
   },
   {
    "duration": 0,
    "start_time": "2024-02-09T09:40:11.622Z"
   },
   {
    "duration": 0,
    "start_time": "2024-02-09T09:40:11.624Z"
   },
   {
    "duration": 0,
    "start_time": "2024-02-09T09:40:11.625Z"
   },
   {
    "duration": 0,
    "start_time": "2024-02-09T09:40:11.626Z"
   },
   {
    "duration": 0,
    "start_time": "2024-02-09T09:40:11.627Z"
   },
   {
    "duration": 0,
    "start_time": "2024-02-09T09:40:11.629Z"
   },
   {
    "duration": 0,
    "start_time": "2024-02-09T09:40:11.630Z"
   },
   {
    "duration": 0,
    "start_time": "2024-02-09T09:40:11.631Z"
   },
   {
    "duration": 0,
    "start_time": "2024-02-09T09:40:11.632Z"
   },
   {
    "duration": 0,
    "start_time": "2024-02-09T09:40:11.633Z"
   },
   {
    "duration": 0,
    "start_time": "2024-02-09T09:40:11.634Z"
   },
   {
    "duration": 0,
    "start_time": "2024-02-09T09:40:11.635Z"
   },
   {
    "duration": 0,
    "start_time": "2024-02-09T09:40:11.637Z"
   },
   {
    "duration": 0,
    "start_time": "2024-02-09T09:40:11.638Z"
   },
   {
    "duration": 0,
    "start_time": "2024-02-09T09:40:11.640Z"
   },
   {
    "duration": 0,
    "start_time": "2024-02-09T09:40:11.641Z"
   },
   {
    "duration": 0,
    "start_time": "2024-02-09T09:40:11.641Z"
   },
   {
    "duration": 0,
    "start_time": "2024-02-09T09:40:11.643Z"
   },
   {
    "duration": 0,
    "start_time": "2024-02-09T09:40:11.644Z"
   },
   {
    "duration": 0,
    "start_time": "2024-02-09T09:40:11.645Z"
   },
   {
    "duration": 0,
    "start_time": "2024-02-09T09:40:11.646Z"
   },
   {
    "duration": 114,
    "start_time": "2024-02-09T09:44:30.311Z"
   },
   {
    "duration": 690,
    "start_time": "2024-02-09T09:44:31.777Z"
   },
   {
    "duration": 40,
    "start_time": "2024-02-09T09:44:35.184Z"
   },
   {
    "duration": 15,
    "start_time": "2024-02-09T09:46:25.531Z"
   },
   {
    "duration": 1489,
    "start_time": "2024-02-09T09:46:36.192Z"
   },
   {
    "duration": 60,
    "start_time": "2024-02-09T09:46:37.683Z"
   },
   {
    "duration": 14,
    "start_time": "2024-02-09T09:46:37.744Z"
   },
   {
    "duration": 7,
    "start_time": "2024-02-09T09:46:37.760Z"
   },
   {
    "duration": 4,
    "start_time": "2024-02-09T09:46:37.769Z"
   },
   {
    "duration": 9,
    "start_time": "2024-02-09T09:46:37.774Z"
   },
   {
    "duration": 40,
    "start_time": "2024-02-09T09:46:37.784Z"
   },
   {
    "duration": 14,
    "start_time": "2024-02-09T09:46:37.825Z"
   },
   {
    "duration": 20,
    "start_time": "2024-02-09T09:46:37.841Z"
   },
   {
    "duration": 4,
    "start_time": "2024-02-09T09:46:37.864Z"
   },
   {
    "duration": 8,
    "start_time": "2024-02-09T09:46:37.869Z"
   },
   {
    "duration": 4,
    "start_time": "2024-02-09T09:46:37.879Z"
   },
   {
    "duration": 44,
    "start_time": "2024-02-09T09:46:37.885Z"
   },
   {
    "duration": 7,
    "start_time": "2024-02-09T09:46:37.931Z"
   },
   {
    "duration": 15,
    "start_time": "2024-02-09T09:46:37.940Z"
   },
   {
    "duration": 11,
    "start_time": "2024-02-09T09:46:37.956Z"
   },
   {
    "duration": 25,
    "start_time": "2024-02-09T09:46:37.969Z"
   },
   {
    "duration": 36,
    "start_time": "2024-02-09T09:46:37.996Z"
   },
   {
    "duration": 20,
    "start_time": "2024-02-09T09:46:38.033Z"
   },
   {
    "duration": 45,
    "start_time": "2024-02-09T09:46:38.055Z"
   },
   {
    "duration": 4,
    "start_time": "2024-02-09T09:46:38.122Z"
   },
   {
    "duration": 9,
    "start_time": "2024-02-09T09:46:38.128Z"
   },
   {
    "duration": 783,
    "start_time": "2024-02-09T09:46:38.139Z"
   },
   {
    "duration": 98,
    "start_time": "2024-02-09T09:46:38.928Z"
   },
   {
    "duration": 7,
    "start_time": "2024-02-09T09:46:39.028Z"
   },
   {
    "duration": 5,
    "start_time": "2024-02-09T09:46:39.037Z"
   },
   {
    "duration": 810,
    "start_time": "2024-02-09T09:46:39.043Z"
   },
   {
    "duration": 69,
    "start_time": "2024-02-09T09:46:39.858Z"
   },
   {
    "duration": 96,
    "start_time": "2024-02-09T09:46:39.930Z"
   },
   {
    "duration": 329,
    "start_time": "2024-02-09T09:46:40.028Z"
   },
   {
    "duration": 7,
    "start_time": "2024-02-09T09:46:40.358Z"
   },
   {
    "duration": 128,
    "start_time": "2024-02-09T09:46:40.366Z"
   },
   {
    "duration": 0,
    "start_time": "2024-02-09T09:46:40.496Z"
   },
   {
    "duration": 0,
    "start_time": "2024-02-09T09:46:40.497Z"
   },
   {
    "duration": 0,
    "start_time": "2024-02-09T09:46:40.499Z"
   },
   {
    "duration": 0,
    "start_time": "2024-02-09T09:46:40.500Z"
   },
   {
    "duration": 0,
    "start_time": "2024-02-09T09:46:40.501Z"
   },
   {
    "duration": 0,
    "start_time": "2024-02-09T09:46:40.502Z"
   },
   {
    "duration": 0,
    "start_time": "2024-02-09T09:46:40.503Z"
   },
   {
    "duration": 0,
    "start_time": "2024-02-09T09:46:40.504Z"
   },
   {
    "duration": 0,
    "start_time": "2024-02-09T09:46:40.505Z"
   },
   {
    "duration": 0,
    "start_time": "2024-02-09T09:46:40.506Z"
   },
   {
    "duration": 0,
    "start_time": "2024-02-09T09:46:40.523Z"
   },
   {
    "duration": 0,
    "start_time": "2024-02-09T09:46:40.524Z"
   },
   {
    "duration": 0,
    "start_time": "2024-02-09T09:46:40.526Z"
   },
   {
    "duration": 0,
    "start_time": "2024-02-09T09:46:40.527Z"
   },
   {
    "duration": 0,
    "start_time": "2024-02-09T09:46:40.528Z"
   },
   {
    "duration": 0,
    "start_time": "2024-02-09T09:46:40.530Z"
   },
   {
    "duration": 0,
    "start_time": "2024-02-09T09:46:40.531Z"
   },
   {
    "duration": 0,
    "start_time": "2024-02-09T09:46:40.532Z"
   },
   {
    "duration": 0,
    "start_time": "2024-02-09T09:46:40.533Z"
   },
   {
    "duration": 0,
    "start_time": "2024-02-09T09:46:40.534Z"
   },
   {
    "duration": 0,
    "start_time": "2024-02-09T09:46:40.535Z"
   },
   {
    "duration": 0,
    "start_time": "2024-02-09T09:46:40.536Z"
   },
   {
    "duration": 0,
    "start_time": "2024-02-09T09:46:40.537Z"
   },
   {
    "duration": 0,
    "start_time": "2024-02-09T09:46:40.538Z"
   },
   {
    "duration": 0,
    "start_time": "2024-02-09T09:46:40.539Z"
   },
   {
    "duration": 0,
    "start_time": "2024-02-09T09:46:40.540Z"
   },
   {
    "duration": 0,
    "start_time": "2024-02-09T09:46:40.541Z"
   },
   {
    "duration": 0,
    "start_time": "2024-02-09T09:46:40.542Z"
   },
   {
    "duration": 0,
    "start_time": "2024-02-09T09:46:40.543Z"
   },
   {
    "duration": 0,
    "start_time": "2024-02-09T09:46:40.544Z"
   },
   {
    "duration": 6,
    "start_time": "2024-02-09T09:53:04.238Z"
   },
   {
    "duration": 20,
    "start_time": "2024-02-09T09:53:09.777Z"
   },
   {
    "duration": 6,
    "start_time": "2024-02-09T09:53:11.574Z"
   },
   {
    "duration": 7,
    "start_time": "2024-02-09T09:53:31.814Z"
   },
   {
    "duration": 6,
    "start_time": "2024-02-09T09:53:34.328Z"
   },
   {
    "duration": 19,
    "start_time": "2024-02-09T09:53:36.588Z"
   },
   {
    "duration": 9,
    "start_time": "2024-02-09T09:53:59.757Z"
   },
   {
    "duration": 3,
    "start_time": "2024-02-09T09:54:42.718Z"
   },
   {
    "duration": 18,
    "start_time": "2024-02-09T09:54:45.877Z"
   },
   {
    "duration": 6,
    "start_time": "2024-02-09T09:54:49.063Z"
   },
   {
    "duration": 19,
    "start_time": "2024-02-09T09:54:52.250Z"
   },
   {
    "duration": 7,
    "start_time": "2024-02-09T09:54:53.800Z"
   },
   {
    "duration": 7,
    "start_time": "2024-02-09T09:56:52.107Z"
   },
   {
    "duration": 6,
    "start_time": "2024-02-09T09:57:00.992Z"
   },
   {
    "duration": 18,
    "start_time": "2024-02-09T09:57:03.897Z"
   },
   {
    "duration": 370,
    "start_time": "2024-02-09T09:57:49.485Z"
   },
   {
    "duration": 69,
    "start_time": "2024-02-09T09:58:47.564Z"
   },
   {
    "duration": 65,
    "start_time": "2024-02-09T09:58:58.515Z"
   },
   {
    "duration": 113,
    "start_time": "2024-02-09T09:59:07.130Z"
   },
   {
    "duration": 28,
    "start_time": "2024-02-09T09:59:17.040Z"
   },
   {
    "duration": 48,
    "start_time": "2024-02-10T08:53:29.890Z"
   },
   {
    "duration": 1473,
    "start_time": "2024-02-10T08:53:39.453Z"
   },
   {
    "duration": 97,
    "start_time": "2024-02-10T08:53:40.928Z"
   },
   {
    "duration": 13,
    "start_time": "2024-02-10T08:53:41.027Z"
   },
   {
    "duration": 7,
    "start_time": "2024-02-10T08:53:41.042Z"
   },
   {
    "duration": 3,
    "start_time": "2024-02-10T08:53:41.051Z"
   },
   {
    "duration": 6,
    "start_time": "2024-02-10T08:53:41.056Z"
   },
   {
    "duration": 11,
    "start_time": "2024-02-10T08:53:41.064Z"
   },
   {
    "duration": 12,
    "start_time": "2024-02-10T08:53:41.076Z"
   },
   {
    "duration": 24,
    "start_time": "2024-02-10T08:53:41.090Z"
   },
   {
    "duration": 4,
    "start_time": "2024-02-10T08:53:41.117Z"
   },
   {
    "duration": 6,
    "start_time": "2024-02-10T08:53:41.123Z"
   },
   {
    "duration": 36,
    "start_time": "2024-02-10T08:53:41.130Z"
   },
   {
    "duration": 8,
    "start_time": "2024-02-10T08:53:41.167Z"
   },
   {
    "duration": 6,
    "start_time": "2024-02-10T08:53:41.177Z"
   },
   {
    "duration": 8,
    "start_time": "2024-02-10T08:53:41.184Z"
   },
   {
    "duration": 11,
    "start_time": "2024-02-10T08:53:41.194Z"
   },
   {
    "duration": 23,
    "start_time": "2024-02-10T08:53:41.207Z"
   },
   {
    "duration": 19,
    "start_time": "2024-02-10T08:53:41.265Z"
   },
   {
    "duration": 18,
    "start_time": "2024-02-10T08:53:41.285Z"
   },
   {
    "duration": 65,
    "start_time": "2024-02-10T08:53:41.305Z"
   },
   {
    "duration": 4,
    "start_time": "2024-02-10T08:53:41.371Z"
   },
   {
    "duration": 4,
    "start_time": "2024-02-10T08:53:41.376Z"
   },
   {
    "duration": 688,
    "start_time": "2024-02-10T08:53:41.382Z"
   },
   {
    "duration": 94,
    "start_time": "2024-02-10T08:53:42.072Z"
   },
   {
    "duration": 5,
    "start_time": "2024-02-10T08:53:42.168Z"
   },
   {
    "duration": 4,
    "start_time": "2024-02-10T08:53:42.175Z"
   },
   {
    "duration": 785,
    "start_time": "2024-02-10T08:53:42.181Z"
   },
   {
    "duration": 95,
    "start_time": "2024-02-10T08:53:42.971Z"
   },
   {
    "duration": 7,
    "start_time": "2024-02-10T08:53:43.067Z"
   },
   {
    "duration": 186,
    "start_time": "2024-02-10T08:53:43.075Z"
   },
   {
    "duration": 240,
    "start_time": "2024-02-10T08:53:43.264Z"
   },
   {
    "duration": 0,
    "start_time": "2024-02-10T08:53:43.506Z"
   },
   {
    "duration": 0,
    "start_time": "2024-02-10T08:53:43.507Z"
   },
   {
    "duration": 0,
    "start_time": "2024-02-10T08:53:43.508Z"
   },
   {
    "duration": 0,
    "start_time": "2024-02-10T08:53:43.509Z"
   },
   {
    "duration": 0,
    "start_time": "2024-02-10T08:53:43.510Z"
   },
   {
    "duration": 0,
    "start_time": "2024-02-10T08:53:43.511Z"
   },
   {
    "duration": 0,
    "start_time": "2024-02-10T08:53:43.512Z"
   },
   {
    "duration": 0,
    "start_time": "2024-02-10T08:53:43.513Z"
   },
   {
    "duration": 0,
    "start_time": "2024-02-10T08:53:43.515Z"
   },
   {
    "duration": 1,
    "start_time": "2024-02-10T08:53:43.515Z"
   },
   {
    "duration": 0,
    "start_time": "2024-02-10T08:53:43.517Z"
   },
   {
    "duration": 0,
    "start_time": "2024-02-10T08:53:43.517Z"
   },
   {
    "duration": 0,
    "start_time": "2024-02-10T08:53:43.518Z"
   },
   {
    "duration": 0,
    "start_time": "2024-02-10T08:53:43.519Z"
   },
   {
    "duration": 0,
    "start_time": "2024-02-10T08:53:43.520Z"
   },
   {
    "duration": 0,
    "start_time": "2024-02-10T08:53:43.521Z"
   },
   {
    "duration": 0,
    "start_time": "2024-02-10T08:53:43.523Z"
   },
   {
    "duration": 0,
    "start_time": "2024-02-10T08:53:43.524Z"
   },
   {
    "duration": 0,
    "start_time": "2024-02-10T08:53:43.526Z"
   },
   {
    "duration": 0,
    "start_time": "2024-02-10T08:53:43.527Z"
   },
   {
    "duration": 0,
    "start_time": "2024-02-10T08:53:43.528Z"
   },
   {
    "duration": 0,
    "start_time": "2024-02-10T08:53:43.530Z"
   },
   {
    "duration": 0,
    "start_time": "2024-02-10T08:53:43.565Z"
   },
   {
    "duration": 0,
    "start_time": "2024-02-10T08:53:43.567Z"
   },
   {
    "duration": 0,
    "start_time": "2024-02-10T08:53:43.568Z"
   },
   {
    "duration": 0,
    "start_time": "2024-02-10T08:53:43.569Z"
   },
   {
    "duration": 0,
    "start_time": "2024-02-10T08:53:43.571Z"
   },
   {
    "duration": 0,
    "start_time": "2024-02-10T08:53:43.572Z"
   },
   {
    "duration": 0,
    "start_time": "2024-02-10T08:53:43.573Z"
   },
   {
    "duration": 0,
    "start_time": "2024-02-10T08:53:43.575Z"
   },
   {
    "duration": 148,
    "start_time": "2024-02-10T08:55:04.941Z"
   },
   {
    "duration": 134,
    "start_time": "2024-02-10T08:55:45.985Z"
   },
   {
    "duration": 136,
    "start_time": "2024-02-10T08:55:50.479Z"
   },
   {
    "duration": 9,
    "start_time": "2024-02-10T08:56:00.260Z"
   },
   {
    "duration": 9,
    "start_time": "2024-02-10T08:58:30.567Z"
   },
   {
    "duration": 146,
    "start_time": "2024-02-10T08:58:44.408Z"
   },
   {
    "duration": 9,
    "start_time": "2024-02-10T08:58:46.683Z"
   },
   {
    "duration": 141,
    "start_time": "2024-02-10T08:59:44.119Z"
   },
   {
    "duration": 20,
    "start_time": "2024-02-10T09:00:29.760Z"
   },
   {
    "duration": 72,
    "start_time": "2024-02-10T09:00:59.136Z"
   },
   {
    "duration": 150,
    "start_time": "2024-02-10T09:01:35.960Z"
   },
   {
    "duration": 148,
    "start_time": "2024-02-10T09:01:47.584Z"
   },
   {
    "duration": 143,
    "start_time": "2024-02-10T09:01:52.514Z"
   },
   {
    "duration": 141,
    "start_time": "2024-02-10T09:02:14.410Z"
   },
   {
    "duration": 7,
    "start_time": "2024-02-10T09:02:16.275Z"
   },
   {
    "duration": 16,
    "start_time": "2024-02-10T09:02:23.649Z"
   },
   {
    "duration": 9,
    "start_time": "2024-02-10T09:02:40.832Z"
   },
   {
    "duration": 10,
    "start_time": "2024-02-10T09:05:13.275Z"
   },
   {
    "duration": 154,
    "start_time": "2024-02-10T09:20:45.106Z"
   },
   {
    "duration": 152,
    "start_time": "2024-02-10T09:21:06.828Z"
   },
   {
    "duration": 166,
    "start_time": "2024-02-10T09:22:01.392Z"
   },
   {
    "duration": 138,
    "start_time": "2024-02-10T09:22:07.787Z"
   },
   {
    "duration": 8,
    "start_time": "2024-02-10T09:22:10.416Z"
   },
   {
    "duration": 145,
    "start_time": "2024-02-10T09:22:22.596Z"
   },
   {
    "duration": 119,
    "start_time": "2024-02-10T09:26:44.982Z"
   },
   {
    "duration": 141,
    "start_time": "2024-02-10T09:31:41.303Z"
   },
   {
    "duration": 1520,
    "start_time": "2024-02-12T15:26:17.271Z"
   },
   {
    "duration": 93,
    "start_time": "2024-02-12T15:26:18.792Z"
   },
   {
    "duration": 13,
    "start_time": "2024-02-12T15:26:18.886Z"
   },
   {
    "duration": 7,
    "start_time": "2024-02-12T15:26:18.901Z"
   },
   {
    "duration": 14,
    "start_time": "2024-02-12T15:26:18.909Z"
   },
   {
    "duration": 6,
    "start_time": "2024-02-12T15:26:18.925Z"
   },
   {
    "duration": 20,
    "start_time": "2024-02-12T15:26:18.933Z"
   },
   {
    "duration": 13,
    "start_time": "2024-02-12T15:26:18.954Z"
   },
   {
    "duration": 17,
    "start_time": "2024-02-12T15:26:18.968Z"
   },
   {
    "duration": 6,
    "start_time": "2024-02-12T15:26:18.988Z"
   },
   {
    "duration": 5,
    "start_time": "2024-02-12T15:26:18.995Z"
   },
   {
    "duration": 4,
    "start_time": "2024-02-12T15:26:19.003Z"
   },
   {
    "duration": 29,
    "start_time": "2024-02-12T15:26:19.009Z"
   },
   {
    "duration": 6,
    "start_time": "2024-02-12T15:26:19.039Z"
   },
   {
    "duration": 2,
    "start_time": "2024-02-12T15:26:19.047Z"
   },
   {
    "duration": 15,
    "start_time": "2024-02-12T15:26:19.051Z"
   },
   {
    "duration": 20,
    "start_time": "2024-02-12T15:26:19.068Z"
   },
   {
    "duration": 18,
    "start_time": "2024-02-12T15:26:19.090Z"
   },
   {
    "duration": 40,
    "start_time": "2024-02-12T15:26:19.109Z"
   },
   {
    "duration": 44,
    "start_time": "2024-02-12T15:26:19.150Z"
   },
   {
    "duration": 3,
    "start_time": "2024-02-12T15:26:19.196Z"
   },
   {
    "duration": 5,
    "start_time": "2024-02-12T15:26:19.200Z"
   },
   {
    "duration": 651,
    "start_time": "2024-02-12T15:26:19.206Z"
   },
   {
    "duration": 81,
    "start_time": "2024-02-12T15:26:19.859Z"
   },
   {
    "duration": 96,
    "start_time": "2024-02-12T15:26:19.942Z"
   },
   {
    "duration": 21,
    "start_time": "2024-02-12T15:26:20.039Z"
   },
   {
    "duration": 672,
    "start_time": "2024-02-12T15:26:20.061Z"
   },
   {
    "duration": 95,
    "start_time": "2024-02-12T15:26:20.741Z"
   },
   {
    "duration": 16,
    "start_time": "2024-02-12T15:26:20.838Z"
   },
   {
    "duration": 178,
    "start_time": "2024-02-12T15:26:20.855Z"
   },
   {
    "duration": 254,
    "start_time": "2024-02-12T15:26:21.034Z"
   },
   {
    "duration": 0,
    "start_time": "2024-02-12T15:26:21.289Z"
   },
   {
    "duration": 0,
    "start_time": "2024-02-12T15:26:21.290Z"
   },
   {
    "duration": 0,
    "start_time": "2024-02-12T15:26:21.291Z"
   },
   {
    "duration": 0,
    "start_time": "2024-02-12T15:26:21.292Z"
   },
   {
    "duration": 0,
    "start_time": "2024-02-12T15:26:21.293Z"
   },
   {
    "duration": 0,
    "start_time": "2024-02-12T15:26:21.293Z"
   },
   {
    "duration": 0,
    "start_time": "2024-02-12T15:26:21.294Z"
   },
   {
    "duration": 0,
    "start_time": "2024-02-12T15:26:21.295Z"
   },
   {
    "duration": 0,
    "start_time": "2024-02-12T15:26:21.296Z"
   },
   {
    "duration": 0,
    "start_time": "2024-02-12T15:26:21.297Z"
   },
   {
    "duration": 0,
    "start_time": "2024-02-12T15:26:21.298Z"
   },
   {
    "duration": 0,
    "start_time": "2024-02-12T15:26:21.298Z"
   },
   {
    "duration": 0,
    "start_time": "2024-02-12T15:26:21.299Z"
   },
   {
    "duration": 0,
    "start_time": "2024-02-12T15:26:21.300Z"
   },
   {
    "duration": 0,
    "start_time": "2024-02-12T15:26:21.302Z"
   },
   {
    "duration": 0,
    "start_time": "2024-02-12T15:26:21.303Z"
   },
   {
    "duration": 0,
    "start_time": "2024-02-12T15:26:21.304Z"
   },
   {
    "duration": 0,
    "start_time": "2024-02-12T15:26:21.305Z"
   },
   {
    "duration": 0,
    "start_time": "2024-02-12T15:26:21.333Z"
   },
   {
    "duration": 0,
    "start_time": "2024-02-12T15:26:21.334Z"
   },
   {
    "duration": 0,
    "start_time": "2024-02-12T15:26:21.335Z"
   },
   {
    "duration": 0,
    "start_time": "2024-02-12T15:26:21.336Z"
   },
   {
    "duration": 0,
    "start_time": "2024-02-12T15:26:21.337Z"
   },
   {
    "duration": 0,
    "start_time": "2024-02-12T15:26:21.338Z"
   },
   {
    "duration": 0,
    "start_time": "2024-02-12T15:26:21.339Z"
   },
   {
    "duration": 0,
    "start_time": "2024-02-12T15:26:21.340Z"
   },
   {
    "duration": 0,
    "start_time": "2024-02-12T15:26:21.341Z"
   },
   {
    "duration": 0,
    "start_time": "2024-02-12T15:26:21.342Z"
   },
   {
    "duration": 0,
    "start_time": "2024-02-12T15:26:21.343Z"
   },
   {
    "duration": 0,
    "start_time": "2024-02-12T15:26:21.344Z"
   },
   {
    "duration": 154,
    "start_time": "2024-02-12T15:28:19.177Z"
   },
   {
    "duration": 155,
    "start_time": "2024-02-12T15:28:25.371Z"
   },
   {
    "duration": 151,
    "start_time": "2024-02-12T15:28:31.975Z"
   },
   {
    "duration": 182,
    "start_time": "2024-02-12T15:29:09.267Z"
   },
   {
    "duration": 159,
    "start_time": "2024-02-12T15:29:35.947Z"
   },
   {
    "duration": 156,
    "start_time": "2024-02-12T15:29:45.944Z"
   },
   {
    "duration": 153,
    "start_time": "2024-02-12T15:30:14.342Z"
   },
   {
    "duration": 151,
    "start_time": "2024-02-12T15:30:18.737Z"
   },
   {
    "duration": 154,
    "start_time": "2024-02-12T15:30:22.686Z"
   },
   {
    "duration": 181,
    "start_time": "2024-02-12T15:30:54.447Z"
   },
   {
    "duration": 163,
    "start_time": "2024-02-12T15:30:58.097Z"
   },
   {
    "duration": 196,
    "start_time": "2024-02-12T15:31:13.729Z"
   },
   {
    "duration": 145,
    "start_time": "2024-02-12T15:31:44.894Z"
   },
   {
    "duration": 139,
    "start_time": "2024-02-12T15:34:25.177Z"
   },
   {
    "duration": 139,
    "start_time": "2024-02-12T15:34:29.814Z"
   },
   {
    "duration": 16,
    "start_time": "2024-02-12T15:34:42.133Z"
   },
   {
    "duration": 15,
    "start_time": "2024-02-12T15:34:46.715Z"
   },
   {
    "duration": 137,
    "start_time": "2024-02-12T15:36:22.124Z"
   },
   {
    "duration": 141,
    "start_time": "2024-02-12T15:36:27.441Z"
   },
   {
    "duration": 162,
    "start_time": "2024-02-12T15:36:38.157Z"
   },
   {
    "duration": 154,
    "start_time": "2024-02-12T15:51:04.856Z"
   },
   {
    "duration": 165,
    "start_time": "2024-02-12T15:51:09.920Z"
   },
   {
    "duration": 147,
    "start_time": "2024-02-12T15:51:25.993Z"
   },
   {
    "duration": 138,
    "start_time": "2024-02-12T15:53:49.544Z"
   },
   {
    "duration": 142,
    "start_time": "2024-02-12T15:54:04.968Z"
   },
   {
    "duration": 16,
    "start_time": "2024-02-12T16:05:05.625Z"
   },
   {
    "duration": 182,
    "start_time": "2024-02-12T16:10:57.281Z"
   },
   {
    "duration": 166,
    "start_time": "2024-02-12T16:11:01.133Z"
   },
   {
    "duration": 1459,
    "start_time": "2024-02-13T18:50:58.214Z"
   },
   {
    "duration": 187,
    "start_time": "2024-02-13T18:50:59.675Z"
   },
   {
    "duration": 13,
    "start_time": "2024-02-13T18:50:59.864Z"
   },
   {
    "duration": 8,
    "start_time": "2024-02-13T18:50:59.879Z"
   },
   {
    "duration": 3,
    "start_time": "2024-02-13T18:50:59.888Z"
   },
   {
    "duration": 4,
    "start_time": "2024-02-13T18:50:59.893Z"
   },
   {
    "duration": 14,
    "start_time": "2024-02-13T18:50:59.898Z"
   },
   {
    "duration": 13,
    "start_time": "2024-02-13T18:50:59.913Z"
   },
   {
    "duration": 33,
    "start_time": "2024-02-13T18:50:59.927Z"
   },
   {
    "duration": 3,
    "start_time": "2024-02-13T18:50:59.962Z"
   },
   {
    "duration": 5,
    "start_time": "2024-02-13T18:50:59.966Z"
   },
   {
    "duration": 18,
    "start_time": "2024-02-13T18:50:59.972Z"
   },
   {
    "duration": 9,
    "start_time": "2024-02-13T18:50:59.992Z"
   },
   {
    "duration": 6,
    "start_time": "2024-02-13T18:51:00.002Z"
   },
   {
    "duration": 44,
    "start_time": "2024-02-13T18:51:00.010Z"
   },
   {
    "duration": 25,
    "start_time": "2024-02-13T18:51:00.056Z"
   },
   {
    "duration": 72,
    "start_time": "2024-02-13T18:51:00.082Z"
   },
   {
    "duration": 27,
    "start_time": "2024-02-13T18:51:00.156Z"
   },
   {
    "duration": 50,
    "start_time": "2024-02-13T18:51:00.184Z"
   },
   {
    "duration": 63,
    "start_time": "2024-02-13T18:51:00.236Z"
   },
   {
    "duration": 5,
    "start_time": "2024-02-13T18:51:00.301Z"
   },
   {
    "duration": 27,
    "start_time": "2024-02-13T18:51:00.307Z"
   },
   {
    "duration": 754,
    "start_time": "2024-02-13T18:51:00.335Z"
   },
   {
    "duration": 97,
    "start_time": "2024-02-13T18:51:01.091Z"
   },
   {
    "duration": 6,
    "start_time": "2024-02-13T18:51:01.190Z"
   },
   {
    "duration": 48,
    "start_time": "2024-02-13T18:51:01.197Z"
   },
   {
    "duration": 683,
    "start_time": "2024-02-13T18:51:01.247Z"
   },
   {
    "duration": 97,
    "start_time": "2024-02-13T18:51:01.991Z"
   },
   {
    "duration": 14,
    "start_time": "2024-02-13T18:51:02.089Z"
   },
   {
    "duration": 128,
    "start_time": "2024-02-13T18:51:02.105Z"
   },
   {
    "duration": 0,
    "start_time": "2024-02-13T18:51:02.235Z"
   },
   {
    "duration": 1,
    "start_time": "2024-02-13T18:51:02.236Z"
   },
   {
    "duration": 0,
    "start_time": "2024-02-13T18:51:02.238Z"
   },
   {
    "duration": 0,
    "start_time": "2024-02-13T18:51:02.239Z"
   },
   {
    "duration": 0,
    "start_time": "2024-02-13T18:51:02.241Z"
   },
   {
    "duration": 0,
    "start_time": "2024-02-13T18:51:02.242Z"
   },
   {
    "duration": 0,
    "start_time": "2024-02-13T18:51:02.244Z"
   },
   {
    "duration": 0,
    "start_time": "2024-02-13T18:51:02.245Z"
   },
   {
    "duration": 0,
    "start_time": "2024-02-13T18:51:02.247Z"
   },
   {
    "duration": 0,
    "start_time": "2024-02-13T18:51:02.248Z"
   },
   {
    "duration": 0,
    "start_time": "2024-02-13T18:51:02.249Z"
   },
   {
    "duration": 0,
    "start_time": "2024-02-13T18:51:02.251Z"
   },
   {
    "duration": 0,
    "start_time": "2024-02-13T18:51:02.252Z"
   },
   {
    "duration": 0,
    "start_time": "2024-02-13T18:51:02.253Z"
   },
   {
    "duration": 0,
    "start_time": "2024-02-13T18:51:02.255Z"
   },
   {
    "duration": 0,
    "start_time": "2024-02-13T18:51:02.256Z"
   },
   {
    "duration": 0,
    "start_time": "2024-02-13T18:51:02.288Z"
   },
   {
    "duration": 0,
    "start_time": "2024-02-13T18:51:02.289Z"
   },
   {
    "duration": 0,
    "start_time": "2024-02-13T18:51:02.290Z"
   },
   {
    "duration": 0,
    "start_time": "2024-02-13T18:51:02.291Z"
   },
   {
    "duration": 0,
    "start_time": "2024-02-13T18:51:02.293Z"
   },
   {
    "duration": 0,
    "start_time": "2024-02-13T18:51:02.294Z"
   },
   {
    "duration": 0,
    "start_time": "2024-02-13T18:51:02.295Z"
   },
   {
    "duration": 0,
    "start_time": "2024-02-13T18:51:02.297Z"
   },
   {
    "duration": 0,
    "start_time": "2024-02-13T18:51:02.298Z"
   },
   {
    "duration": 0,
    "start_time": "2024-02-13T18:51:02.300Z"
   },
   {
    "duration": 0,
    "start_time": "2024-02-13T18:51:02.302Z"
   },
   {
    "duration": 0,
    "start_time": "2024-02-13T18:51:02.304Z"
   },
   {
    "duration": 0,
    "start_time": "2024-02-13T18:51:02.305Z"
   },
   {
    "duration": 0,
    "start_time": "2024-02-13T18:51:02.306Z"
   },
   {
    "duration": 0,
    "start_time": "2024-02-13T18:51:02.307Z"
   },
   {
    "duration": 164,
    "start_time": "2024-02-13T18:51:27.199Z"
   },
   {
    "duration": 153,
    "start_time": "2024-02-13T18:51:43.412Z"
   },
   {
    "duration": 163,
    "start_time": "2024-02-13T18:52:38.219Z"
   },
   {
    "duration": 157,
    "start_time": "2024-02-13T18:56:43.150Z"
   },
   {
    "duration": 60,
    "start_time": "2024-02-13T18:56:55.883Z"
   },
   {
    "duration": 149,
    "start_time": "2024-02-13T18:57:05.477Z"
   },
   {
    "duration": 163,
    "start_time": "2024-02-13T18:59:58.495Z"
   },
   {
    "duration": 167,
    "start_time": "2024-02-13T19:01:06.943Z"
   },
   {
    "duration": 161,
    "start_time": "2024-02-13T19:01:20.322Z"
   },
   {
    "duration": 11,
    "start_time": "2024-02-13T19:01:38.626Z"
   },
   {
    "duration": 13,
    "start_time": "2024-02-13T19:02:49.250Z"
   },
   {
    "duration": 187798,
    "start_time": "2024-02-13T19:03:11.964Z"
   },
   {
    "duration": 1375,
    "start_time": "2024-02-13T19:06:54.353Z"
   },
   {
    "duration": 52,
    "start_time": "2024-02-13T19:06:55.730Z"
   },
   {
    "duration": 22,
    "start_time": "2024-02-13T19:06:55.783Z"
   },
   {
    "duration": 6,
    "start_time": "2024-02-13T19:06:55.807Z"
   },
   {
    "duration": 5,
    "start_time": "2024-02-13T19:06:55.814Z"
   },
   {
    "duration": 20,
    "start_time": "2024-02-13T19:06:55.820Z"
   },
   {
    "duration": 27,
    "start_time": "2024-02-13T19:06:55.842Z"
   },
   {
    "duration": 12,
    "start_time": "2024-02-13T19:06:55.870Z"
   },
   {
    "duration": 32,
    "start_time": "2024-02-13T19:06:55.883Z"
   },
   {
    "duration": 4,
    "start_time": "2024-02-13T19:06:55.917Z"
   },
   {
    "duration": 6,
    "start_time": "2024-02-13T19:06:55.922Z"
   },
   {
    "duration": 5,
    "start_time": "2024-02-13T19:06:55.929Z"
   },
   {
    "duration": 12,
    "start_time": "2024-02-13T19:06:55.935Z"
   },
   {
    "duration": 6,
    "start_time": "2024-02-13T19:06:55.948Z"
   },
   {
    "duration": 9,
    "start_time": "2024-02-13T19:06:55.955Z"
   },
   {
    "duration": 11,
    "start_time": "2024-02-13T19:06:55.965Z"
   },
   {
    "duration": 27,
    "start_time": "2024-02-13T19:06:55.987Z"
   },
   {
    "duration": 17,
    "start_time": "2024-02-13T19:06:56.016Z"
   },
   {
    "duration": 21,
    "start_time": "2024-02-13T19:06:56.034Z"
   },
   {
    "duration": 76,
    "start_time": "2024-02-13T19:06:56.057Z"
   },
   {
    "duration": 3,
    "start_time": "2024-02-13T19:06:56.134Z"
   },
   {
    "duration": 19,
    "start_time": "2024-02-13T19:06:56.139Z"
   },
   {
    "duration": 731,
    "start_time": "2024-02-13T19:06:56.159Z"
   },
   {
    "duration": 14,
    "start_time": "2024-02-13T19:06:56.892Z"
   },
   {
    "duration": 87,
    "start_time": "2024-02-13T19:06:56.909Z"
   },
   {
    "duration": 9,
    "start_time": "2024-02-13T19:06:56.999Z"
   },
   {
    "duration": 717,
    "start_time": "2024-02-13T19:06:57.087Z"
   },
   {
    "duration": 78,
    "start_time": "2024-02-13T19:06:57.812Z"
   },
   {
    "duration": 8,
    "start_time": "2024-02-13T19:06:57.893Z"
   },
   {
    "duration": 224,
    "start_time": "2024-02-13T19:06:57.903Z"
   },
   {
    "duration": 0,
    "start_time": "2024-02-13T19:06:58.129Z"
   },
   {
    "duration": 0,
    "start_time": "2024-02-13T19:06:58.130Z"
   },
   {
    "duration": 0,
    "start_time": "2024-02-13T19:06:58.131Z"
   },
   {
    "duration": 0,
    "start_time": "2024-02-13T19:06:58.132Z"
   },
   {
    "duration": 0,
    "start_time": "2024-02-13T19:06:58.134Z"
   },
   {
    "duration": 0,
    "start_time": "2024-02-13T19:06:58.135Z"
   },
   {
    "duration": 0,
    "start_time": "2024-02-13T19:06:58.136Z"
   },
   {
    "duration": 0,
    "start_time": "2024-02-13T19:06:58.138Z"
   },
   {
    "duration": 0,
    "start_time": "2024-02-13T19:06:58.139Z"
   },
   {
    "duration": 0,
    "start_time": "2024-02-13T19:06:58.140Z"
   },
   {
    "duration": 0,
    "start_time": "2024-02-13T19:06:58.142Z"
   },
   {
    "duration": 0,
    "start_time": "2024-02-13T19:06:58.143Z"
   },
   {
    "duration": 0,
    "start_time": "2024-02-13T19:06:58.144Z"
   },
   {
    "duration": 0,
    "start_time": "2024-02-13T19:06:58.146Z"
   },
   {
    "duration": 0,
    "start_time": "2024-02-13T19:06:58.147Z"
   },
   {
    "duration": 0,
    "start_time": "2024-02-13T19:06:58.148Z"
   },
   {
    "duration": 0,
    "start_time": "2024-02-13T19:06:58.150Z"
   },
   {
    "duration": 0,
    "start_time": "2024-02-13T19:06:58.151Z"
   },
   {
    "duration": 0,
    "start_time": "2024-02-13T19:06:58.192Z"
   },
   {
    "duration": 1,
    "start_time": "2024-02-13T19:06:58.194Z"
   },
   {
    "duration": 0,
    "start_time": "2024-02-13T19:06:58.196Z"
   },
   {
    "duration": 0,
    "start_time": "2024-02-13T19:06:58.197Z"
   },
   {
    "duration": 0,
    "start_time": "2024-02-13T19:06:58.199Z"
   },
   {
    "duration": 0,
    "start_time": "2024-02-13T19:06:58.202Z"
   },
   {
    "duration": 0,
    "start_time": "2024-02-13T19:06:58.204Z"
   },
   {
    "duration": 0,
    "start_time": "2024-02-13T19:06:58.205Z"
   },
   {
    "duration": 0,
    "start_time": "2024-02-13T19:06:58.206Z"
   },
   {
    "duration": 0,
    "start_time": "2024-02-13T19:06:58.207Z"
   },
   {
    "duration": 0,
    "start_time": "2024-02-13T19:06:58.208Z"
   },
   {
    "duration": 0,
    "start_time": "2024-02-13T19:06:58.210Z"
   },
   {
    "duration": 0,
    "start_time": "2024-02-13T19:06:58.211Z"
   },
   {
    "duration": 211,
    "start_time": "2024-02-13T19:07:45.758Z"
   },
   {
    "duration": 1362,
    "start_time": "2024-02-13T19:07:53.927Z"
   },
   {
    "duration": 58,
    "start_time": "2024-02-13T19:07:55.291Z"
   },
   {
    "duration": 12,
    "start_time": "2024-02-13T19:07:55.351Z"
   },
   {
    "duration": 6,
    "start_time": "2024-02-13T19:07:55.365Z"
   },
   {
    "duration": 4,
    "start_time": "2024-02-13T19:07:55.372Z"
   },
   {
    "duration": 4,
    "start_time": "2024-02-13T19:07:55.377Z"
   },
   {
    "duration": 13,
    "start_time": "2024-02-13T19:07:55.382Z"
   },
   {
    "duration": 16,
    "start_time": "2024-02-13T19:07:55.399Z"
   },
   {
    "duration": 18,
    "start_time": "2024-02-13T19:07:55.417Z"
   },
   {
    "duration": 3,
    "start_time": "2024-02-13T19:07:55.437Z"
   },
   {
    "duration": 7,
    "start_time": "2024-02-13T19:07:55.442Z"
   },
   {
    "duration": 7,
    "start_time": "2024-02-13T19:07:55.450Z"
   },
   {
    "duration": 36,
    "start_time": "2024-02-13T19:07:55.458Z"
   },
   {
    "duration": 9,
    "start_time": "2024-02-13T19:07:55.496Z"
   },
   {
    "duration": 2,
    "start_time": "2024-02-13T19:07:55.506Z"
   },
   {
    "duration": 15,
    "start_time": "2024-02-13T19:07:55.509Z"
   },
   {
    "duration": 21,
    "start_time": "2024-02-13T19:07:55.526Z"
   },
   {
    "duration": 17,
    "start_time": "2024-02-13T19:07:55.548Z"
   },
   {
    "duration": 24,
    "start_time": "2024-02-13T19:07:55.587Z"
   },
   {
    "duration": 41,
    "start_time": "2024-02-13T19:07:55.612Z"
   },
   {
    "duration": 3,
    "start_time": "2024-02-13T19:07:55.655Z"
   },
   {
    "duration": 29,
    "start_time": "2024-02-13T19:07:55.659Z"
   },
   {
    "duration": 702,
    "start_time": "2024-02-13T19:07:55.689Z"
   },
   {
    "duration": 95,
    "start_time": "2024-02-13T19:07:56.394Z"
   },
   {
    "duration": 85,
    "start_time": "2024-02-13T19:07:56.506Z"
   },
   {
    "duration": 8,
    "start_time": "2024-02-13T19:07:56.593Z"
   },
   {
    "duration": 785,
    "start_time": "2024-02-13T19:07:56.604Z"
   },
   {
    "duration": 96,
    "start_time": "2024-02-13T19:07:57.395Z"
   },
   {
    "duration": 8,
    "start_time": "2024-02-13T19:07:57.494Z"
   },
   {
    "duration": 222,
    "start_time": "2024-02-13T19:07:57.504Z"
   },
   {
    "duration": 172,
    "start_time": "2024-02-13T19:07:57.728Z"
   },
   {
    "duration": 1316,
    "start_time": "2024-02-13T19:10:20.159Z"
   },
   {
    "duration": 55,
    "start_time": "2024-02-13T19:10:21.477Z"
   },
   {
    "duration": 13,
    "start_time": "2024-02-13T19:10:21.533Z"
   },
   {
    "duration": 6,
    "start_time": "2024-02-13T19:10:21.548Z"
   },
   {
    "duration": 5,
    "start_time": "2024-02-13T19:10:21.555Z"
   },
   {
    "duration": 9,
    "start_time": "2024-02-13T19:10:21.561Z"
   },
   {
    "duration": 17,
    "start_time": "2024-02-13T19:10:21.572Z"
   },
   {
    "duration": 12,
    "start_time": "2024-02-13T19:10:21.591Z"
   },
   {
    "duration": 26,
    "start_time": "2024-02-13T19:10:21.605Z"
   },
   {
    "duration": 4,
    "start_time": "2024-02-13T19:10:21.633Z"
   },
   {
    "duration": 8,
    "start_time": "2024-02-13T19:10:21.638Z"
   },
   {
    "duration": 15,
    "start_time": "2024-02-13T19:10:21.647Z"
   },
   {
    "duration": 24,
    "start_time": "2024-02-13T19:10:21.663Z"
   },
   {
    "duration": 8,
    "start_time": "2024-02-13T19:10:21.689Z"
   },
   {
    "duration": 23,
    "start_time": "2024-02-13T19:10:21.699Z"
   },
   {
    "duration": 30,
    "start_time": "2024-02-13T19:10:21.723Z"
   },
   {
    "duration": 38,
    "start_time": "2024-02-13T19:10:21.754Z"
   },
   {
    "duration": 21,
    "start_time": "2024-02-13T19:10:21.793Z"
   },
   {
    "duration": 21,
    "start_time": "2024-02-13T19:10:21.815Z"
   },
   {
    "duration": 57,
    "start_time": "2024-02-13T19:10:21.837Z"
   },
   {
    "duration": 3,
    "start_time": "2024-02-13T19:10:21.895Z"
   },
   {
    "duration": 22,
    "start_time": "2024-02-13T19:10:21.900Z"
   },
   {
    "duration": 668,
    "start_time": "2024-02-13T19:10:21.924Z"
   },
   {
    "duration": 95,
    "start_time": "2024-02-13T19:10:22.594Z"
   },
   {
    "duration": 96,
    "start_time": "2024-02-13T19:10:22.692Z"
   },
   {
    "duration": 4,
    "start_time": "2024-02-13T19:10:22.790Z"
   },
   {
    "duration": 697,
    "start_time": "2024-02-13T19:10:22.795Z"
   },
   {
    "duration": 93,
    "start_time": "2024-02-13T19:10:23.497Z"
   },
   {
    "duration": 6,
    "start_time": "2024-02-13T19:10:23.592Z"
   },
   {
    "duration": 292,
    "start_time": "2024-02-13T19:10:23.600Z"
   },
   {
    "duration": 161,
    "start_time": "2024-02-13T19:10:23.894Z"
   },
   {
    "duration": 7,
    "start_time": "2024-02-13T19:10:24.057Z"
   },
   {
    "duration": 197119,
    "start_time": "2024-02-13T19:10:24.066Z"
   },
   {
    "duration": 0,
    "start_time": "2024-02-13T19:13:41.314Z"
   },
   {
    "duration": 0,
    "start_time": "2024-02-13T19:13:41.316Z"
   },
   {
    "duration": 0,
    "start_time": "2024-02-13T19:13:41.317Z"
   },
   {
    "duration": 0,
    "start_time": "2024-02-13T19:13:41.318Z"
   },
   {
    "duration": 0,
    "start_time": "2024-02-13T19:13:41.319Z"
   },
   {
    "duration": 0,
    "start_time": "2024-02-13T19:13:41.320Z"
   },
   {
    "duration": 1,
    "start_time": "2024-02-13T19:13:41.320Z"
   },
   {
    "duration": 0,
    "start_time": "2024-02-13T19:13:41.322Z"
   },
   {
    "duration": 0,
    "start_time": "2024-02-13T19:13:41.323Z"
   },
   {
    "duration": 0,
    "start_time": "2024-02-13T19:13:41.324Z"
   },
   {
    "duration": 0,
    "start_time": "2024-02-13T19:13:41.325Z"
   },
   {
    "duration": 0,
    "start_time": "2024-02-13T19:13:41.326Z"
   },
   {
    "duration": 0,
    "start_time": "2024-02-13T19:13:41.328Z"
   },
   {
    "duration": 0,
    "start_time": "2024-02-13T19:13:41.329Z"
   },
   {
    "duration": 0,
    "start_time": "2024-02-13T19:13:41.330Z"
   },
   {
    "duration": 0,
    "start_time": "2024-02-13T19:13:41.331Z"
   },
   {
    "duration": 0,
    "start_time": "2024-02-13T19:13:41.332Z"
   },
   {
    "duration": 0,
    "start_time": "2024-02-13T19:13:41.333Z"
   },
   {
    "duration": 0,
    "start_time": "2024-02-13T19:13:41.335Z"
   },
   {
    "duration": 0,
    "start_time": "2024-02-13T19:13:41.336Z"
   },
   {
    "duration": 0,
    "start_time": "2024-02-13T19:13:41.337Z"
   },
   {
    "duration": 1,
    "start_time": "2024-02-13T19:13:41.338Z"
   },
   {
    "duration": 0,
    "start_time": "2024-02-13T19:13:41.340Z"
   },
   {
    "duration": 0,
    "start_time": "2024-02-13T19:13:41.341Z"
   },
   {
    "duration": 0,
    "start_time": "2024-02-13T19:13:41.342Z"
   },
   {
    "duration": 0,
    "start_time": "2024-02-13T19:13:41.342Z"
   },
   {
    "duration": 0,
    "start_time": "2024-02-13T19:13:41.343Z"
   },
   {
    "duration": 1621,
    "start_time": "2024-02-15T17:57:04.856Z"
   },
   {
    "duration": 94,
    "start_time": "2024-02-15T17:57:06.479Z"
   },
   {
    "duration": 11,
    "start_time": "2024-02-15T17:57:06.574Z"
   },
   {
    "duration": 6,
    "start_time": "2024-02-15T17:57:06.587Z"
   },
   {
    "duration": 5,
    "start_time": "2024-02-15T17:57:06.594Z"
   },
   {
    "duration": 19,
    "start_time": "2024-02-15T17:57:06.600Z"
   },
   {
    "duration": 10,
    "start_time": "2024-02-15T17:57:06.620Z"
   },
   {
    "duration": 10,
    "start_time": "2024-02-15T17:57:06.632Z"
   },
   {
    "duration": 17,
    "start_time": "2024-02-15T17:57:06.643Z"
   },
   {
    "duration": 4,
    "start_time": "2024-02-15T17:57:06.662Z"
   },
   {
    "duration": 6,
    "start_time": "2024-02-15T17:57:06.667Z"
   },
   {
    "duration": 8,
    "start_time": "2024-02-15T17:57:06.674Z"
   },
   {
    "duration": 9,
    "start_time": "2024-02-15T17:57:06.683Z"
   },
   {
    "duration": 7,
    "start_time": "2024-02-15T17:57:06.693Z"
   },
   {
    "duration": 2,
    "start_time": "2024-02-15T17:57:06.701Z"
   },
   {
    "duration": 10,
    "start_time": "2024-02-15T17:57:06.705Z"
   },
   {
    "duration": 45,
    "start_time": "2024-02-15T17:57:06.717Z"
   },
   {
    "duration": 17,
    "start_time": "2024-02-15T17:57:06.763Z"
   },
   {
    "duration": 17,
    "start_time": "2024-02-15T17:57:06.782Z"
   },
   {
    "duration": 69,
    "start_time": "2024-02-15T17:57:06.800Z"
   },
   {
    "duration": 3,
    "start_time": "2024-02-15T17:57:06.871Z"
   },
   {
    "duration": 10,
    "start_time": "2024-02-15T17:57:06.876Z"
   },
   {
    "duration": 658,
    "start_time": "2024-02-15T17:57:06.888Z"
   },
   {
    "duration": 98,
    "start_time": "2024-02-15T17:57:07.548Z"
   },
   {
    "duration": 5,
    "start_time": "2024-02-15T17:57:07.648Z"
   },
   {
    "duration": 21,
    "start_time": "2024-02-15T17:57:07.654Z"
   },
   {
    "duration": 670,
    "start_time": "2024-02-15T17:57:07.676Z"
   },
   {
    "duration": 95,
    "start_time": "2024-02-15T17:57:08.351Z"
   },
   {
    "duration": 23,
    "start_time": "2024-02-15T17:57:08.447Z"
   },
   {
    "duration": 174,
    "start_time": "2024-02-15T17:57:08.471Z"
   },
   {
    "duration": 145,
    "start_time": "2024-02-15T17:57:08.646Z"
   },
   {
    "duration": 7,
    "start_time": "2024-02-15T17:57:08.792Z"
   },
   {
    "duration": 163855,
    "start_time": "2024-02-15T17:57:08.800Z"
   },
   {
    "duration": 100,
    "start_time": "2024-02-15T17:59:52.656Z"
   },
   {
    "duration": 0,
    "start_time": "2024-02-15T17:59:52.758Z"
   },
   {
    "duration": 0,
    "start_time": "2024-02-15T17:59:52.759Z"
   },
   {
    "duration": 0,
    "start_time": "2024-02-15T17:59:52.760Z"
   },
   {
    "duration": 0,
    "start_time": "2024-02-15T17:59:52.761Z"
   },
   {
    "duration": 0,
    "start_time": "2024-02-15T17:59:52.762Z"
   },
   {
    "duration": 0,
    "start_time": "2024-02-15T17:59:52.764Z"
   },
   {
    "duration": 0,
    "start_time": "2024-02-15T17:59:52.764Z"
   },
   {
    "duration": 0,
    "start_time": "2024-02-15T17:59:52.765Z"
   },
   {
    "duration": 1,
    "start_time": "2024-02-15T17:59:52.766Z"
   },
   {
    "duration": 0,
    "start_time": "2024-02-15T17:59:52.768Z"
   },
   {
    "duration": 0,
    "start_time": "2024-02-15T17:59:52.769Z"
   },
   {
    "duration": 0,
    "start_time": "2024-02-15T17:59:52.770Z"
   },
   {
    "duration": 0,
    "start_time": "2024-02-15T17:59:52.771Z"
   },
   {
    "duration": 0,
    "start_time": "2024-02-15T17:59:52.772Z"
   },
   {
    "duration": 0,
    "start_time": "2024-02-15T17:59:52.773Z"
   },
   {
    "duration": 0,
    "start_time": "2024-02-15T17:59:52.774Z"
   },
   {
    "duration": 0,
    "start_time": "2024-02-15T17:59:52.775Z"
   },
   {
    "duration": 0,
    "start_time": "2024-02-15T17:59:52.776Z"
   },
   {
    "duration": 0,
    "start_time": "2024-02-15T17:59:52.777Z"
   },
   {
    "duration": 0,
    "start_time": "2024-02-15T17:59:52.778Z"
   },
   {
    "duration": 0,
    "start_time": "2024-02-15T17:59:52.779Z"
   },
   {
    "duration": 0,
    "start_time": "2024-02-15T17:59:52.781Z"
   },
   {
    "duration": 0,
    "start_time": "2024-02-15T17:59:52.782Z"
   },
   {
    "duration": 0,
    "start_time": "2024-02-15T17:59:52.783Z"
   },
   {
    "duration": 0,
    "start_time": "2024-02-15T17:59:52.784Z"
   },
   {
    "duration": 0,
    "start_time": "2024-02-15T17:59:52.785Z"
   },
   {
    "duration": 1506,
    "start_time": "2024-02-15T18:13:08.915Z"
   },
   {
    "duration": 53,
    "start_time": "2024-02-15T18:13:10.422Z"
   },
   {
    "duration": 12,
    "start_time": "2024-02-15T18:13:10.476Z"
   },
   {
    "duration": 6,
    "start_time": "2024-02-15T18:13:10.489Z"
   },
   {
    "duration": 3,
    "start_time": "2024-02-15T18:13:10.497Z"
   },
   {
    "duration": 6,
    "start_time": "2024-02-15T18:13:10.501Z"
   },
   {
    "duration": 12,
    "start_time": "2024-02-15T18:13:10.508Z"
   },
   {
    "duration": 31,
    "start_time": "2024-02-15T18:13:10.522Z"
   },
   {
    "duration": 15,
    "start_time": "2024-02-15T18:13:10.554Z"
   },
   {
    "duration": 10,
    "start_time": "2024-02-15T18:13:10.571Z"
   },
   {
    "duration": 20,
    "start_time": "2024-02-15T18:13:10.582Z"
   },
   {
    "duration": 13,
    "start_time": "2024-02-15T18:13:10.604Z"
   },
   {
    "duration": 11,
    "start_time": "2024-02-15T18:13:10.619Z"
   },
   {
    "duration": 6,
    "start_time": "2024-02-15T18:13:10.632Z"
   },
   {
    "duration": 2,
    "start_time": "2024-02-15T18:13:10.640Z"
   },
   {
    "duration": 8,
    "start_time": "2024-02-15T18:13:10.643Z"
   },
   {
    "duration": 17,
    "start_time": "2024-02-15T18:13:10.652Z"
   },
   {
    "duration": 15,
    "start_time": "2024-02-15T18:13:10.670Z"
   },
   {
    "duration": 19,
    "start_time": "2024-02-15T18:13:10.686Z"
   },
   {
    "duration": 60,
    "start_time": "2024-02-15T18:13:10.706Z"
   },
   {
    "duration": 3,
    "start_time": "2024-02-15T18:13:10.768Z"
   },
   {
    "duration": 18,
    "start_time": "2024-02-15T18:13:10.772Z"
   },
   {
    "duration": 613,
    "start_time": "2024-02-15T18:13:10.792Z"
   },
   {
    "duration": 100,
    "start_time": "2024-02-15T18:13:11.446Z"
   },
   {
    "duration": 5,
    "start_time": "2024-02-15T18:13:11.548Z"
   },
   {
    "duration": 5,
    "start_time": "2024-02-15T18:13:11.554Z"
   },
   {
    "duration": 603,
    "start_time": "2024-02-15T18:13:11.560Z"
   },
   {
    "duration": 84,
    "start_time": "2024-02-15T18:13:12.167Z"
   },
   {
    "duration": 95,
    "start_time": "2024-02-15T18:13:12.253Z"
   },
   {
    "duration": 188,
    "start_time": "2024-02-15T18:13:12.349Z"
   },
   {
    "duration": 148,
    "start_time": "2024-02-15T18:13:12.539Z"
   },
   {
    "duration": 6,
    "start_time": "2024-02-15T18:13:12.689Z"
   },
   {
    "duration": 165126,
    "start_time": "2024-02-15T18:13:12.696Z"
   },
   {
    "duration": 99,
    "start_time": "2024-02-15T18:15:57.824Z"
   },
   {
    "duration": 0,
    "start_time": "2024-02-15T18:15:57.925Z"
   },
   {
    "duration": 0,
    "start_time": "2024-02-15T18:15:57.925Z"
   },
   {
    "duration": 0,
    "start_time": "2024-02-15T18:15:57.926Z"
   },
   {
    "duration": 0,
    "start_time": "2024-02-15T18:15:57.927Z"
   },
   {
    "duration": 0,
    "start_time": "2024-02-15T18:15:57.928Z"
   },
   {
    "duration": 0,
    "start_time": "2024-02-15T18:15:57.929Z"
   },
   {
    "duration": 0,
    "start_time": "2024-02-15T18:15:57.945Z"
   },
   {
    "duration": 0,
    "start_time": "2024-02-15T18:15:57.946Z"
   },
   {
    "duration": 0,
    "start_time": "2024-02-15T18:15:57.947Z"
   },
   {
    "duration": 0,
    "start_time": "2024-02-15T18:15:57.948Z"
   },
   {
    "duration": 0,
    "start_time": "2024-02-15T18:15:57.949Z"
   },
   {
    "duration": 0,
    "start_time": "2024-02-15T18:15:57.949Z"
   },
   {
    "duration": 0,
    "start_time": "2024-02-15T18:15:57.950Z"
   },
   {
    "duration": 0,
    "start_time": "2024-02-15T18:15:57.951Z"
   },
   {
    "duration": 0,
    "start_time": "2024-02-15T18:15:57.952Z"
   },
   {
    "duration": 0,
    "start_time": "2024-02-15T18:15:57.953Z"
   },
   {
    "duration": 0,
    "start_time": "2024-02-15T18:15:57.954Z"
   },
   {
    "duration": 0,
    "start_time": "2024-02-15T18:15:57.954Z"
   },
   {
    "duration": 0,
    "start_time": "2024-02-15T18:15:57.955Z"
   },
   {
    "duration": 0,
    "start_time": "2024-02-15T18:15:57.956Z"
   },
   {
    "duration": 0,
    "start_time": "2024-02-15T18:15:57.957Z"
   },
   {
    "duration": 0,
    "start_time": "2024-02-15T18:15:57.958Z"
   },
   {
    "duration": 0,
    "start_time": "2024-02-15T18:15:57.959Z"
   },
   {
    "duration": 0,
    "start_time": "2024-02-15T18:15:57.960Z"
   },
   {
    "duration": 0,
    "start_time": "2024-02-15T18:15:57.961Z"
   },
   {
    "duration": 0,
    "start_time": "2024-02-15T18:15:57.962Z"
   }
  ],
  "kernelspec": {
   "display_name": "Python 3 (ipykernel)",
   "language": "python",
   "name": "python3"
  },
  "language_info": {
   "codemirror_mode": {
    "name": "ipython",
    "version": 3
   },
   "file_extension": ".py",
   "mimetype": "text/x-python",
   "name": "python",
   "nbconvert_exporter": "python",
   "pygments_lexer": "ipython3",
   "version": "3.9.5"
  },
  "toc": {
   "base_numbering": 1,
   "nav_menu": {},
   "number_sections": true,
   "sideBar": true,
   "skip_h1_title": true,
   "title_cell": "Содержание",
   "title_sidebar": "Contents",
   "toc_cell": true,
   "toc_position": {
    "height": "calc(100% - 180px)",
    "left": "10px",
    "top": "150px",
    "width": "409.59375px"
   },
   "toc_section_display": true,
   "toc_window_display": true
  }
 },
 "nbformat": 4,
 "nbformat_minor": 2
}
